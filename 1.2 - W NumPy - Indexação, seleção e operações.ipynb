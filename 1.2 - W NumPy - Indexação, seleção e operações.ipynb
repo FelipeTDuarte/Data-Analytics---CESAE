{
 "cells": [
  {
   "cell_type": "markdown",
   "id": "b89cae5d",
   "metadata": {},
   "source": [
    "# 1.1 - W NumPy - Indexação, seleção e operações"
   ]
  },
  {
   "cell_type": "code",
   "execution_count": 110,
   "id": "20d64f8b",
   "metadata": {},
   "outputs": [],
   "source": [
    "import numpy as np"
   ]
  },
  {
   "cell_type": "markdown",
   "id": "9c8b00c8",
   "metadata": {},
   "source": [
    "#### 1.  Ordene a matriz m1 ao longo do primeiro eixo, último eixo e na matriz achatada em array. \n",
    "#### M1 =\n",
    "#### [[10 40]\n",
    "#### [30 20]]\n"
   ]
  },
  {
   "cell_type": "code",
   "execution_count": 111,
   "id": "af887c45",
   "metadata": {},
   "outputs": [
    {
     "name": "stdout",
     "output_type": "stream",
     "text": [
      "array original:\n",
      "[[10 40]\n",
      " [30 20]]\n",
      "Ordenar o array pelo primeiro eixo:\n",
      "[[10 20]\n",
      " [30 40]]\n",
      "Ordenar o array pelo último eixo:\n",
      "[[10 40]\n",
      " [20 30]]\n",
      "Ordenar na matriz achatada:\n",
      "[10 20 30 40]\n"
     ]
    }
   ],
   "source": [
    "a = np.array([[10,40],[30,20]])\n",
    "print(\"array original:\")\n",
    "print(a)\n",
    "print(\"Ordenar o array pelo primeiro eixo:\")\n",
    "print(np.sort(a, axis=0))\n",
    "print(\"Ordenar o array pelo último eixo:\")\n",
    "print(np.sort(a))\n",
    "print(\"Ordenar na matriz achatada:\")\n",
    "print(np.sort(a, axis=None))"
   ]
  },
  {
   "cell_type": "markdown",
   "id": "101efb5e",
   "metadata": {},
   "source": [
    "#### 2.  Crie uma matriz estruturada a partir dos nomes do aluno, altura, classe e os seus tipos de dados. Agora ordene a matriz por altura. \n",
    "#### [(‘nome’, 'S15'), ('classe', int), ('altura', float)]\n",
    "#### ('James', 5, 156.), ('Nail', 6, 172.),('Paul', 5, 173.), ('Pit', 5, 164.)\n",
    "\n"
   ]
  },
  {
   "cell_type": "code",
   "execution_count": 112,
   "id": "dc614f49",
   "metadata": {},
   "outputs": [
    {
     "name": "stdout",
     "output_type": "stream",
     "text": [
      "array original:\n",
      "[(b'James', 5, 156.) (b'Nail', 6, 172.) (b'Paul', 5, 173.)\n",
      " (b'Pit', 5, 164.)]\n",
      "Ordenar por altura\n",
      "[(b'James', 5, 156.) (b'Pit', 5, 164.) (b'Nail', 6, 172.)\n",
      " (b'Paul', 5, 173.)]\n"
     ]
    }
   ],
   "source": [
    "data_type = [('nome', 'S15'), ('classe', int), ('altura', float)]\n",
    "students_details = [('James', 5, 156.), ('Nail', 6, 172.),('Paul', 5, 173.), ('Pit', 5, 164.)]\n",
    "# create a structured array\n",
    "students = np.array(students_details, dtype=data_type)   \n",
    "print(\"array original:\")\n",
    "print(students)\n",
    "print(\"Ordenar por altura\")\n",
    "print(np.sort(students, order='altura'))    "
   ]
  },
  {
   "cell_type": "markdown",
   "id": "844006ea",
   "metadata": {},
   "source": [
    "#### 3.  Agora ordene por classe e, em seguida, altura se as classes forem iguais. "
   ]
  },
  {
   "cell_type": "code",
   "execution_count": 113,
   "id": "7d6bd9aa",
   "metadata": {},
   "outputs": [
    {
     "name": "stdout",
     "output_type": "stream",
     "text": [
      "array original:\n",
      "[(b'James', 5, 156.) (b'Nail', 6, 172.) (b'Paul', 5, 173.)\n",
      " (b'Pit', 5, 164.)]\n",
      "Ordenar por class e depois por altura caso a classe seja igual\n",
      "[(b'James', 5, 156.) (b'Pit', 5, 164.) (b'Paul', 5, 173.)\n",
      " (b'Nail', 6, 172.)]\n"
     ]
    }
   ],
   "source": [
    "print(\"array original:\")\n",
    "print(students)\n",
    "print(\"Ordenar por class e depois por altura caso a classe seja igual\")\n",
    "print(np.sort(students, order=['classe', 'altura']))"
   ]
  },
  {
   "cell_type": "markdown",
   "id": "be6bfc9a",
   "metadata": {},
   "source": [
    "#### 4.  Ordene os elementos do array Ids.\n",
    "#### Ids = [1023, 5202, 6230, 1671, 1682, 5241, 4532]"
   ]
  },
  {
   "cell_type": "code",
   "execution_count": 114,
   "id": "3fc560b0",
   "metadata": {},
   "outputs": [
    {
     "data": {
      "text/plain": [
       "array([1023, 1671, 1682, 4532, 5202, 5241, 6230])"
      ]
     },
     "execution_count": 114,
     "metadata": {},
     "output_type": "execute_result"
    }
   ],
   "source": [
    "Ids = [1023, 5202, 6230, 1671, 1682, 5241, 4532]\n",
    "np.array(Ids)\n",
    "np.sort(Ids)"
   ]
  },
  {
   "cell_type": "markdown",
   "id": "4ff077be",
   "metadata": {},
   "source": [
    "#### 5.  Filtre nas posições especificadas:\n",
    "#### m3 = [ 70 50 20 30 -11 60 50 40]\n",
    "#### m4 =   [[1 5 0]\n",
    "####            [3 2 5]\n",
    "####            [8 7 6]]\n"
   ]
  },
  {
   "cell_type": "code",
   "execution_count": 115,
   "id": "3c816196",
   "metadata": {},
   "outputs": [],
   "source": [
    "m3 = [ 70, 50, 20, 30, -11, 60, 50, 40]\n",
    "m4 = [[1,5,0],[3,2,5],[8,7,6]]"
   ]
  },
  {
   "cell_type": "code",
   "execution_count": 116,
   "id": "b53ac451",
   "metadata": {},
   "outputs": [
    {
     "data": {
      "text/plain": [
       "array([ 70,  50,  20,  30, -11,  60,  50,  40])"
      ]
     },
     "execution_count": 116,
     "metadata": {},
     "output_type": "execute_result"
    }
   ],
   "source": [
    "m3 = np.array(m3)\n",
    "m3"
   ]
  },
  {
   "cell_type": "code",
   "execution_count": 117,
   "id": "96313c84",
   "metadata": {},
   "outputs": [
    {
     "data": {
      "text/plain": [
       "array([[1, 5, 0],\n",
       "       [3, 2, 5],\n",
       "       [8, 7, 6]])"
      ]
     },
     "execution_count": 117,
     "metadata": {},
     "output_type": "execute_result"
    }
   ],
   "source": [
    "m4 = np.array(m4).reshape(3,3)\n",
    "m4"
   ]
  },
  {
   "cell_type": "markdown",
   "id": "83a477cf",
   "metadata": {},
   "source": [
    "5.1. Selecione o 4º elemento de m3.\n"
   ]
  },
  {
   "cell_type": "code",
   "execution_count": 118,
   "id": "b9f33bcd",
   "metadata": {},
   "outputs": [
    {
     "data": {
      "text/plain": [
       "30"
      ]
     },
     "execution_count": 118,
     "metadata": {},
     "output_type": "execute_result"
    }
   ],
   "source": [
    "m3[3]"
   ]
  },
  {
   "cell_type": "markdown",
   "id": "1f064196",
   "metadata": {},
   "source": [
    "5.2. Selecione o elemento central de m4 (2).\n"
   ]
  },
  {
   "cell_type": "code",
   "execution_count": 119,
   "id": "08063280",
   "metadata": {},
   "outputs": [
    {
     "data": {
      "text/plain": [
       "2"
      ]
     },
     "execution_count": 119,
     "metadata": {},
     "output_type": "execute_result"
    }
   ],
   "source": [
    "m4[1,1]"
   ]
  },
  {
   "cell_type": "markdown",
   "id": "1b5d6690",
   "metadata": {},
   "source": [
    "5.3. Selecione a 2ª coluna de m4.\n"
   ]
  },
  {
   "cell_type": "code",
   "execution_count": 120,
   "id": "de46d7c5",
   "metadata": {},
   "outputs": [
    {
     "data": {
      "text/plain": [
       "array([5, 2, 7])"
      ]
     },
     "execution_count": 120,
     "metadata": {},
     "output_type": "execute_result"
    }
   ],
   "source": [
    "m4[:,1]"
   ]
  },
  {
   "cell_type": "code",
   "execution_count": 121,
   "id": "1c889823",
   "metadata": {},
   "outputs": [
    {
     "data": {
      "text/plain": [
       "array([[5],\n",
       "       [2],\n",
       "       [7]])"
      ]
     },
     "execution_count": 121,
     "metadata": {},
     "output_type": "execute_result"
    }
   ],
   "source": [
    "m4[:,1:2]"
   ]
  },
  {
   "cell_type": "markdown",
   "id": "fcbeaeb1",
   "metadata": {},
   "source": [
    "5.4. Selecione apenas as duas primeiras linhas e duas primeiras colunas de m4.\n"
   ]
  },
  {
   "cell_type": "code",
   "execution_count": 122,
   "id": "6b7f3b9b",
   "metadata": {},
   "outputs": [
    {
     "data": {
      "text/plain": [
       "array([[1, 5],\n",
       "       [3, 2]])"
      ]
     },
     "execution_count": 122,
     "metadata": {},
     "output_type": "execute_result"
    }
   ],
   "source": [
    "m4[0:2,0:2]"
   ]
  },
  {
   "cell_type": "markdown",
   "id": "0d07a3f3",
   "metadata": {},
   "source": [
    "5.5. Selecione 4 elementos de m3 a partir do elemento “20”.\n"
   ]
  },
  {
   "cell_type": "code",
   "execution_count": 123,
   "id": "f70503ab",
   "metadata": {},
   "outputs": [
    {
     "data": {
      "text/plain": [
       "array([ 20,  30, -11,  60])"
      ]
     },
     "execution_count": 123,
     "metadata": {},
     "output_type": "execute_result"
    }
   ],
   "source": [
    "m3[2:6]"
   ]
  },
  {
   "cell_type": "markdown",
   "id": "b513726d",
   "metadata": {},
   "source": [
    "5.6 Selecione última linha de m3.\n"
   ]
  },
  {
   "cell_type": "code",
   "execution_count": 124,
   "id": "3424ca53",
   "metadata": {},
   "outputs": [
    {
     "data": {
      "text/plain": [
       "array([8, 7, 6])"
      ]
     },
     "execution_count": 124,
     "metadata": {},
     "output_type": "execute_result"
    }
   ],
   "source": [
    "m4[-1]"
   ]
  },
  {
   "cell_type": "code",
   "execution_count": 125,
   "id": "b9810a80",
   "metadata": {},
   "outputs": [
    {
     "data": {
      "text/plain": [
       "array([[8, 7, 6]])"
      ]
     },
     "execution_count": 125,
     "metadata": {},
     "output_type": "execute_result"
    }
   ],
   "source": [
    "m4[2:,:]"
   ]
  },
  {
   "cell_type": "markdown",
   "id": "57d3b628",
   "metadata": {},
   "source": [
    "5.7 Selecione a última coluna de m4.\n"
   ]
  },
  {
   "cell_type": "code",
   "execution_count": 126,
   "id": "db1fce55",
   "metadata": {},
   "outputs": [
    {
     "data": {
      "text/plain": [
       "array([[0],\n",
       "       [5],\n",
       "       [6]])"
      ]
     },
     "execution_count": 126,
     "metadata": {},
     "output_type": "execute_result"
    }
   ],
   "source": [
    "m4[:,2:3]"
   ]
  },
  {
   "cell_type": "markdown",
   "id": "8d2c14d1",
   "metadata": {},
   "source": [
    "5.8. Selecione os últimos 2 elementos da última linha de m4.\n"
   ]
  },
  {
   "cell_type": "code",
   "execution_count": 127,
   "id": "edf0653b",
   "metadata": {},
   "outputs": [
    {
     "data": {
      "text/plain": [
       "array([7, 6])"
      ]
     },
     "execution_count": 127,
     "metadata": {},
     "output_type": "execute_result"
    }
   ],
   "source": [
    "m4[2][1:3]"
   ]
  },
  {
   "cell_type": "markdown",
   "id": "12f3832e",
   "metadata": {},
   "source": [
    "5.9. Selecione a matriz 2x2 [[2,5],[7,6]].\n",
    "\n"
   ]
  },
  {
   "cell_type": "code",
   "execution_count": 128,
   "id": "f0d55eac",
   "metadata": {},
   "outputs": [
    {
     "data": {
      "text/plain": [
       "array([[2, 5],\n",
       "       [7, 6]])"
      ]
     },
     "execution_count": 128,
     "metadata": {},
     "output_type": "execute_result"
    }
   ],
   "source": [
    "m4[1:3,1:3]"
   ]
  },
  {
   "cell_type": "markdown",
   "id": "44cd498c",
   "metadata": {},
   "source": [
    "#### 6. Construa o array m5 e responda às seguintes perguntas.\n",
    "####      m5  = array([ 0,  1,  2,  3,  4,  5,  6,  7,  8,  9, 10])\n"
   ]
  },
  {
   "cell_type": "code",
   "execution_count": 129,
   "id": "c907320d",
   "metadata": {},
   "outputs": [
    {
     "data": {
      "text/plain": [
       "array([ 0,  1,  2,  3,  4,  5,  6,  7,  8,  9, 10])"
      ]
     },
     "execution_count": 129,
     "metadata": {},
     "output_type": "execute_result"
    }
   ],
   "source": [
    "m5 = np.arange(0,11)\n",
    "m5"
   ]
  },
  {
   "cell_type": "markdown",
   "id": "90a1178d",
   "metadata": {},
   "source": [
    "6.1. Altere os últimos 3 elemento de m5 para 33.\n"
   ]
  },
  {
   "cell_type": "code",
   "execution_count": 130,
   "id": "bf3a43ef",
   "metadata": {},
   "outputs": [
    {
     "data": {
      "text/plain": [
       "array([ 0,  1,  2,  3,  4,  5,  6,  7, 33, 33, 33])"
      ]
     },
     "execution_count": 130,
     "metadata": {},
     "output_type": "execute_result"
    }
   ],
   "source": [
    "m5[8:11]=33\n",
    "m5"
   ]
  },
  {
   "cell_type": "markdown",
   "id": "90c46f0e",
   "metadata": {},
   "source": [
    "6.2. Crie um novo array com os primeiros 4 elementos de m5 e substitua por 40.\n"
   ]
  },
  {
   "cell_type": "code",
   "execution_count": 131,
   "id": "083c7363",
   "metadata": {},
   "outputs": [
    {
     "data": {
      "text/plain": [
       "array([0, 1, 2, 3])"
      ]
     },
     "execution_count": 131,
     "metadata": {},
     "output_type": "execute_result"
    }
   ],
   "source": [
    "m5_new = m5.copy()\n",
    "m5_new = m5_new[0:4]\n",
    "m5_new"
   ]
  },
  {
   "cell_type": "markdown",
   "id": "1875188d",
   "metadata": {},
   "source": [
    "6.3. Imprima o array m5 e o novo array.\n"
   ]
  },
  {
   "cell_type": "code",
   "execution_count": 132,
   "id": "389dee99",
   "metadata": {},
   "outputs": [
    {
     "name": "stdout",
     "output_type": "stream",
     "text": [
      "[ 0  1  2  3  4  5  6  7 33 33 33]\n",
      "[0 1 2 3]\n"
     ]
    }
   ],
   "source": [
    "print(m5)\n",
    "print(m5_new)"
   ]
  },
  {
   "cell_type": "markdown",
   "id": "8ece25ba",
   "metadata": {},
   "source": [
    "6.4. Selecione os valores de m5 maiores que 7.\n"
   ]
  },
  {
   "cell_type": "code",
   "execution_count": 133,
   "id": "48592364",
   "metadata": {},
   "outputs": [
    {
     "data": {
      "text/plain": [
       "array([33, 33, 33])"
      ]
     },
     "execution_count": 133,
     "metadata": {},
     "output_type": "execute_result"
    }
   ],
   "source": [
    "m5[m5>7]"
   ]
  },
  {
   "cell_type": "markdown",
   "id": "e3026ff3",
   "metadata": {},
   "source": [
    "6.5. Selecione os valores de m5 menores que 5.\n"
   ]
  },
  {
   "cell_type": "code",
   "execution_count": 134,
   "id": "f31387db",
   "metadata": {},
   "outputs": [
    {
     "data": {
      "text/plain": [
       "array([0, 1, 2, 3, 4, 5, 6])"
      ]
     },
     "execution_count": 134,
     "metadata": {},
     "output_type": "execute_result"
    }
   ],
   "source": [
    "m5[m5<7]"
   ]
  },
  {
   "cell_type": "markdown",
   "id": "3dc85d36",
   "metadata": {},
   "source": [
    "6.6. Verifique quais os valores de m5 iguais a 7 ou a 10 (retorne uma matriz de valores booleanos).\n",
    "\n"
   ]
  },
  {
   "cell_type": "code",
   "execution_count": 135,
   "id": "b60f4ede",
   "metadata": {},
   "outputs": [
    {
     "data": {
      "text/plain": [
       "array([False, False, False, False, False, False, False,  True, False,\n",
       "       False, False])"
      ]
     },
     "execution_count": 135,
     "metadata": {},
     "output_type": "execute_result"
    }
   ],
   "source": [
    "a = m5 == 7  \n",
    "b = m5 == 10\n",
    "np.logical_or(a, b)"
   ]
  },
  {
   "cell_type": "markdown",
   "id": "77523b0f",
   "metadata": {},
   "source": [
    "#### 7. Crie um array de 16 valores inteiros aleatórios entre 1 e 50 a que chamaremos m7. E crie o array m6 = [1,2,52,6,3,35,21,0,23,6,17,3,15,8,4,7]\n"
   ]
  },
  {
   "cell_type": "code",
   "execution_count": 136,
   "id": "fd72392c",
   "metadata": {},
   "outputs": [
    {
     "data": {
      "text/plain": [
       "array([49, 38,  2, 12, 17, 20, 18, 46, 38, 40, 44, 47, 41, 21,  6, 35])"
      ]
     },
     "execution_count": 136,
     "metadata": {},
     "output_type": "execute_result"
    }
   ],
   "source": [
    "m7 = np.random.randint(1,51,16)\n",
    "m7"
   ]
  },
  {
   "cell_type": "code",
   "execution_count": 137,
   "id": "165389c8",
   "metadata": {},
   "outputs": [
    {
     "data": {
      "text/plain": [
       "array([ 1,  2, 52,  6,  3, 35, 21,  0, 23,  6, 17,  3, 15,  8,  4,  7])"
      ]
     },
     "execution_count": 137,
     "metadata": {},
     "output_type": "execute_result"
    }
   ],
   "source": [
    "m6 = [1,2,52,6,3,35,21,0,23,6,17,3,15,8,4,7]\n",
    "m6 = np.array(m6)\n",
    "m6"
   ]
  },
  {
   "cell_type": "markdown",
   "id": "6928e360",
   "metadata": {},
   "source": [
    "7.1. Encontre o máximo para ambos os arrays.\n"
   ]
  },
  {
   "cell_type": "code",
   "execution_count": 138,
   "id": "1bf2f3a4",
   "metadata": {},
   "outputs": [
    {
     "data": {
      "text/plain": [
       "52"
      ]
     },
     "execution_count": 138,
     "metadata": {},
     "output_type": "execute_result"
    }
   ],
   "source": [
    "m6.max()"
   ]
  },
  {
   "cell_type": "code",
   "execution_count": 139,
   "id": "a2c0b8b6",
   "metadata": {},
   "outputs": [
    {
     "data": {
      "text/plain": [
       "49"
      ]
     },
     "execution_count": 139,
     "metadata": {},
     "output_type": "execute_result"
    }
   ],
   "source": [
    "m7.max()"
   ]
  },
  {
   "cell_type": "markdown",
   "id": "f9584c30",
   "metadata": {},
   "source": [
    "7.2. Encontre o mínimo para ambos os arrays..\n"
   ]
  },
  {
   "cell_type": "code",
   "execution_count": 140,
   "id": "de92bfbf",
   "metadata": {},
   "outputs": [
    {
     "data": {
      "text/plain": [
       "0"
      ]
     },
     "execution_count": 140,
     "metadata": {},
     "output_type": "execute_result"
    }
   ],
   "source": [
    "m6.min()"
   ]
  },
  {
   "cell_type": "code",
   "execution_count": 141,
   "id": "ffc4c245",
   "metadata": {},
   "outputs": [
    {
     "data": {
      "text/plain": [
       "2"
      ]
     },
     "execution_count": 141,
     "metadata": {},
     "output_type": "execute_result"
    }
   ],
   "source": [
    "m7.min()"
   ]
  },
  {
   "cell_type": "markdown",
   "id": "65d39de8",
   "metadata": {},
   "source": [
    "7.3. Encontre os valores de ambos os arrays que são menores que 7.\n"
   ]
  },
  {
   "cell_type": "code",
   "execution_count": 142,
   "id": "c23b9c4a",
   "metadata": {},
   "outputs": [
    {
     "data": {
      "text/plain": [
       "array([1, 2, 6, 3, 0, 6, 3, 4])"
      ]
     },
     "execution_count": 142,
     "metadata": {},
     "output_type": "execute_result"
    }
   ],
   "source": [
    "m6[m6<7]"
   ]
  },
  {
   "cell_type": "code",
   "execution_count": 143,
   "id": "f00b29a2",
   "metadata": {},
   "outputs": [
    {
     "data": {
      "text/plain": [
       "array([2, 6])"
      ]
     },
     "execution_count": 143,
     "metadata": {},
     "output_type": "execute_result"
    }
   ],
   "source": [
    "m7[m7<7]"
   ]
  },
  {
   "cell_type": "markdown",
   "id": "1d9a68bd",
   "metadata": {},
   "source": [
    "7.4. Encontre os valores de ambos os arrays que são maiores que 7.\n"
   ]
  },
  {
   "cell_type": "code",
   "execution_count": 144,
   "id": "94716e03",
   "metadata": {},
   "outputs": [
    {
     "data": {
      "text/plain": [
       "array([52, 35, 21, 23, 17, 15,  8])"
      ]
     },
     "execution_count": 144,
     "metadata": {},
     "output_type": "execute_result"
    }
   ],
   "source": [
    "m6[m6>7]"
   ]
  },
  {
   "cell_type": "code",
   "execution_count": 145,
   "id": "22fe707b",
   "metadata": {},
   "outputs": [
    {
     "data": {
      "text/plain": [
       "array([49, 38, 12, 17, 20, 18, 46, 38, 40, 44, 47, 41, 21, 35])"
      ]
     },
     "execution_count": 145,
     "metadata": {},
     "output_type": "execute_result"
    }
   ],
   "source": [
    "m7[m7>7]"
   ]
  },
  {
   "cell_type": "markdown",
   "id": "ab639639",
   "metadata": {},
   "source": [
    "7.5. Calcule o logaritmo de ambos os arrays.\n"
   ]
  },
  {
   "cell_type": "code",
   "execution_count": 146,
   "id": "5e43b956",
   "metadata": {},
   "outputs": [
    {
     "name": "stderr",
     "output_type": "stream",
     "text": [
      "C:\\Users\\raquel.ribeiro\\AppData\\Local\\Temp\\ipykernel_25940\\3920206033.py:1: RuntimeWarning: divide by zero encountered in log\n",
      "  np.log(m6)\n"
     ]
    },
    {
     "data": {
      "text/plain": [
       "array([0.        , 0.69314718, 3.95124372, 1.79175947, 1.09861229,\n",
       "       3.55534806, 3.04452244,       -inf, 3.13549422, 1.79175947,\n",
       "       2.83321334, 1.09861229, 2.7080502 , 2.07944154, 1.38629436,\n",
       "       1.94591015])"
      ]
     },
     "execution_count": 146,
     "metadata": {},
     "output_type": "execute_result"
    }
   ],
   "source": [
    "np.log(m6)"
   ]
  },
  {
   "cell_type": "code",
   "execution_count": 147,
   "id": "d871cbd3",
   "metadata": {},
   "outputs": [
    {
     "data": {
      "text/plain": [
       "array([3.8918203 , 3.63758616, 0.69314718, 2.48490665, 2.83321334,\n",
       "       2.99573227, 2.89037176, 3.8286414 , 3.63758616, 3.68887945,\n",
       "       3.78418963, 3.8501476 , 3.71357207, 3.04452244, 1.79175947,\n",
       "       3.55534806])"
      ]
     },
     "execution_count": 147,
     "metadata": {},
     "output_type": "execute_result"
    }
   ],
   "source": [
    "np.log(m7)"
   ]
  },
  {
   "cell_type": "markdown",
   "id": "aa1fc486",
   "metadata": {},
   "source": [
    "7.6 Calcule a soma de um com o outro.\n"
   ]
  },
  {
   "cell_type": "code",
   "execution_count": 148,
   "id": "5c82aaec",
   "metadata": {},
   "outputs": [
    {
     "data": {
      "text/plain": [
       "array([50, 40, 54, 18, 20, 55, 39, 46, 61, 46, 61, 50, 56, 29, 10, 42])"
      ]
     },
     "execution_count": 148,
     "metadata": {},
     "output_type": "execute_result"
    }
   ],
   "source": [
    "m6 + m7 "
   ]
  },
  {
   "cell_type": "markdown",
   "id": "e3f36689",
   "metadata": {},
   "source": [
    "7.7 Calcule a subtração de um com o outro.\n"
   ]
  },
  {
   "cell_type": "code",
   "execution_count": 149,
   "id": "04fb2d0b",
   "metadata": {},
   "outputs": [
    {
     "data": {
      "text/plain": [
       "array([-48, -36,  50,  -6, -14,  15,   3, -46, -15, -34, -27, -44, -26,\n",
       "       -13,  -2, -28])"
      ]
     },
     "execution_count": 149,
     "metadata": {},
     "output_type": "execute_result"
    }
   ],
   "source": [
    "m6 - m7 "
   ]
  },
  {
   "cell_type": "markdown",
   "id": "1ebe4853",
   "metadata": {},
   "source": [
    "7.8 Calcule a multiplicação de um com o outro.\n"
   ]
  },
  {
   "cell_type": "code",
   "execution_count": 150,
   "id": "4f9bcd58",
   "metadata": {},
   "outputs": [
    {
     "data": {
      "text/plain": [
       "array([ 49,  76, 104,  72,  51, 700, 378,   0, 874, 240, 748, 141, 615,\n",
       "       168,  24, 245])"
      ]
     },
     "execution_count": 150,
     "metadata": {},
     "output_type": "execute_result"
    }
   ],
   "source": [
    "m6 * m7 "
   ]
  },
  {
   "cell_type": "markdown",
   "id": "de7aa711",
   "metadata": {},
   "source": [
    "7.9 Calcule a divisão de um com o outro."
   ]
  },
  {
   "cell_type": "code",
   "execution_count": 151,
   "id": "d5c21162",
   "metadata": {},
   "outputs": [
    {
     "data": {
      "text/plain": [
       "array([2.04081633e-02, 5.26315789e-02, 2.60000000e+01, 5.00000000e-01,\n",
       "       1.76470588e-01, 1.75000000e+00, 1.16666667e+00, 0.00000000e+00,\n",
       "       6.05263158e-01, 1.50000000e-01, 3.86363636e-01, 6.38297872e-02,\n",
       "       3.65853659e-01, 3.80952381e-01, 6.66666667e-01, 2.00000000e-01])"
      ]
     },
     "execution_count": 151,
     "metadata": {},
     "output_type": "execute_result"
    }
   ],
   "source": [
    "m6 /m7 "
   ]
  },
  {
   "cell_type": "markdown",
   "id": "c06ffbeb",
   "metadata": {},
   "source": [
    "7.10 Calcule o sen de ambos os arrays.\n"
   ]
  },
  {
   "cell_type": "code",
   "execution_count": 152,
   "id": "86abc591",
   "metadata": {},
   "outputs": [
    {
     "data": {
      "text/plain": [
       "array([ 0.84147098,  0.90929743,  0.98662759, -0.2794155 ,  0.14112001,\n",
       "       -0.42818267,  0.83665564,  0.        , -0.8462204 , -0.2794155 ,\n",
       "       -0.96139749,  0.14112001,  0.65028784,  0.98935825, -0.7568025 ,\n",
       "        0.6569866 ])"
      ]
     },
     "execution_count": 152,
     "metadata": {},
     "output_type": "execute_result"
    }
   ],
   "source": [
    "np.sin(m6)"
   ]
  },
  {
   "cell_type": "code",
   "execution_count": 153,
   "id": "c82a1c2e",
   "metadata": {},
   "outputs": [
    {
     "data": {
      "text/plain": [
       "array([-0.95375265,  0.29636858,  0.90929743, -0.53657292, -0.96139749,\n",
       "        0.91294525, -0.75098725,  0.90178835,  0.29636858,  0.74511316,\n",
       "        0.01770193,  0.12357312, -0.15862267,  0.83665564, -0.2794155 ,\n",
       "       -0.42818267])"
      ]
     },
     "execution_count": 153,
     "metadata": {},
     "output_type": "execute_result"
    }
   ],
   "source": [
    "np.sin(m7)"
   ]
  },
  {
   "cell_type": "markdown",
   "id": "b335a6f9",
   "metadata": {},
   "source": [
    "7.11 Calcule o exponencial de ambos os arrays.\n"
   ]
  },
  {
   "cell_type": "code",
   "execution_count": 154,
   "id": "7c487ca6",
   "metadata": {},
   "outputs": [
    {
     "data": {
      "text/plain": [
       "array([2.71828183e+00, 7.38905610e+00, 3.83100800e+22, 4.03428793e+02,\n",
       "       2.00855369e+01, 1.58601345e+15, 1.31881573e+09, 1.00000000e+00,\n",
       "       9.74480345e+09, 4.03428793e+02, 2.41549528e+07, 2.00855369e+01,\n",
       "       3.26901737e+06, 2.98095799e+03, 5.45981500e+01, 1.09663316e+03])"
      ]
     },
     "execution_count": 154,
     "metadata": {},
     "output_type": "execute_result"
    }
   ],
   "source": [
    "np.exp(m6)"
   ]
  },
  {
   "cell_type": "code",
   "execution_count": 155,
   "id": "b1c65417",
   "metadata": {},
   "outputs": [
    {
     "data": {
      "text/plain": [
       "array([1.90734657e+21, 3.18559318e+16, 7.38905610e+00, 1.62754791e+05,\n",
       "       2.41549528e+07, 4.85165195e+08, 6.56599691e+07, 9.49611942e+19,\n",
       "       3.18559318e+16, 2.35385267e+17, 1.28516001e+19, 2.58131289e+20,\n",
       "       6.39843494e+17, 1.31881573e+09, 4.03428793e+02, 1.58601345e+15])"
      ]
     },
     "execution_count": 155,
     "metadata": {},
     "output_type": "execute_result"
    }
   ],
   "source": [
    "np.exp(m7)"
   ]
  }
 ],
 "metadata": {
  "kernelspec": {
   "display_name": "Python 3 (ipykernel)",
   "language": "python",
   "name": "python3"
  },
  "language_info": {
   "codemirror_mode": {
    "name": "ipython",
    "version": 3
   },
   "file_extension": ".py",
   "mimetype": "text/x-python",
   "name": "python",
   "nbconvert_exporter": "python",
   "pygments_lexer": "ipython3",
   "version": "3.9.13"
  }
 },
 "nbformat": 4,
 "nbformat_minor": 5
}
