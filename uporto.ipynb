{
 "cells": [
  {
   "cell_type": "code",
   "execution_count": 1,
   "id": "efb9b623",
   "metadata": {},
   "outputs": [],
   "source": [
    "import requests\n",
    "from bs4 import BeautifulSoup"
   ]
  },
  {
   "cell_type": "code",
   "execution_count": 2,
   "id": "c4e67dc8",
   "metadata": {},
   "outputs": [],
   "source": [
    "url = \"https://www.up.pt/portal/pt/\"\n",
    "data = requests.get(url).text"
   ]
  },
  {
   "cell_type": "code",
   "execution_count": 4,
   "id": "008260ab",
   "metadata": {},
   "outputs": [],
   "source": [
    "soup = BeautifulSoup(data, 'lxml')"
   ]
  },
  {
   "cell_type": "code",
   "execution_count": 6,
   "id": "54f47d37",
   "metadata": {},
   "outputs": [
    {
     "data": {
      "text/plain": [
       "'Universidade do Porto'"
      ]
     },
     "execution_count": 6,
     "metadata": {},
     "output_type": "execute_result"
    }
   ],
   "source": [
    "title = soup.title.string\n",
    "title"
   ]
  },
  {
   "cell_type": "code",
   "execution_count": 7,
   "id": "a615a2da",
   "metadata": {},
   "outputs": [
    {
     "data": {
      "text/plain": [
       "22"
      ]
     },
     "execution_count": 7,
     "metadata": {},
     "output_type": "execute_result"
    }
   ],
   "source": [
    "h2List = soup.find_all('h2')\n",
    "len(h2List)"
   ]
  },
  {
   "cell_type": "code",
   "execution_count": 8,
   "id": "f3bd0125",
   "metadata": {},
   "outputs": [
    {
     "name": "stdout",
     "output_type": "stream",
     "text": [
      "Três investigadores da U.Porto entre os mais influentes do mundo\n",
      "Cientista do i3S vence bolsa de 10 milhões para estudar doenças autoimunes\n",
      "U.Porto é a melhor universidade portuguesa em ranking mundial de sustentabilidade\n",
      "Este espaço é para todos!\n",
      "Uma Universidade de Excelência!\n",
      "Estudar\n",
      "Investigar\n",
      "Notícias\n",
      "Eventos\n",
      "Armanda Passos: a primeira exposição retrospetiva\n",
      "Concerto Porta Jazz: ''Imersão, Improvisação''\n",
      "Biblioteca da FCUP participa no Mês da Imagem do Porto\n",
      "Avanços tecnológicos em áreas emergentes da engenharia química, ambiental e biotecnologia\n",
      "U.Porto em Números\n",
      "Escolha o seu perfil\n",
      "Candidatos Internacionais\n",
      "Pré-Universitários\n",
      "Profissionais\n",
      "Alumni\n",
      "Estudantes da U.Porto\n",
      "Media\n",
      "Portais U.Porto\n"
     ]
    }
   ],
   "source": [
    "for val in h2List:\n",
    "    print(val.text)"
   ]
  },
  {
   "cell_type": "code",
   "execution_count": 13,
   "id": "c6ef2d1f",
   "metadata": {},
   "outputs": [],
   "source": [
    "sobre = soup.find('div', class_='sobre-up-txt')"
   ]
  },
  {
   "cell_type": "code",
   "execution_count": 16,
   "id": "0418a396",
   "metadata": {},
   "outputs": [
    {
     "data": {
      "text/plain": [
       "'Com mais de 100 anos de história, a Universidade do Porto é uma instituição de ensino e investigação científica de referência em Portugal e no mundo.Considerada a melhor Universidade Portuguesa e uma das 100 melhores instituições europeias segundo os mais importantes rankings do Ensino Superior, a U.Porto combina o ensino de qualidade e a investigação de excelência com a melhor experiência académica.\\n\\n\\nVer Mais sobre a Universidade'"
      ]
     },
     "execution_count": 16,
     "metadata": {},
     "output_type": "execute_result"
    }
   ],
   "source": [
    "sobre.getText().strip()"
   ]
  },
  {
   "cell_type": "code",
   "execution_count": 32,
   "id": "a4ee716d",
   "metadata": {},
   "outputs": [
    {
     "name": "stdout",
     "output_type": "stream",
     "text": [
      "Não\n"
     ]
    }
   ],
   "source": [
    "if \"ETs\" in sobre.getText().strip():\n",
    "    print(\"Sim\")\n",
    "else:\n",
    "    print(\"Não\")"
   ]
  },
  {
   "cell_type": "code",
   "execution_count": 26,
   "id": "6ebacde3",
   "metadata": {},
   "outputs": [],
   "source": [
    "sectionList = soup.find_all('section', class_='hp-study')"
   ]
  },
  {
   "cell_type": "code",
   "execution_count": 34,
   "id": "3684900b",
   "metadata": {},
   "outputs": [
    {
     "name": "stdout",
     "output_type": "stream",
     "text": [
      "Estudar\n",
      "\n",
      "\n",
      "\n",
      "O teu futuro passa por aqui!\n",
      "\n",
      "\n",
      "\n",
      "Reunindo a mais completa oferta de programas de formação em Portugal, as 14 faculdades da U.Porto oferecem condições únicas a quem pretende construir um percurso académico de excelência e devidamente valorizado pelo mercado de trabalho.\n",
      "\n",
      "\n",
      "\n",
      "\n",
      "\n",
      "Que curso procuras?\n",
      "\n",
      "\n",
      "\n",
      "\n",
      "\n",
      "Todos\n",
      "Licenciaturas e Mestrados Integrados\n",
      "Mestrados\n",
      "Doutoramentos\n",
      "\n",
      "\n",
      "\n",
      "\n",
      "\n",
      "\n",
      "\n",
      "\n",
      "\n",
      "\n",
      "\n",
      "\n",
      "\n",
      "\n",
      "Cursos de A a Z:\n",
      "Licenciaturas e Mestrados Integrados\n",
      "Mestrados\n",
      "Doutoramentos\n",
      "Investigar\n",
      "\n",
      "\n",
      "\n",
      "Universidade de Investigação\n",
      "Com 48 unidades de investigação e uma comunidade científica altamente qualificada, a U.Porto é um dos maiores produtores de Ciência em Portugal, contribuindo para quase 25% de toda a produção científica nacional.A excelência do nosso ecossistema científico encontra-se particularmente evidente na posição de liderança que a Universidade ocupa nos principais rankings internacionais do Ensino Superior.Ver mais\n"
     ]
    }
   ],
   "source": [
    "for section in sectionList:\n",
    "    print(section.text.strip())"
   ]
  },
  {
   "cell_type": "code",
   "execution_count": 29,
   "id": "799f9cf4",
   "metadata": {},
   "outputs": [
    {
     "name": "stdout",
     "output_type": "stream",
     "text": [
      "Estudar\n",
      "Investigar\n"
     ]
    }
   ],
   "source": [
    "for section in sectionList:\n",
    "    h2 = section.find('h2')\n",
    "    print(h2.getText().strip())"
   ]
  },
  {
   "cell_type": "code",
   "execution_count": 38,
   "id": "212ebe1e",
   "metadata": {},
   "outputs": [
    {
     "name": "stdout",
     "output_type": "stream",
     "text": [
      "Investigar\n",
      "\n",
      "Com 48 unidades de investigação e uma comunidade científica altamente qualificada, a U.Porto é um dos maiores produtores de Ciência em Portugal, contribuindo para quase 25% de toda a produção científica nacional.\n",
      "A excelência do nosso ecossistema científico encontra-se particularmente evidente na posição de liderança que a Universidade ocupa nos principais rankings internacionais do Ensino Superior.\n",
      "Ver mais\n",
      "****************************************************************************************************\n",
      "Com 48 unidades de investigação e uma comunidade científica altamente qualificada, a U.Porto é um dos maiores produtores de Ciência em Portugal, contribuindo para quase 25% de toda a produção científica nacional.\n"
     ]
    }
   ],
   "source": [
    "for section in sectionList:\n",
    "    h2 = section.find('h2').getText().strip()\n",
    "    if h2==\"Investigar\":\n",
    "        print(\"Investigar\")\n",
    "        # todos os parágrafos\n",
    "        for text in section.find_all(\"p\"):\n",
    "            print(text.getText().strip())\n",
    "        \n",
    "        print(\"*\" * 100)\n",
    "        # parágrafo específico\n",
    "        for text in section.find_all(\"p\"):\n",
    "            if text.get(\"data-block-key\")==\"p6p0n\":\n",
    "                print(text.getText().strip())"
   ]
  },
  {
   "cell_type": "code",
   "execution_count": 39,
   "id": "ee3471f6",
   "metadata": {},
   "outputs": [
    {
     "data": {
      "text/plain": [
       "16"
      ]
     },
     "execution_count": 39,
     "metadata": {},
     "output_type": "execute_result"
    }
   ],
   "source": [
    "imgList = soup.find_all('img')\n",
    "len(imgList)"
   ]
  },
  {
   "cell_type": "code",
   "execution_count": 43,
   "id": "9bbe15cb",
   "metadata": {},
   "outputs": [
    {
     "name": "stdout",
     "output_type": "stream",
     "text": [
      "https://www.up.pt/portal/media/images/investigar-home_destaque.format-jpeg.jpg\n",
      "https://www.up.pt/portal/media/images/gate-estudantes-internacionais.format-jpeg.jpg\n",
      "https://www.up.pt/portal/media/images/gate-juniores_YQraUVq.format-jpeg.jpg\n",
      "https://www.up.pt/portal/media/images/gate-profissionais_02.format-jpeg.jpg\n",
      "https://www.up.pt/portal/media/images/gate-alumni.format-jpeg.jpg\n",
      "https://www.up.pt/portal/media/images/gate-estudantes-uporto.format-jpeg.jpg\n"
     ]
    }
   ],
   "source": [
    "lista = []\n",
    "for img in imgList:\n",
    "    src = img.get(\"src\")\n",
    "    if src: # se src tiver valor\n",
    "        src = \"https://www.up.pt\" + src\n",
    "        print(src)\n",
    "        lista.append(src)\n",
    "        "
   ]
  },
  {
   "cell_type": "code",
   "execution_count": null,
   "id": "dab9eca8",
   "metadata": {},
   "outputs": [],
   "source": []
  }
 ],
 "metadata": {
  "kernelspec": {
   "display_name": "Python 3 (ipykernel)",
   "language": "python",
   "name": "python3"
  },
  "language_info": {
   "codemirror_mode": {
    "name": "ipython",
    "version": 3
   },
   "file_extension": ".py",
   "mimetype": "text/x-python",
   "name": "python",
   "nbconvert_exporter": "python",
   "pygments_lexer": "ipython3",
   "version": "3.9.12"
  }
 },
 "nbformat": 4,
 "nbformat_minor": 5
}
