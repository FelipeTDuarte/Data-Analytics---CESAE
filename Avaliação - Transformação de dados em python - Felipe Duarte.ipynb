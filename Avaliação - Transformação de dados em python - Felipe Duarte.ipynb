{
 "cells": [
  {
   "cell_type": "markdown",
   "id": "cfca2e31",
   "metadata": {},
   "source": [
    "# Avaliação - Limpeza e transformação de dados em python\n",
    "Cada pergunta da parte 1 vale 1 valor.<br>\n",
    "A 2a parte vale no total 5 valores.<br>\n",
    "A avaliação deverá ser enviada até as 22h do dia 20 de Dezembro de 2022 para o email raquel.ribeiro.prt@msft.cesae.pt.<br>\n",
    "Boa avaliação!<br>"
   ]
  },
  {
   "cell_type": "code",
   "execution_count": 24,
   "id": "d3c94037",
   "metadata": {},
   "outputs": [],
   "source": [
    "import pandas as pd\n",
    "import numpy as np"
   ]
  },
  {
   "cell_type": "markdown",
   "id": "e8a8f64d",
   "metadata": {},
   "source": [
    "## Parte 1"
   ]
  },
  {
   "cell_type": "markdown",
   "id": "d6fa210f",
   "metadata": {},
   "source": [
    "### NumPy"
   ]
  },
  {
   "cell_type": "markdown",
   "id": "97ecc286",
   "metadata": {},
   "source": [
    "#### 1 - Crie a matriz mat 4x4 com valores de 1 a 16."
   ]
  },
  {
   "cell_type": "code",
   "execution_count": 19,
   "id": "d0ca4f49",
   "metadata": {},
   "outputs": [
    {
     "data": {
      "text/plain": [
       "array([[ 1,  2,  3,  4],\n",
       "       [ 5,  6,  7,  8],\n",
       "       [ 9, 10, 11, 12],\n",
       "       [13, 14, 15, 16]])"
      ]
     },
     "execution_count": 19,
     "metadata": {},
     "output_type": "execute_result"
    }
   ],
   "source": [
    "mat = np.arange (1,17).reshape(4,4)\n",
    "mat"
   ]
  },
  {
   "cell_type": "markdown",
   "id": "35e72fc4",
   "metadata": {},
   "source": [
    "#### 2 - Crie um array com 30 elementos linearmente separados entre 1 e 12"
   ]
  },
  {
   "cell_type": "code",
   "execution_count": 20,
   "id": "0d1437ef",
   "metadata": {},
   "outputs": [
    {
     "data": {
      "text/plain": [
       "array([ 1.        ,  1.37931034,  1.75862069,  2.13793103,  2.51724138,\n",
       "        2.89655172,  3.27586207,  3.65517241,  4.03448276,  4.4137931 ,\n",
       "        4.79310345,  5.17241379,  5.55172414,  5.93103448,  6.31034483,\n",
       "        6.68965517,  7.06896552,  7.44827586,  7.82758621,  8.20689655,\n",
       "        8.5862069 ,  8.96551724,  9.34482759,  9.72413793, 10.10344828,\n",
       "       10.48275862, 10.86206897, 11.24137931, 11.62068966, 12.        ])"
      ]
     },
     "execution_count": 20,
     "metadata": {},
     "output_type": "execute_result"
    }
   ],
   "source": [
    "arr = np.linspace(1, 12, num=30)\n",
    "arr"
   ]
  },
  {
   "cell_type": "markdown",
   "id": "5e3ebb39",
   "metadata": {},
   "source": [
    "#### 3 - Volte a reproduzir o array da alínea 1, guardando-o numa variável. De seguida reproduza o seguinte output: <br>\n",
    " array([[ 1,  2,  3], <br>\n",
    "       [ 5,  6,  7]]) <br>"
   ]
  },
  {
   "cell_type": "code",
   "execution_count": 21,
   "id": "ddf12dac",
   "metadata": {},
   "outputs": [
    {
     "data": {
      "text/plain": [
       "array([[1, 2, 3],\n",
       "       [5, 6, 7]])"
      ]
     },
     "execution_count": 21,
     "metadata": {},
     "output_type": "execute_result"
    }
   ],
   "source": [
    "mat[0:2,0:3]"
   ]
  },
  {
   "cell_type": "markdown",
   "id": "cc6bddef",
   "metadata": {},
   "source": [
    "#### 4 - Obtenha um array com a soma de cada coluna da matriz mat."
   ]
  },
  {
   "cell_type": "code",
   "execution_count": 22,
   "id": "815399b7",
   "metadata": {},
   "outputs": [
    {
     "data": {
      "text/plain": [
       "array([28, 32, 36, 40])"
      ]
     },
     "execution_count": 22,
     "metadata": {},
     "output_type": "execute_result"
    }
   ],
   "source": [
    "np.sum(mat, axis=0)"
   ]
  },
  {
   "cell_type": "markdown",
   "id": "29ac663d",
   "metadata": {},
   "source": [
    "#### 5 - Use o NumPy para gerar um array de 10 números aleatórios com amostragem na distribuição normal."
   ]
  },
  {
   "cell_type": "code",
   "execution_count": 23,
   "id": "5d3c8a64",
   "metadata": {},
   "outputs": [
    {
     "data": {
      "text/plain": [
       "array([-0.32821536,  1.01496347, -0.33213052,  1.12041315, -1.20462091,\n",
       "        0.61976813, -0.50745788, -1.21371079, -1.1543586 , -0.59295592])"
      ]
     },
     "execution_count": 23,
     "metadata": {},
     "output_type": "execute_result"
    }
   ],
   "source": [
    "np.random.normal(size=10) "
   ]
  },
  {
   "cell_type": "markdown",
   "id": "42bebf36",
   "metadata": {},
   "source": [
    "### Pandas"
   ]
  },
  {
   "cell_type": "markdown",
   "id": "1cf807bc",
   "metadata": {},
   "source": [
    "#### 6 - Crie as seguintes séries e imprima-as.\n",
    "[1, 4, 3, 2, 10], [3, 3, 5, 2, 6]"
   ]
  },
  {
   "cell_type": "code",
   "execution_count": 28,
   "id": "522bce65",
   "metadata": {},
   "outputs": [
    {
     "name": "stdout",
     "output_type": "stream",
     "text": [
      "0     1\n",
      "1     4\n",
      "2     3\n",
      "3     2\n",
      "4    10\n",
      "dtype: int64\n",
      "0    3\n",
      "1    3\n",
      "2    5\n",
      "3    2\n",
      "4    6\n",
      "dtype: int64\n"
     ]
    }
   ],
   "source": [
    "d = pd.Series([1, 4, 3, 2, 10])\n",
    "f = pd.Series([3, 3, 5, 2, 6])\n",
    "print(d)\n",
    "print(f)"
   ]
  },
  {
   "cell_type": "markdown",
   "id": "c81a06ad",
   "metadata": {},
   "source": [
    "#### 7 - Compare as duas séries no que diz respeito à sua igualdade"
   ]
  },
  {
   "cell_type": "code",
   "execution_count": 29,
   "id": "393515e8",
   "metadata": {},
   "outputs": [
    {
     "data": {
      "text/plain": [
       "0    False\n",
       "1    False\n",
       "2    False\n",
       "3     True\n",
       "4    False\n",
       "dtype: bool"
      ]
     },
     "execution_count": 29,
     "metadata": {},
     "output_type": "execute_result"
    }
   ],
   "source": [
    "d==f"
   ]
  },
  {
   "cell_type": "markdown",
   "id": "4d961fcb",
   "metadata": {},
   "source": [
    "#### 8 - Crie uma série que seja a soma das duas criadas na alínea 6"
   ]
  },
  {
   "cell_type": "code",
   "execution_count": 32,
   "id": "5fac1b7d",
   "metadata": {},
   "outputs": [
    {
     "data": {
      "text/plain": [
       "0     4\n",
       "1     7\n",
       "2     8\n",
       "3     4\n",
       "4    16\n",
       "dtype: int64"
      ]
     },
     "execution_count": 32,
     "metadata": {},
     "output_type": "execute_result"
    }
   ],
   "source": [
    "pd.Series([d,f]).sum()"
   ]
  },
  {
   "cell_type": "markdown",
   "id": "e70106dd",
   "metadata": {},
   "source": [
    "#### 9 - Crie o DataFrame 1 com os seguintes dados e mostre o seu output. Nota: o índice deverá iniciar em 'a' e seguir a ordem do alfabeto, <br>\n",
    "{'vendedor': ['Bernardo', 'Rodrigo', 'Maria', 'Carla', 'Jorge', 'Vera', 'Ana', 'Vitor', 'Raquel', 'Arnalda'],<br>\n",
    "'vendas_semana': [1200, 3000, 1500, np.nan, 9000, 1550, 10000, np.nan, 1700, 1900],<br>\n",
    "'horario': ['PT', 'PT', 'PT', 'FT', 'FT', 'PT', 'FT', 'PT', 'PT', 'PT'],<br>\n",
    "'ferias': ['sim', 'não', 'não', 'sim', 'não', 'não', 'não', 'sim', 'não', 'não']}<br>"
   ]
  },
  {
   "cell_type": "code",
   "execution_count": 48,
   "id": "d70bde83",
   "metadata": {},
   "outputs": [
    {
     "data": {
      "text/html": [
       "<div>\n",
       "<style scoped>\n",
       "    .dataframe tbody tr th:only-of-type {\n",
       "        vertical-align: middle;\n",
       "    }\n",
       "\n",
       "    .dataframe tbody tr th {\n",
       "        vertical-align: top;\n",
       "    }\n",
       "\n",
       "    .dataframe thead th {\n",
       "        text-align: right;\n",
       "    }\n",
       "</style>\n",
       "<table border=\"1\" class=\"dataframe\">\n",
       "  <thead>\n",
       "    <tr style=\"text-align: right;\">\n",
       "      <th></th>\n",
       "      <th>vendedor</th>\n",
       "      <th>vendas_semana</th>\n",
       "      <th>horario</th>\n",
       "      <th>ferias</th>\n",
       "    </tr>\n",
       "  </thead>\n",
       "  <tbody>\n",
       "    <tr>\n",
       "      <th>0</th>\n",
       "      <td>Ana</td>\n",
       "      <td>10000.0</td>\n",
       "      <td>FT</td>\n",
       "      <td>não</td>\n",
       "    </tr>\n",
       "    <tr>\n",
       "      <th>1</th>\n",
       "      <td>Arnalda</td>\n",
       "      <td>1900.0</td>\n",
       "      <td>PT</td>\n",
       "      <td>não</td>\n",
       "    </tr>\n",
       "    <tr>\n",
       "      <th>2</th>\n",
       "      <td>Bernardo</td>\n",
       "      <td>1200.0</td>\n",
       "      <td>PT</td>\n",
       "      <td>sim</td>\n",
       "    </tr>\n",
       "    <tr>\n",
       "      <th>3</th>\n",
       "      <td>Carla</td>\n",
       "      <td>NaN</td>\n",
       "      <td>FT</td>\n",
       "      <td>sim</td>\n",
       "    </tr>\n",
       "    <tr>\n",
       "      <th>4</th>\n",
       "      <td>Jorge</td>\n",
       "      <td>9000.0</td>\n",
       "      <td>FT</td>\n",
       "      <td>não</td>\n",
       "    </tr>\n",
       "    <tr>\n",
       "      <th>5</th>\n",
       "      <td>Maria</td>\n",
       "      <td>1500.0</td>\n",
       "      <td>PT</td>\n",
       "      <td>não</td>\n",
       "    </tr>\n",
       "    <tr>\n",
       "      <th>6</th>\n",
       "      <td>Raquel</td>\n",
       "      <td>1700.0</td>\n",
       "      <td>PT</td>\n",
       "      <td>não</td>\n",
       "    </tr>\n",
       "    <tr>\n",
       "      <th>7</th>\n",
       "      <td>Rodrigo</td>\n",
       "      <td>3000.0</td>\n",
       "      <td>PT</td>\n",
       "      <td>não</td>\n",
       "    </tr>\n",
       "    <tr>\n",
       "      <th>8</th>\n",
       "      <td>Vera</td>\n",
       "      <td>1550.0</td>\n",
       "      <td>PT</td>\n",
       "      <td>não</td>\n",
       "    </tr>\n",
       "    <tr>\n",
       "      <th>9</th>\n",
       "      <td>Vitor</td>\n",
       "      <td>NaN</td>\n",
       "      <td>PT</td>\n",
       "      <td>sim</td>\n",
       "    </tr>\n",
       "  </tbody>\n",
       "</table>\n",
       "</div>"
      ],
      "text/plain": [
       "   vendedor  vendas_semana horario ferias\n",
       "0       Ana        10000.0      FT    não\n",
       "1   Arnalda         1900.0      PT    não\n",
       "2  Bernardo         1200.0      PT    sim\n",
       "3     Carla            NaN      FT    sim\n",
       "4     Jorge         9000.0      FT    não\n",
       "5     Maria         1500.0      PT    não\n",
       "6    Raquel         1700.0      PT    não\n",
       "7   Rodrigo         3000.0      PT    não\n",
       "8      Vera         1550.0      PT    não\n",
       "9     Vitor            NaN      PT    sim"
      ]
     },
     "execution_count": 48,
     "metadata": {},
     "output_type": "execute_result"
    }
   ],
   "source": [
    "df1 = pd.DataFrame({'vendedor': ['Bernardo', 'Rodrigo', 'Maria', 'Carla', 'Jorge', 'Vera', 'Ana', 'Vitor', 'Raquel', 'Arnalda'],\n",
    "'vendas_semana': [1200, 3000, 1500, np.nan, 9000, 1550, 10000, np.nan, 1700, 1900],\n",
    "'horario': ['PT', 'PT', 'PT', 'FT', 'FT', 'PT', 'FT', 'PT', 'PT', 'PT'],\n",
    "'ferias': ['sim', 'não', 'não', 'sim', 'não', 'não', 'não', 'sim', 'não', 'não']}).sort_values(by=['vendedor'],ignore_index=True)\n",
    "df1"
   ]
  },
  {
   "cell_type": "markdown",
   "id": "22d75541",
   "metadata": {},
   "source": [
    "#### 10 - Ordene o DataFrame1 por vendas da maior para a menor"
   ]
  },
  {
   "cell_type": "code",
   "execution_count": 49,
   "id": "7efde32e",
   "metadata": {},
   "outputs": [
    {
     "data": {
      "text/html": [
       "<div>\n",
       "<style scoped>\n",
       "    .dataframe tbody tr th:only-of-type {\n",
       "        vertical-align: middle;\n",
       "    }\n",
       "\n",
       "    .dataframe tbody tr th {\n",
       "        vertical-align: top;\n",
       "    }\n",
       "\n",
       "    .dataframe thead th {\n",
       "        text-align: right;\n",
       "    }\n",
       "</style>\n",
       "<table border=\"1\" class=\"dataframe\">\n",
       "  <thead>\n",
       "    <tr style=\"text-align: right;\">\n",
       "      <th></th>\n",
       "      <th>vendedor</th>\n",
       "      <th>vendas_semana</th>\n",
       "      <th>horario</th>\n",
       "      <th>ferias</th>\n",
       "    </tr>\n",
       "  </thead>\n",
       "  <tbody>\n",
       "    <tr>\n",
       "      <th>0</th>\n",
       "      <td>Ana</td>\n",
       "      <td>10000.0</td>\n",
       "      <td>FT</td>\n",
       "      <td>não</td>\n",
       "    </tr>\n",
       "    <tr>\n",
       "      <th>4</th>\n",
       "      <td>Jorge</td>\n",
       "      <td>9000.0</td>\n",
       "      <td>FT</td>\n",
       "      <td>não</td>\n",
       "    </tr>\n",
       "    <tr>\n",
       "      <th>7</th>\n",
       "      <td>Rodrigo</td>\n",
       "      <td>3000.0</td>\n",
       "      <td>PT</td>\n",
       "      <td>não</td>\n",
       "    </tr>\n",
       "    <tr>\n",
       "      <th>1</th>\n",
       "      <td>Arnalda</td>\n",
       "      <td>1900.0</td>\n",
       "      <td>PT</td>\n",
       "      <td>não</td>\n",
       "    </tr>\n",
       "    <tr>\n",
       "      <th>6</th>\n",
       "      <td>Raquel</td>\n",
       "      <td>1700.0</td>\n",
       "      <td>PT</td>\n",
       "      <td>não</td>\n",
       "    </tr>\n",
       "    <tr>\n",
       "      <th>8</th>\n",
       "      <td>Vera</td>\n",
       "      <td>1550.0</td>\n",
       "      <td>PT</td>\n",
       "      <td>não</td>\n",
       "    </tr>\n",
       "    <tr>\n",
       "      <th>5</th>\n",
       "      <td>Maria</td>\n",
       "      <td>1500.0</td>\n",
       "      <td>PT</td>\n",
       "      <td>não</td>\n",
       "    </tr>\n",
       "    <tr>\n",
       "      <th>2</th>\n",
       "      <td>Bernardo</td>\n",
       "      <td>1200.0</td>\n",
       "      <td>PT</td>\n",
       "      <td>sim</td>\n",
       "    </tr>\n",
       "    <tr>\n",
       "      <th>3</th>\n",
       "      <td>Carla</td>\n",
       "      <td>NaN</td>\n",
       "      <td>FT</td>\n",
       "      <td>sim</td>\n",
       "    </tr>\n",
       "    <tr>\n",
       "      <th>9</th>\n",
       "      <td>Vitor</td>\n",
       "      <td>NaN</td>\n",
       "      <td>PT</td>\n",
       "      <td>sim</td>\n",
       "    </tr>\n",
       "  </tbody>\n",
       "</table>\n",
       "</div>"
      ],
      "text/plain": [
       "   vendedor  vendas_semana horario ferias\n",
       "0       Ana        10000.0      FT    não\n",
       "4     Jorge         9000.0      FT    não\n",
       "7   Rodrigo         3000.0      PT    não\n",
       "1   Arnalda         1900.0      PT    não\n",
       "6    Raquel         1700.0      PT    não\n",
       "8      Vera         1550.0      PT    não\n",
       "5     Maria         1500.0      PT    não\n",
       "2  Bernardo         1200.0      PT    sim\n",
       "3     Carla            NaN      FT    sim\n",
       "9     Vitor            NaN      PT    sim"
      ]
     },
     "execution_count": 49,
     "metadata": {},
     "output_type": "execute_result"
    }
   ],
   "source": [
    "df1.sort_values(by=['vendas_semana'], ascending=False)"
   ]
  },
  {
   "cell_type": "markdown",
   "id": "82931ac9",
   "metadata": {},
   "source": [
    "#### 11 - Apresente a informação dos 3 melhores vendedores"
   ]
  },
  {
   "cell_type": "code",
   "execution_count": 71,
   "id": "5a171714",
   "metadata": {},
   "outputs": [
    {
     "data": {
      "text/plain": [
       "0        Ana\n",
       "4      Jorge\n",
       "7    Rodrigo\n",
       "Name: vendedor, dtype: object"
      ]
     },
     "execution_count": 71,
     "metadata": {},
     "output_type": "execute_result"
    }
   ],
   "source": [
    "df1.nlargest(3,['vendas_semana']).vendedor\n"
   ]
  },
  {
   "cell_type": "markdown",
   "id": "ec85c2ef",
   "metadata": {},
   "source": [
    "#### 12 - Apresente os 3 piores vendedores não considerando aqueles que não têm vendas nem os que estiveram de férias"
   ]
  },
  {
   "cell_type": "code",
   "execution_count": 94,
   "id": "3814f4c3",
   "metadata": {},
   "outputs": [
    {
     "data": {
      "text/plain": [
       "5     Maria\n",
       "8      Vera\n",
       "6    Raquel\n",
       "Name: vendedor, dtype: object"
      ]
     },
     "execution_count": 94,
     "metadata": {},
     "output_type": "execute_result"
    }
   ],
   "source": [
    "\n",
    "df2= (df1.loc[df1['ferias'] == 'não']).dropna()\n",
    "df2.nsmallest(3,['vendas_semana']).vendedor\n"
   ]
  },
  {
   "cell_type": "markdown",
   "id": "4d43a1e0",
   "metadata": {},
   "source": [
    "#### 13 - Descubra a soma das vendas por tipo de horário"
   ]
  },
  {
   "cell_type": "code",
   "execution_count": 125,
   "id": "eae28731",
   "metadata": {},
   "outputs": [
    {
     "data": {
      "text/html": [
       "<div>\n",
       "<style scoped>\n",
       "    .dataframe tbody tr th:only-of-type {\n",
       "        vertical-align: middle;\n",
       "    }\n",
       "\n",
       "    .dataframe tbody tr th {\n",
       "        vertical-align: top;\n",
       "    }\n",
       "\n",
       "    .dataframe thead th {\n",
       "        text-align: right;\n",
       "    }\n",
       "</style>\n",
       "<table border=\"1\" class=\"dataframe\">\n",
       "  <thead>\n",
       "    <tr style=\"text-align: right;\">\n",
       "      <th></th>\n",
       "      <th>vendas_semana</th>\n",
       "      <th>comissao</th>\n",
       "    </tr>\n",
       "    <tr>\n",
       "      <th>horario</th>\n",
       "      <th></th>\n",
       "      <th></th>\n",
       "    </tr>\n",
       "  </thead>\n",
       "  <tbody>\n",
       "    <tr>\n",
       "      <th>FT</th>\n",
       "      <td>19000.0</td>\n",
       "      <td>950.0</td>\n",
       "    </tr>\n",
       "    <tr>\n",
       "      <th>PT</th>\n",
       "      <td>10850.0</td>\n",
       "      <td>542.5</td>\n",
       "    </tr>\n",
       "  </tbody>\n",
       "</table>\n",
       "</div>"
      ],
      "text/plain": [
       "         vendas_semana  comissao\n",
       "horario                         \n",
       "FT             19000.0     950.0\n",
       "PT             10850.0     542.5"
      ]
     },
     "execution_count": 125,
     "metadata": {},
     "output_type": "execute_result"
    }
   ],
   "source": [
    "df1.groupby(['horario']).sum()\n"
   ]
  },
  {
   "cell_type": "markdown",
   "id": "849c6182",
   "metadata": {},
   "source": [
    "#### 14. Apague do DataFrame1 os valores nulos"
   ]
  },
  {
   "cell_type": "markdown",
   "id": "6ab9acd8",
   "metadata": {},
   "source": [
    "df1 = df1.dropna()\n",
    "df1"
   ]
  },
  {
   "cell_type": "markdown",
   "id": "0a6bb9df",
   "metadata": {},
   "source": [
    "#### 15 - Sabendo que os vendedores recebem 5% de comissão, crie uma coluna no datafram com o nome \"comissao\" onde apresente o valor da comissão a receber pelo vendedor."
   ]
  },
  {
   "cell_type": "code",
   "execution_count": 104,
   "id": "1c9c4559",
   "metadata": {},
   "outputs": [
    {
     "data": {
      "text/html": [
       "<div>\n",
       "<style scoped>\n",
       "    .dataframe tbody tr th:only-of-type {\n",
       "        vertical-align: middle;\n",
       "    }\n",
       "\n",
       "    .dataframe tbody tr th {\n",
       "        vertical-align: top;\n",
       "    }\n",
       "\n",
       "    .dataframe thead th {\n",
       "        text-align: right;\n",
       "    }\n",
       "</style>\n",
       "<table border=\"1\" class=\"dataframe\">\n",
       "  <thead>\n",
       "    <tr style=\"text-align: right;\">\n",
       "      <th></th>\n",
       "      <th>vendedor</th>\n",
       "      <th>vendas_semana</th>\n",
       "      <th>horario</th>\n",
       "      <th>ferias</th>\n",
       "      <th>comissao</th>\n",
       "    </tr>\n",
       "  </thead>\n",
       "  <tbody>\n",
       "    <tr>\n",
       "      <th>0</th>\n",
       "      <td>Ana</td>\n",
       "      <td>10000.0</td>\n",
       "      <td>FT</td>\n",
       "      <td>não</td>\n",
       "      <td>500.0</td>\n",
       "    </tr>\n",
       "    <tr>\n",
       "      <th>1</th>\n",
       "      <td>Arnalda</td>\n",
       "      <td>1900.0</td>\n",
       "      <td>PT</td>\n",
       "      <td>não</td>\n",
       "      <td>95.0</td>\n",
       "    </tr>\n",
       "    <tr>\n",
       "      <th>2</th>\n",
       "      <td>Bernardo</td>\n",
       "      <td>1200.0</td>\n",
       "      <td>PT</td>\n",
       "      <td>sim</td>\n",
       "      <td>60.0</td>\n",
       "    </tr>\n",
       "    <tr>\n",
       "      <th>4</th>\n",
       "      <td>Jorge</td>\n",
       "      <td>9000.0</td>\n",
       "      <td>FT</td>\n",
       "      <td>não</td>\n",
       "      <td>450.0</td>\n",
       "    </tr>\n",
       "    <tr>\n",
       "      <th>5</th>\n",
       "      <td>Maria</td>\n",
       "      <td>1500.0</td>\n",
       "      <td>PT</td>\n",
       "      <td>não</td>\n",
       "      <td>75.0</td>\n",
       "    </tr>\n",
       "    <tr>\n",
       "      <th>6</th>\n",
       "      <td>Raquel</td>\n",
       "      <td>1700.0</td>\n",
       "      <td>PT</td>\n",
       "      <td>não</td>\n",
       "      <td>85.0</td>\n",
       "    </tr>\n",
       "    <tr>\n",
       "      <th>7</th>\n",
       "      <td>Rodrigo</td>\n",
       "      <td>3000.0</td>\n",
       "      <td>PT</td>\n",
       "      <td>não</td>\n",
       "      <td>150.0</td>\n",
       "    </tr>\n",
       "    <tr>\n",
       "      <th>8</th>\n",
       "      <td>Vera</td>\n",
       "      <td>1550.0</td>\n",
       "      <td>PT</td>\n",
       "      <td>não</td>\n",
       "      <td>77.5</td>\n",
       "    </tr>\n",
       "  </tbody>\n",
       "</table>\n",
       "</div>"
      ],
      "text/plain": [
       "   vendedor  vendas_semana horario ferias  comissao\n",
       "0       Ana        10000.0      FT    não     500.0\n",
       "1   Arnalda         1900.0      PT    não      95.0\n",
       "2  Bernardo         1200.0      PT    sim      60.0\n",
       "4     Jorge         9000.0      FT    não     450.0\n",
       "5     Maria         1500.0      PT    não      75.0\n",
       "6    Raquel         1700.0      PT    não      85.0\n",
       "7   Rodrigo         3000.0      PT    não     150.0\n",
       "8      Vera         1550.0      PT    não      77.5"
      ]
     },
     "execution_count": 104,
     "metadata": {},
     "output_type": "execute_result"
    }
   ],
   "source": [
    "df1['comissao'] = df1['vendas_semana']*0.05\n",
    "df1"
   ]
  },
  {
   "cell_type": "markdown",
   "id": "a4994bfe",
   "metadata": {},
   "source": [
    "## Parte 2"
   ]
  },
  {
   "cell_type": "markdown",
   "id": "9db377e1",
   "metadata": {},
   "source": [
    "Nesta parte será esperada a resolução, de forma crítica das seguintes tarefas:<br>\n",
    "- crie 3 DataFrames, vendas, produto e cliente, a partir dos ficheiros csv fornecidos<br>\n",
    "- crie um dataframe único que compile a informação dos 3 dataframes criados na tarefa anterior<br>\n",
    "- apague as colunas que não forem necessárias para a análise<br>\n",
    "- altere o nome das colunas para a sua tradução portuguesa<br>\n",
    "- descubra o cliente que fez mais compras em valor <br>\n",
    "- descubra o produto mais vendido em valor e o valor total de vendas do mesmo<br>\n",
    "- descubra o produto menos vendido em valor<br>\n",
    "- descubra a quantidade de produtos comprada pelo cliente que efetuou menos compras em quantidade<br>\n",
    "- apresente o valor de vendas totais por loja<br>\n",
    "Nota: o valor de vendas deve ser calculado a partir da quantidade e do seu preço.<br>"
   ]
  },
  {
   "cell_type": "code",
   "execution_count": 130,
   "id": "7229dd51",
   "metadata": {},
   "outputs": [
    {
     "data": {
      "text/plain": [
       "(   sale_id  c_id  p_id  product  qty store\n",
       " 0        1     2     3  Monitor    2   ABC\n",
       " 1        2     2     4      CPU    1   DEF\n",
       " 2        3     1     3  Monitor    3   ABC\n",
       " 3        4     4     2      RAM    2   DEF\n",
       " 4        5     2     3  Monitor    3   ABC\n",
       " 5        6     3     3  Monitor    2   DEF\n",
       " 6        7     2     2      RAM    3   ABC\n",
       " 7        8     3     2      RAM    2   DEF\n",
       " 8        9     2     3  Monitor    2   ABC,\n",
       "    p_id       product  price\n",
       " 0     1     Hard Disk     80\n",
       " 1     2           RAM     90\n",
       " 2     3       Monitor     75\n",
       " 3     4           CPU     55\n",
       " 4     5      Keyboard     20\n",
       " 5     6         Mouse     10\n",
       " 6     7   Motherboard     50\n",
       " 7     8  Power supply     20,\n",
       "    c_id Customer\n",
       " 0     1     Rabi\n",
       " 1     2     Raju\n",
       " 2     3     Alex\n",
       " 3     4     Rani\n",
       " 4     5     King\n",
       " 5     7     Ronn\n",
       " 6     8      Jem\n",
       " 7     9      Tom)"
      ]
     },
     "execution_count": 130,
     "metadata": {},
     "output_type": "execute_result"
    }
   ],
   "source": [
    "vendas = pd.read_csv('sales.csv')\n",
    "produto = pd.read_csv('products.csv')\n",
    "cliente = pd.read_csv('customer.csv')\n",
    "vendas,produto,cliente"
   ]
  },
  {
   "cell_type": "code",
   "execution_count": 146,
   "id": "0ffaccd9",
   "metadata": {},
   "outputs": [
    {
     "data": {
      "text/html": [
       "<div>\n",
       "<style scoped>\n",
       "    .dataframe tbody tr th:only-of-type {\n",
       "        vertical-align: middle;\n",
       "    }\n",
       "\n",
       "    .dataframe tbody tr th {\n",
       "        vertical-align: top;\n",
       "    }\n",
       "\n",
       "    .dataframe thead th {\n",
       "        text-align: right;\n",
       "    }\n",
       "</style>\n",
       "<table border=\"1\" class=\"dataframe\">\n",
       "  <thead>\n",
       "    <tr style=\"text-align: right;\">\n",
       "      <th></th>\n",
       "      <th>sale_id</th>\n",
       "      <th>c_id</th>\n",
       "      <th>p_id</th>\n",
       "      <th>product_x</th>\n",
       "      <th>qty</th>\n",
       "      <th>store</th>\n",
       "      <th>product_y</th>\n",
       "      <th>price</th>\n",
       "      <th>Customer</th>\n",
       "    </tr>\n",
       "  </thead>\n",
       "  <tbody>\n",
       "    <tr>\n",
       "      <th>0</th>\n",
       "      <td>1</td>\n",
       "      <td>2</td>\n",
       "      <td>3</td>\n",
       "      <td>Monitor</td>\n",
       "      <td>2</td>\n",
       "      <td>ABC</td>\n",
       "      <td>Monitor</td>\n",
       "      <td>75</td>\n",
       "      <td>Raju</td>\n",
       "    </tr>\n",
       "    <tr>\n",
       "      <th>1</th>\n",
       "      <td>5</td>\n",
       "      <td>2</td>\n",
       "      <td>3</td>\n",
       "      <td>Monitor</td>\n",
       "      <td>3</td>\n",
       "      <td>ABC</td>\n",
       "      <td>Monitor</td>\n",
       "      <td>75</td>\n",
       "      <td>Raju</td>\n",
       "    </tr>\n",
       "    <tr>\n",
       "      <th>2</th>\n",
       "      <td>9</td>\n",
       "      <td>2</td>\n",
       "      <td>3</td>\n",
       "      <td>Monitor</td>\n",
       "      <td>2</td>\n",
       "      <td>ABC</td>\n",
       "      <td>Monitor</td>\n",
       "      <td>75</td>\n",
       "      <td>Raju</td>\n",
       "    </tr>\n",
       "    <tr>\n",
       "      <th>3</th>\n",
       "      <td>2</td>\n",
       "      <td>2</td>\n",
       "      <td>4</td>\n",
       "      <td>CPU</td>\n",
       "      <td>1</td>\n",
       "      <td>DEF</td>\n",
       "      <td>CPU</td>\n",
       "      <td>55</td>\n",
       "      <td>Raju</td>\n",
       "    </tr>\n",
       "    <tr>\n",
       "      <th>4</th>\n",
       "      <td>7</td>\n",
       "      <td>2</td>\n",
       "      <td>2</td>\n",
       "      <td>RAM</td>\n",
       "      <td>3</td>\n",
       "      <td>ABC</td>\n",
       "      <td>RAM</td>\n",
       "      <td>90</td>\n",
       "      <td>Raju</td>\n",
       "    </tr>\n",
       "    <tr>\n",
       "      <th>5</th>\n",
       "      <td>3</td>\n",
       "      <td>1</td>\n",
       "      <td>3</td>\n",
       "      <td>Monitor</td>\n",
       "      <td>3</td>\n",
       "      <td>ABC</td>\n",
       "      <td>Monitor</td>\n",
       "      <td>75</td>\n",
       "      <td>Rabi</td>\n",
       "    </tr>\n",
       "    <tr>\n",
       "      <th>6</th>\n",
       "      <td>6</td>\n",
       "      <td>3</td>\n",
       "      <td>3</td>\n",
       "      <td>Monitor</td>\n",
       "      <td>2</td>\n",
       "      <td>DEF</td>\n",
       "      <td>Monitor</td>\n",
       "      <td>75</td>\n",
       "      <td>Alex</td>\n",
       "    </tr>\n",
       "    <tr>\n",
       "      <th>7</th>\n",
       "      <td>8</td>\n",
       "      <td>3</td>\n",
       "      <td>2</td>\n",
       "      <td>RAM</td>\n",
       "      <td>2</td>\n",
       "      <td>DEF</td>\n",
       "      <td>RAM</td>\n",
       "      <td>90</td>\n",
       "      <td>Alex</td>\n",
       "    </tr>\n",
       "    <tr>\n",
       "      <th>8</th>\n",
       "      <td>4</td>\n",
       "      <td>4</td>\n",
       "      <td>2</td>\n",
       "      <td>RAM</td>\n",
       "      <td>2</td>\n",
       "      <td>DEF</td>\n",
       "      <td>RAM</td>\n",
       "      <td>90</td>\n",
       "      <td>Rani</td>\n",
       "    </tr>\n",
       "  </tbody>\n",
       "</table>\n",
       "</div>"
      ],
      "text/plain": [
       "   sale_id  c_id  p_id product_x  qty store product_y  price Customer\n",
       "0        1     2     3   Monitor    2   ABC   Monitor     75     Raju\n",
       "1        5     2     3   Monitor    3   ABC   Monitor     75     Raju\n",
       "2        9     2     3   Monitor    2   ABC   Monitor     75     Raju\n",
       "3        2     2     4       CPU    1   DEF       CPU     55     Raju\n",
       "4        7     2     2       RAM    3   ABC       RAM     90     Raju\n",
       "5        3     1     3   Monitor    3   ABC   Monitor     75     Rabi\n",
       "6        6     3     3   Monitor    2   DEF   Monitor     75     Alex\n",
       "7        8     3     2       RAM    2   DEF       RAM     90     Alex\n",
       "8        4     4     2       RAM    2   DEF       RAM     90     Rani"
      ]
     },
     "execution_count": 146,
     "metadata": {},
     "output_type": "execute_result"
    }
   ],
   "source": [
    "vp= vendas.merge(produto, left_on='p_id', right_on='p_id')\n",
    "vcp = v_p.merge(cliente, left_on='c_id', right_on='c_id')\n",
    "vcp"
   ]
  },
  {
   "cell_type": "code",
   "execution_count": 152,
   "id": "4b47f71e",
   "metadata": {},
   "outputs": [],
   "source": [
    "vcp = vcp.drop(columns=['product_y', 'sale_id','c_id', 'p_id'])"
   ]
  },
  {
   "cell_type": "code",
   "execution_count": 153,
   "id": "9088a18f",
   "metadata": {},
   "outputs": [
    {
     "data": {
      "text/html": [
       "<div>\n",
       "<style scoped>\n",
       "    .dataframe tbody tr th:only-of-type {\n",
       "        vertical-align: middle;\n",
       "    }\n",
       "\n",
       "    .dataframe tbody tr th {\n",
       "        vertical-align: top;\n",
       "    }\n",
       "\n",
       "    .dataframe thead th {\n",
       "        text-align: right;\n",
       "    }\n",
       "</style>\n",
       "<table border=\"1\" class=\"dataframe\">\n",
       "  <thead>\n",
       "    <tr style=\"text-align: right;\">\n",
       "      <th></th>\n",
       "      <th>produto</th>\n",
       "      <th>qt</th>\n",
       "      <th>loja</th>\n",
       "      <th>preço</th>\n",
       "      <th>cliente</th>\n",
       "    </tr>\n",
       "  </thead>\n",
       "  <tbody>\n",
       "    <tr>\n",
       "      <th>0</th>\n",
       "      <td>Monitor</td>\n",
       "      <td>2</td>\n",
       "      <td>ABC</td>\n",
       "      <td>75</td>\n",
       "      <td>Raju</td>\n",
       "    </tr>\n",
       "    <tr>\n",
       "      <th>1</th>\n",
       "      <td>Monitor</td>\n",
       "      <td>3</td>\n",
       "      <td>ABC</td>\n",
       "      <td>75</td>\n",
       "      <td>Raju</td>\n",
       "    </tr>\n",
       "    <tr>\n",
       "      <th>2</th>\n",
       "      <td>Monitor</td>\n",
       "      <td>2</td>\n",
       "      <td>ABC</td>\n",
       "      <td>75</td>\n",
       "      <td>Raju</td>\n",
       "    </tr>\n",
       "    <tr>\n",
       "      <th>3</th>\n",
       "      <td>CPU</td>\n",
       "      <td>1</td>\n",
       "      <td>DEF</td>\n",
       "      <td>55</td>\n",
       "      <td>Raju</td>\n",
       "    </tr>\n",
       "    <tr>\n",
       "      <th>4</th>\n",
       "      <td>RAM</td>\n",
       "      <td>3</td>\n",
       "      <td>ABC</td>\n",
       "      <td>90</td>\n",
       "      <td>Raju</td>\n",
       "    </tr>\n",
       "    <tr>\n",
       "      <th>5</th>\n",
       "      <td>Monitor</td>\n",
       "      <td>3</td>\n",
       "      <td>ABC</td>\n",
       "      <td>75</td>\n",
       "      <td>Rabi</td>\n",
       "    </tr>\n",
       "    <tr>\n",
       "      <th>6</th>\n",
       "      <td>Monitor</td>\n",
       "      <td>2</td>\n",
       "      <td>DEF</td>\n",
       "      <td>75</td>\n",
       "      <td>Alex</td>\n",
       "    </tr>\n",
       "    <tr>\n",
       "      <th>7</th>\n",
       "      <td>RAM</td>\n",
       "      <td>2</td>\n",
       "      <td>DEF</td>\n",
       "      <td>90</td>\n",
       "      <td>Alex</td>\n",
       "    </tr>\n",
       "    <tr>\n",
       "      <th>8</th>\n",
       "      <td>RAM</td>\n",
       "      <td>2</td>\n",
       "      <td>DEF</td>\n",
       "      <td>90</td>\n",
       "      <td>Rani</td>\n",
       "    </tr>\n",
       "  </tbody>\n",
       "</table>\n",
       "</div>"
      ],
      "text/plain": [
       "   produto  qt loja  preço cliente\n",
       "0  Monitor   2  ABC     75    Raju\n",
       "1  Monitor   3  ABC     75    Raju\n",
       "2  Monitor   2  ABC     75    Raju\n",
       "3      CPU   1  DEF     55    Raju\n",
       "4      RAM   3  ABC     90    Raju\n",
       "5  Monitor   3  ABC     75    Rabi\n",
       "6  Monitor   2  DEF     75    Alex\n",
       "7      RAM   2  DEF     90    Alex\n",
       "8      RAM   2  DEF     90    Rani"
      ]
     },
     "execution_count": 153,
     "metadata": {},
     "output_type": "execute_result"
    }
   ],
   "source": [
    "vcp.rename(columns = {'product_x':'produto', 'qty':'qt', 'store':'loja', 'price':'preço', 'Customer':'cliente'}, inplace = True)\n",
    "vcp"
   ]
  },
  {
   "cell_type": "code",
   "execution_count": 175,
   "id": "80a57346",
   "metadata": {},
   "outputs": [],
   "source": [
    "vcp['valor'] = vcp['qt']*vcp['preço']"
   ]
  },
  {
   "cell_type": "code",
   "execution_count": 177,
   "id": "59d2b4a3",
   "metadata": {},
   "outputs": [
    {
     "data": {
      "text/html": [
       "<div>\n",
       "<style scoped>\n",
       "    .dataframe tbody tr th:only-of-type {\n",
       "        vertical-align: middle;\n",
       "    }\n",
       "\n",
       "    .dataframe tbody tr th {\n",
       "        vertical-align: top;\n",
       "    }\n",
       "\n",
       "    .dataframe thead th {\n",
       "        text-align: right;\n",
       "    }\n",
       "</style>\n",
       "<table border=\"1\" class=\"dataframe\">\n",
       "  <thead>\n",
       "    <tr style=\"text-align: right;\">\n",
       "      <th></th>\n",
       "      <th>qt</th>\n",
       "      <th>preço</th>\n",
       "      <th>valor</th>\n",
       "    </tr>\n",
       "    <tr>\n",
       "      <th>cliente</th>\n",
       "      <th></th>\n",
       "      <th></th>\n",
       "      <th></th>\n",
       "    </tr>\n",
       "  </thead>\n",
       "  <tbody>\n",
       "    <tr>\n",
       "      <th>Raju</th>\n",
       "      <td>11</td>\n",
       "      <td>370</td>\n",
       "      <td>850</td>\n",
       "    </tr>\n",
       "  </tbody>\n",
       "</table>\n",
       "</div>"
      ],
      "text/plain": [
       "         qt  preço  valor\n",
       "cliente                  \n",
       "Raju     11    370    850"
      ]
     },
     "execution_count": 177,
     "metadata": {},
     "output_type": "execute_result"
    }
   ],
   "source": [
    "# descubra o cliente que fez mais compras em valor\n",
    "vcp.groupby(['cliente']).sum().nlargest(1,['valor'])\n"
   ]
  },
  {
   "cell_type": "code",
   "execution_count": 198,
   "id": "1d832f50",
   "metadata": {},
   "outputs": [
    {
     "data": {
      "text/html": [
       "<div>\n",
       "<style scoped>\n",
       "    .dataframe tbody tr th:only-of-type {\n",
       "        vertical-align: middle;\n",
       "    }\n",
       "\n",
       "    .dataframe tbody tr th {\n",
       "        vertical-align: top;\n",
       "    }\n",
       "\n",
       "    .dataframe thead th {\n",
       "        text-align: right;\n",
       "    }\n",
       "</style>\n",
       "<table border=\"1\" class=\"dataframe\">\n",
       "  <thead>\n",
       "    <tr style=\"text-align: right;\">\n",
       "      <th></th>\n",
       "      <th>valor</th>\n",
       "    </tr>\n",
       "    <tr>\n",
       "      <th>produto</th>\n",
       "      <th></th>\n",
       "    </tr>\n",
       "  </thead>\n",
       "  <tbody>\n",
       "    <tr>\n",
       "      <th>Monitor</th>\n",
       "      <td>900</td>\n",
       "    </tr>\n",
       "  </tbody>\n",
       "</table>\n",
       "</div>"
      ],
      "text/plain": [
       "         valor\n",
       "produto       \n",
       "Monitor    900"
      ]
     },
     "execution_count": 198,
     "metadata": {},
     "output_type": "execute_result"
    }
   ],
   "source": [
    "# descubra o produto mais vendido em valor e o valor total de vendas do mesmo\n",
    "vcp.groupby(['produto']).sum().nlargest(1,['valor']).loc[:, [\"valor\"]]"
   ]
  },
  {
   "cell_type": "code",
   "execution_count": 200,
   "id": "929c596e",
   "metadata": {},
   "outputs": [
    {
     "data": {
      "text/html": [
       "<div>\n",
       "<style scoped>\n",
       "    .dataframe tbody tr th:only-of-type {\n",
       "        vertical-align: middle;\n",
       "    }\n",
       "\n",
       "    .dataframe tbody tr th {\n",
       "        vertical-align: top;\n",
       "    }\n",
       "\n",
       "    .dataframe thead th {\n",
       "        text-align: right;\n",
       "    }\n",
       "</style>\n",
       "<table border=\"1\" class=\"dataframe\">\n",
       "  <thead>\n",
       "    <tr style=\"text-align: right;\">\n",
       "      <th></th>\n",
       "      <th>valor</th>\n",
       "    </tr>\n",
       "    <tr>\n",
       "      <th>produto</th>\n",
       "      <th></th>\n",
       "    </tr>\n",
       "  </thead>\n",
       "  <tbody>\n",
       "    <tr>\n",
       "      <th>CPU</th>\n",
       "      <td>55</td>\n",
       "    </tr>\n",
       "  </tbody>\n",
       "</table>\n",
       "</div>"
      ],
      "text/plain": [
       "         valor\n",
       "produto       \n",
       "CPU         55"
      ]
     },
     "execution_count": 200,
     "metadata": {},
     "output_type": "execute_result"
    }
   ],
   "source": [
    "# descubra o produto menos vendido em valor\n",
    "vcp.groupby(['produto']).sum().nsmallest(1,['valor']).loc[:, [\"valor\"]]"
   ]
  },
  {
   "cell_type": "code",
   "execution_count": 192,
   "id": "a42414e4",
   "metadata": {},
   "outputs": [
    {
     "data": {
      "text/html": [
       "<div>\n",
       "<style scoped>\n",
       "    .dataframe tbody tr th:only-of-type {\n",
       "        vertical-align: middle;\n",
       "    }\n",
       "\n",
       "    .dataframe tbody tr th {\n",
       "        vertical-align: top;\n",
       "    }\n",
       "\n",
       "    .dataframe thead th {\n",
       "        text-align: right;\n",
       "    }\n",
       "</style>\n",
       "<table border=\"1\" class=\"dataframe\">\n",
       "  <thead>\n",
       "    <tr style=\"text-align: right;\">\n",
       "      <th></th>\n",
       "      <th>qt</th>\n",
       "    </tr>\n",
       "    <tr>\n",
       "      <th>cliente</th>\n",
       "      <th></th>\n",
       "    </tr>\n",
       "  </thead>\n",
       "  <tbody>\n",
       "    <tr>\n",
       "      <th>Rani</th>\n",
       "      <td>2</td>\n",
       "    </tr>\n",
       "  </tbody>\n",
       "</table>\n",
       "</div>"
      ],
      "text/plain": [
       "         qt\n",
       "cliente    \n",
       "Rani      2"
      ]
     },
     "execution_count": 192,
     "metadata": {},
     "output_type": "execute_result"
    }
   ],
   "source": [
    "# descubra a quantidade de produtos comprada pelo cliente que efetuou menos compras em quantidade\n",
    "vcp.groupby(['cliente']).sum().nsmallest(1,['qt']).loc[:, [\"qt\"]]"
   ]
  },
  {
   "cell_type": "code",
   "execution_count": 191,
   "id": "00a90cfc",
   "metadata": {},
   "outputs": [
    {
     "data": {
      "text/html": [
       "<div>\n",
       "<style scoped>\n",
       "    .dataframe tbody tr th:only-of-type {\n",
       "        vertical-align: middle;\n",
       "    }\n",
       "\n",
       "    .dataframe tbody tr th {\n",
       "        vertical-align: top;\n",
       "    }\n",
       "\n",
       "    .dataframe thead th {\n",
       "        text-align: right;\n",
       "    }\n",
       "</style>\n",
       "<table border=\"1\" class=\"dataframe\">\n",
       "  <thead>\n",
       "    <tr style=\"text-align: right;\">\n",
       "      <th></th>\n",
       "      <th>valor</th>\n",
       "    </tr>\n",
       "    <tr>\n",
       "      <th>loja</th>\n",
       "      <th></th>\n",
       "    </tr>\n",
       "  </thead>\n",
       "  <tbody>\n",
       "    <tr>\n",
       "      <th>ABC</th>\n",
       "      <td>1020</td>\n",
       "    </tr>\n",
       "    <tr>\n",
       "      <th>DEF</th>\n",
       "      <td>565</td>\n",
       "    </tr>\n",
       "  </tbody>\n",
       "</table>\n",
       "</div>"
      ],
      "text/plain": [
       "      valor\n",
       "loja       \n",
       "ABC    1020\n",
       "DEF     565"
      ]
     },
     "execution_count": 191,
     "metadata": {},
     "output_type": "execute_result"
    }
   ],
   "source": [
    "# apresente o valor de vendas totais por loja\n",
    "vcp.groupby(['loja']).sum().loc[:, [\"valor\"]]\n"
   ]
  },
  {
   "cell_type": "code",
   "execution_count": null,
   "id": "b85f7f41",
   "metadata": {},
   "outputs": [],
   "source": []
  }
 ],
 "metadata": {
  "kernelspec": {
   "display_name": "Python 3 (ipykernel)",
   "language": "python",
   "name": "python3"
  },
  "language_info": {
   "codemirror_mode": {
    "name": "ipython",
    "version": 3
   },
   "file_extension": ".py",
   "mimetype": "text/x-python",
   "name": "python",
   "nbconvert_exporter": "python",
   "pygments_lexer": "ipython3",
   "version": "3.9.12"
  }
 },
 "nbformat": 4,
 "nbformat_minor": 5
}
