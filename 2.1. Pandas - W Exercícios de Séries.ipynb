{
 "cells": [
  {
   "cell_type": "markdown",
   "id": "e11f64ba",
   "metadata": {},
   "source": [
    "# 2.1 Exercícios de Pandas – Series"
   ]
  },
  {
   "cell_type": "code",
   "execution_count": 8,
   "id": "8d51e284",
   "metadata": {},
   "outputs": [],
   "source": [
    "import pandas as pd\n",
    "import numpy as np"
   ]
  },
  {
   "cell_type": "markdown",
   "id": "7407e847",
   "metadata": {},
   "source": [
    "1.Crie e exiba um objeto semelhante a um array unidimensional usando a biblioteca pandas. "
   ]
  },
  {
   "cell_type": "code",
   "execution_count": 2,
   "id": "dc75824f",
   "metadata": {},
   "outputs": [
    {
     "name": "stdout",
     "output_type": "stream",
     "text": [
      "0     2\n",
      "1     4\n",
      "2     6\n",
      "3     8\n",
      "4    10\n",
      "dtype: int64\n"
     ]
    }
   ],
   "source": [
    "ds = pd.Series([2, 4, 6, 8, 10])\n",
    "print(ds)"
   ]
  },
  {
   "cell_type": "markdown",
   "id": "017869a4",
   "metadata": {},
   "source": [
    "2.Converta um módulo Pandas Series para lista Python. "
   ]
  },
  {
   "cell_type": "code",
   "execution_count": 4,
   "id": "d66d698a",
   "metadata": {},
   "outputs": [
    {
     "name": "stdout",
     "output_type": "stream",
     "text": [
      "Pandas Serie e tipo\n",
      "0     2\n",
      "1     4\n",
      "2     6\n",
      "3     8\n",
      "4    10\n",
      "dtype: int64\n",
      "<class 'pandas.core.series.Series'>\n",
      "Converter série pandas para lista python\n",
      "[2, 4, 6, 8, 10]\n",
      "<class 'list'>\n"
     ]
    }
   ],
   "source": [
    "ds = pd.Series([2, 4, 6, 8, 10])\n",
    "print(\"Pandas Serie e tipo\")\n",
    "print(ds)\n",
    "print(type(ds))\n",
    "print(\"Converter série pandas para lista python\")\n",
    "print(ds.tolist())\n",
    "print(type(ds.tolist()))"
   ]
  },
  {
   "cell_type": "markdown",
   "id": "b99cd33b",
   "metadata": {},
   "source": [
    "3.Aplique as seguintes operações nas séries de amostra: somar, subtrair, multiplicar e dividir duas Séries Pandas. <br>\n",
    "Série de Amostra: [2, 4, 6, 8, 10], [1, 3, 5, 7, 9]<br>"
   ]
  },
  {
   "cell_type": "code",
   "execution_count": null,
   "id": "4aa856cd",
   "metadata": {},
   "outputs": [],
   "source": [
    "ds1 = pd.Series([2, 4, 6, 8, 10])\n",
    "ds2 = pd.Series([1, 3, 5, 7, 9])\n",
    "ds = ds1 + ds2\n",
    "print(\"Adição:\")\n",
    "print(ds)\n",
    "print(\"Subtração:\")\n",
    "ds = ds1 - ds2\n",
    "print(ds)\n",
    "print(\"Multiplicação:\")\n",
    "ds = ds1 * ds2\n",
    "print(ds)\n",
    "print(\"Divisão:\")\n",
    "ds = ds1 / ds2\n",
    "print(ds)"
   ]
  },
  {
   "cell_type": "markdown",
   "id": "bffa992a",
   "metadata": {},
   "source": [
    "4.Compare os elementos das duas Séries. <br>\n",
    "Série de Amostra: [2, 4, 6, 8, 10], [1, 3, 5, 7, 10]<br>"
   ]
  },
  {
   "cell_type": "code",
   "execution_count": 5,
   "id": "8fdae92a",
   "metadata": {},
   "outputs": [
    {
     "name": "stdout",
     "output_type": "stream",
     "text": [
      "Serie1:\n",
      "0     2\n",
      "1     4\n",
      "2     6\n",
      "3     8\n",
      "4    10\n",
      "dtype: int64\n",
      "Serie2:\n",
      "0     1\n",
      "1     3\n",
      "2     5\n",
      "3     7\n",
      "4    10\n",
      "dtype: int64\n",
      "Comparar os elementos das séries dadas:\n",
      "Igualdade:\n",
      "0    False\n",
      "1    False\n",
      "2    False\n",
      "3    False\n",
      "4     True\n",
      "dtype: bool\n",
      "Maior:\n",
      "0     True\n",
      "1     True\n",
      "2     True\n",
      "3     True\n",
      "4    False\n",
      "dtype: bool\n",
      "Menor:\n",
      "0    False\n",
      "1    False\n",
      "2    False\n",
      "3    False\n",
      "4    False\n",
      "dtype: bool\n"
     ]
    }
   ],
   "source": [
    "ds1 = pd.Series([2, 4, 6, 8, 10])\n",
    "ds2 = pd.Series([1, 3, 5, 7, 10])\n",
    "print(\"Serie1:\")\n",
    "print(ds1)\n",
    "print(\"Serie2:\")\n",
    "print(ds2)\n",
    "print(\"Comparar os elementos das séries dadas:\")\n",
    "print(\"Igualdade:\")\n",
    "print(ds1 == ds2)\n",
    "print(\"Maior:\")\n",
    "print(ds1 > ds2)\n",
    "print(\"Menor:\")\n",
    "print(ds1 < ds2)"
   ]
  },
  {
   "cell_type": "markdown",
   "id": "3f8f66f0",
   "metadata": {},
   "source": [
    "5.Converta um dicionário numa série. <br>\n",
    "Dicionário original:<br>\n",
    "{'a': 100, 'b': 200, 'c': 300, 'd': 400, 'e': 800}<br>"
   ]
  },
  {
   "cell_type": "code",
   "execution_count": 6,
   "id": "64d526fc",
   "metadata": {},
   "outputs": [
    {
     "name": "stdout",
     "output_type": "stream",
     "text": [
      "Dicionário original:\n",
      "{'a': 100, 'b': 200, 'c': 300, 'd': 400, 'e': 800}\n",
      "Série:\n",
      "a    100\n",
      "b    200\n",
      "c    300\n",
      "d    400\n",
      "e    800\n",
      "dtype: int64\n"
     ]
    }
   ],
   "source": [
    "d1 = {'a': 100, 'b': 200, 'c':300, 'd':400, 'e':800}\n",
    "print(\"Dicionário original:\")\n",
    "print(d1)\n",
    "new_series = pd.Series(d1)\n",
    "print(\"Série:\")\n",
    "print(new_series)"
   ]
  },
  {
   "cell_type": "markdown",
   "id": "bcd15602",
   "metadata": {},
   "source": [
    "6.Converta um array NumPy numa série. <br>\n",
    "Array NumPy:<br>\n",
    "[10 20 30 40 50]<br>"
   ]
  },
  {
   "cell_type": "code",
   "execution_count": 9,
   "id": "0a1c2fc0",
   "metadata": {},
   "outputs": [
    {
     "name": "stdout",
     "output_type": "stream",
     "text": [
      "Array NumPy:\n",
      "[10 20 30 40 50]\n",
      "Série:\n",
      "0    10\n",
      "1    20\n",
      "2    30\n",
      "3    40\n",
      "4    50\n",
      "dtype: int32\n"
     ]
    }
   ],
   "source": [
    "np_array = np.array([10, 20, 30, 40, 50])\n",
    "print(\"Array NumPy:\")\n",
    "print(np_array)\n",
    "new_series = pd.Series(np_array)\n",
    "print(\"Série:\")\n",
    "print(new_series)\n"
   ]
  },
  {
   "cell_type": "markdown",
   "id": "dd62a6d4",
   "metadata": {},
   "source": [
    "7.Altere o tipo de dados da seguinte série para o tipo de dados numérico.\n",
    "\n",
    "0 100 <br>\n",
    "1 200 <br>\n",
    "2 python <br>\n",
    "3 300,12 <br>\n",
    "4 400 <br>\n",
    "dtype: objeto <br>"
   ]
  },
  {
   "cell_type": "code",
   "execution_count": 10,
   "id": "8ae14495",
   "metadata": {},
   "outputs": [
    {
     "name": "stdout",
     "output_type": "stream",
     "text": [
      "Série original:\n",
      "0       100\n",
      "1       200\n",
      "2    python\n",
      "3    300.12\n",
      "4       400\n",
      "dtype: object\n",
      "Alteração do tipo de dados para numérico:\n",
      "0    100.00\n",
      "1    200.00\n",
      "2       NaN\n",
      "3    300.12\n",
      "4    400.00\n",
      "dtype: float64\n"
     ]
    }
   ],
   "source": [
    "s1 = pd.Series(['100', '200', 'python', '300.12', '400'])\n",
    "print(\"Série original:\")\n",
    "print(s1)\n",
    "print(\"Alteração do tipo de dados para numérico:\")\n",
    "s2 = pd.to_numeric(s1, errors='coerce')\n",
    "print(s2)"
   ]
  },
  {
   "cell_type": "markdown",
   "id": "ea17a9d2",
   "metadata": {},
   "source": [
    "8.Converta a seguinte série num array. <br>\n",
    "0 100<br>\n",
    "1 200<br>\n",
    "2 python<br>\n",
    "3 300,12<br>\n",
    "4 400<br>\n",
    "dtype: objeto<br>"
   ]
  },
  {
   "cell_type": "code",
   "execution_count": 11,
   "id": "f85532fb",
   "metadata": {},
   "outputs": [
    {
     "name": "stdout",
     "output_type": "stream",
     "text": [
      "Originals:\n",
      "0       100\n",
      "1       200\n",
      "2    python\n",
      "3    300.12\n",
      "4       400\n",
      "dtype: object\n",
      "Serie para array\n",
      "['100' '200' 'python' '300.12' '400']\n"
     ]
    }
   ],
   "source": [
    "s1 = pd.Series(['100', '200', 'python', '300.12', '400'])\n",
    "print(\"Originals:\")\n",
    "print(s1)\n",
    "print(\"Serie para array\")\n",
    "a = np.array(s1.values.tolist())\n",
    "print (a)"
   ]
  },
  {
   "cell_type": "markdown",
   "id": "d75cc4c4",
   "metadata": {},
   "source": [
    "9.Converta a seguinte Séries de listas numa Série. <br>\n",
    "0 [Vermelho, Verde, Branco] <br>\n",
    "1 [Vermelho, Preto]<br>\n",
    "2 [Amarelo]<br>\n",
    "dtype: objeto<br>"
   ]
  },
  {
   "cell_type": "code",
   "execution_count": 12,
   "id": "a0ec54b3",
   "metadata": {},
   "outputs": [
    {
     "name": "stdout",
     "output_type": "stream",
     "text": [
      "Série de listas original\n",
      "0    [Vermelho, Verde, Branco]\n",
      "1            [Vermelho, Preto]\n",
      "2                    [Amarelo]\n",
      "dtype: object\n",
      "Uma série\n",
      "0    Vermelho\n",
      "1       Verde\n",
      "2      Branco\n",
      "3    Vermelho\n",
      "4       Preto\n",
      "5     Amarelo\n",
      "dtype: object\n"
     ]
    }
   ],
   "source": [
    "s = pd.Series([\n",
    "    ['Vermelho', 'Verde', 'Branco'],\n",
    "    ['Vermelho', 'Preto'],\n",
    "    ['Amarelo']])\n",
    "print(\"Série de listas original\")\n",
    "print(s)\n",
    "s = s.apply(pd.Series).stack().reset_index(drop=True)\n",
    "print(\"Uma série\")\n",
    "print(s)"
   ]
  },
  {
   "cell_type": "markdown",
   "id": "1f3428e6",
   "metadata": {},
   "source": [
    "10.Ordene uma a seguinte série. <br>\n",
    "0 100 <br>\n",
    "1 200<br>\n",
    "2 python<br>\n",
    "3 300,12<br>\n",
    "4 400<br>\n",
    "dtype: objeto <br>"
   ]
  },
  {
   "cell_type": "code",
   "execution_count": 13,
   "id": "dc1e3e9c",
   "metadata": {},
   "outputs": [
    {
     "name": "stdout",
     "output_type": "stream",
     "text": [
      "Série original:\n",
      "0       100\n",
      "1       200\n",
      "2    python\n",
      "3    300.12\n",
      "4       400\n",
      "dtype: object\n",
      "0       100\n",
      "1       200\n",
      "3    300.12\n",
      "4       400\n",
      "2    python\n",
      "dtype: object\n"
     ]
    }
   ],
   "source": [
    "s = pd.Series(['100', '200', 'python', '300.12', '400'])\n",
    "print(\"Série original:\")\n",
    "print(s)\n",
    "new_s = pd.Series(s).sort_values()\n",
    "print(new_s)"
   ]
  },
  {
   "cell_type": "markdown",
   "id": "c57118ce",
   "metadata": {},
   "source": [
    "11.Adicione alguns dados à seguinte série. <br>\n",
    "0 100 <br>\n",
    "1 200 <br>\n",
    "2 python <br>\n",
    "3 300,12 <br>\n",
    "4 400 <br>\n",
    "dtype: objeto <br>"
   ]
  },
  {
   "cell_type": "code",
   "execution_count": 18,
   "id": "c28b767a",
   "metadata": {},
   "outputs": [
    {
     "name": "stdout",
     "output_type": "stream",
     "text": [
      "Série original:\n",
      "0       100\n",
      "1       200\n",
      "2    python\n",
      "3    300.12\n",
      "4       400\n",
      "dtype: object\n",
      "\n",
      "Série após adicionar alguns dados:\n",
      "0       100\n",
      "1       200\n",
      "2    python\n",
      "3    300.12\n",
      "4       400\n",
      "0       500\n",
      "1       php\n",
      "dtype: object\n"
     ]
    }
   ],
   "source": [
    "s = pd.Series(['100', '200', 'python', '300.12', '400'])\n",
    "print(\"Série original:\")\n",
    "print(s)\n",
    "print(\"\\nSérie após adicionar alguns dados:\")\n",
    "new_s = pd.concat([s,pd.Series(['500', 'php'])])\n",
    "print(new_s)"
   ]
  },
  {
   "cell_type": "markdown",
   "id": "e18d70c3",
   "metadata": {},
   "source": [
    "12.Altere a ordem do índice da seguinte série. <br>\n",
    "A 1 <br>\n",
    "B 2<br>\n",
    "C 3<br>\n",
    "D 4<br>\n",
    "E 5<br>\n",
    "dtype: int64<br>\n",
    "Série de dados após alterar a ordem do índice:<br>\n",
    "B 2<br>\n",
    "A 1<br>\n",
    "C 3<br>\n",
    "D 4<br>\n",
    "E 5<br>\n",
    "dtype: int64<br>"
   ]
  },
  {
   "cell_type": "code",
   "execution_count": 19,
   "id": "8121ee47",
   "metadata": {},
   "outputs": [
    {
     "name": "stdout",
     "output_type": "stream",
     "text": [
      "Série original:\n",
      "A    1\n",
      "B    2\n",
      "C    3\n",
      "D    4\n",
      "E    5\n",
      "dtype: int64\n",
      "Série após troca do indíce:\n",
      "B    2\n",
      "A    1\n",
      "C    3\n",
      "D    4\n",
      "E    5\n",
      "dtype: int64\n"
     ]
    }
   ],
   "source": [
    "s = pd.Series(data = [1,2,3,4,5], index = ['A', 'B', 'C','D','E'])\n",
    "print(\"Série original:\")\n",
    "print(s)\n",
    "s = s.reindex(index = ['B','A','C','D','E'])\n",
    "print(\"Série após troca do indíce:\")\n",
    "print(s)"
   ]
  },
  {
   "cell_type": "markdown",
   "id": "9e54b107",
   "metadata": {},
   "source": [
    "13.Calcule a média e o desvio padrão dos dados da seguinte Série. <br>\n",
    "0 1 <br>\n",
    "1 2<br>\n",
    "2 3<br>\n",
    "3 4<br>\n",
    "4 5<br>\n",
    "5 6<br>\n",
    "6 7<br>\n",
    "7 8<br>\n",
    "8 9<br>\n",
    "9 5<br>\n",
    "10 3<br>\n",
    "dtype: int64<br>"
   ]
  },
  {
   "cell_type": "code",
   "execution_count": null,
   "id": "55734ea9",
   "metadata": {},
   "outputs": [],
   "source": [
    "s = pd.Series(data = [1,2,3,4,5,6,7,8,9,5,3])\n",
    "print(\"Série original:\")\n",
    "print(s)\n",
    "print(\"Média:\")\n",
    "print(s.mean())\n",
    "print(\"Desvio padrão:\")\n",
    "print(s.std())"
   ]
  },
  {
   "cell_type": "markdown",
   "id": "827976c8",
   "metadata": {},
   "source": [
    "14.Obtenha os itens da série sr1 que não estão presentes na série sr2.<br>\n",
    "Série Original:<br>\n",
    "sr1:<br>\n",
    "0 1<br>\n",
    "1 2<br>\n",
    "2 3<br>\n",
    "3 4<br>\n",
    "4 5<br>\n",
    "dtype: int64<br>\n",
    "sr2:<br>\n",
    "0 2<br>\n",
    "1 4<br>\n",
    "2 6<br>\n",
    "3 8<br>\n",
    "4 10<br>\n",
    "dtype: int64<br>"
   ]
  },
  {
   "cell_type": "code",
   "execution_count": 20,
   "id": "4e95af1d",
   "metadata": {},
   "outputs": [
    {
     "name": "stdout",
     "output_type": "stream",
     "text": [
      "Séries originais:\n",
      "sr1:\n",
      "0    1\n",
      "1    2\n",
      "2    3\n",
      "3    4\n",
      "4    5\n",
      "dtype: int64\n",
      "sr2:\n",
      "0     2\n",
      "1     4\n",
      "2     6\n",
      "3     8\n",
      "4    10\n",
      "dtype: int64\n",
      "\n",
      "Items de sr1 não presentes em sr2:\n",
      "0    1\n",
      "2    3\n",
      "4    5\n",
      "dtype: int64\n"
     ]
    }
   ],
   "source": [
    "sr1 = pd.Series([1, 2, 3, 4, 5])\n",
    "sr2 = pd.Series([2, 4, 6, 8, 10])\n",
    "print(\"Séries originais:\")\n",
    "print(\"sr1:\")\n",
    "print(sr1)\n",
    "print(\"sr2:\")\n",
    "print(sr2)\n",
    "print(\"\\nItems de sr1 não presentes em sr2:\")\n",
    "result = sr1[~sr1.isin(sr2)]\n",
    "print(result)"
   ]
  },
  {
   "cell_type": "markdown",
   "id": "a45d4bf0",
   "metadata": {},
   "source": [
    "15.Obtenha os itens que não são comuns entre as séries sr1 e sr2. "
   ]
  },
  {
   "cell_type": "code",
   "execution_count": 21,
   "id": "bf9b0a50",
   "metadata": {},
   "outputs": [
    {
     "name": "stdout",
     "output_type": "stream",
     "text": [
      "\n",
      "Items não comuns:\n",
      "0     1\n",
      "2     3\n",
      "4     5\n",
      "5     6\n",
      "6     8\n",
      "7    10\n",
      "dtype: int64\n"
     ]
    }
   ],
   "source": [
    "print(\"\\nItems não comuns:\")\n",
    "sr11 = pd.Series(np.union1d(sr1, sr2))\n",
    "sr22 = pd.Series(np.intersect1d(sr1, sr2))\n",
    "result = sr11[~sr11.isin(sr22)]\n",
    "print(result)"
   ]
  },
  {
   "cell_type": "markdown",
   "id": "d75485f9",
   "metadata": {},
   "source": [
    "16.Calcule o mínimo, 25º percentil, mediana, 75º e máximo de uma série aleatória com 100 elementos do tipo decimal. "
   ]
  },
  {
   "cell_type": "code",
   "execution_count": 22,
   "id": "d58b3948",
   "metadata": {},
   "outputs": [
    {
     "name": "stdout",
     "output_type": "stream",
     "text": [
      "Série original:\n",
      "0      3.000938\n",
      "1     11.370722\n",
      "2     14.612143\n",
      "3      8.990256\n",
      "4     13.925283\n",
      "5     12.056875\n",
      "6     10.884719\n",
      "7      5.719827\n",
      "8      9.242017\n",
      "9     11.020006\n",
      "10     8.167892\n",
      "11    11.740654\n",
      "12     7.665620\n",
      "13    13.267388\n",
      "14    12.690883\n",
      "15     9.582355\n",
      "16     7.874878\n",
      "17    14.118931\n",
      "18     8.247458\n",
      "19     5.526727\n",
      "dtype: float64\n",
      "\n",
      "mínimo, 25º percentil, mediana, 75º e máximo:\n",
      "[ 3.00093811  8.09463867 10.23353705 12.21537733 14.61214321]\n"
     ]
    }
   ],
   "source": [
    "num_state = np.random.RandomState(100)\n",
    "num_series = pd.Series(num_state.normal(10, 4, 20))\n",
    "print(\"Série original:\")\n",
    "print(num_series)\n",
    "result = np.percentile(num_series, q=[0, 25, 50, 75, 100])\n",
    "print(\"\\nmínimo, 25º percentil, mediana, 75º e máximo:\")\n",
    "print(result)"
   ]
  },
  {
   "cell_type": "markdown",
   "id": "369839c9",
   "metadata": {},
   "source": [
    "17.Calcule as contagens de frequência de cada valor único de uma série aleatória com 40 elementos inteiros."
   ]
  },
  {
   "cell_type": "code",
   "execution_count": 23,
   "id": "32cb9ad5",
   "metadata": {},
   "outputs": [
    {
     "name": "stdout",
     "output_type": "stream",
     "text": [
      "Série original:\n",
      "0     7\n",
      "1     1\n",
      "2     9\n",
      "3     6\n",
      "4     8\n",
      "5     7\n",
      "6     5\n",
      "7     5\n",
      "8     6\n",
      "9     1\n",
      "10    1\n",
      "11    7\n",
      "12    8\n",
      "13    9\n",
      "14    7\n",
      "15    6\n",
      "16    0\n",
      "17    9\n",
      "18    5\n",
      "19    9\n",
      "20    1\n",
      "21    3\n",
      "22    6\n",
      "23    8\n",
      "24    6\n",
      "25    7\n",
      "26    5\n",
      "27    9\n",
      "28    1\n",
      "29    2\n",
      "30    3\n",
      "31    4\n",
      "32    0\n",
      "33    1\n",
      "34    9\n",
      "35    9\n",
      "36    6\n",
      "37    1\n",
      "38    0\n",
      "39    5\n",
      "dtype: object\n",
      "frequência de cada valor único.\n",
      "1    7\n",
      "9    7\n",
      "6    6\n",
      "7    5\n",
      "5    5\n",
      "8    3\n",
      "0    3\n",
      "3    2\n",
      "2    1\n",
      "4    1\n",
      "dtype: int64\n"
     ]
    }
   ],
   "source": [
    "num_series = pd.Series(np.take(list('0123456789'), np.random.randint(10, size=40)))\n",
    "print(\"Série original:\")\n",
    "print(num_series)\n",
    "print(\"frequência de cada valor único.\")\n",
    "result = num_series.value_counts()\n",
    "print(result)"
   ]
  },
  {
   "cell_type": "markdown",
   "id": "21d2d82c",
   "metadata": {},
   "source": [
    "18.Exiba o valor mais frequente de uma série aleatória com 15 elementos inteiros entre 1 e 5 substitua todo as entradas diferentes do valor mais frequente como ‘Outro’. <br>\n",
    "0 3<br>\n",
    "1 1<br>\n",
    "2 1<br>\n",
    "3 3<br>\n",
    "4 2<br>\n",
    "5 2<br>\n",
    "6 1<br>\n",
    "7 2<br>\n",
    "8 3<br>\n",
    "9 1<br>\n",
    "10 2<br>\n",
    "11 2<br>\n",
    "12 2<br>\n",
    "13 3<br>\n",
    "14 3<br>\n",
    "dtype: int64<br>"
   ]
  },
  {
   "cell_type": "code",
   "execution_count": 26,
   "id": "b410e225",
   "metadata": {},
   "outputs": [
    {
     "name": "stdout",
     "output_type": "stream",
     "text": [
      "Série original:\n",
      "0     2\n",
      "1     1\n",
      "2     1\n",
      "3     2\n",
      "4     3\n",
      "5     1\n",
      "6     4\n",
      "7     1\n",
      "8     3\n",
      "9     3\n",
      "10    3\n",
      "11    1\n",
      "12    1\n",
      "13    2\n",
      "14    4\n",
      "dtype: int32\n",
      "Top 2 Freq: 1    6\n",
      "3    4\n",
      "2    3\n",
      "4    2\n",
      "dtype: int64\n",
      "0     Outro\n",
      "1         1\n",
      "2         1\n",
      "3     Outro\n",
      "4     Outro\n",
      "5         1\n",
      "6     Outro\n",
      "7         1\n",
      "8     Outro\n",
      "9     Outro\n",
      "10    Outro\n",
      "11        1\n",
      "12        1\n",
      "13    Outro\n",
      "14    Outro\n",
      "dtype: object\n"
     ]
    }
   ],
   "source": [
    "num_series = pd.Series(np.random.randint(1, 5, [15]))\n",
    "print(\"Série original:\")\n",
    "print(num_series)\n",
    "print(\"Top 2 Freq:\", num_series.value_counts())\n",
    "result = num_series[~num_series.isin(num_series.value_counts().index[:1])] = 'Outro'\n",
    "print(num_series)"
   ]
  },
  {
   "cell_type": "markdown",
   "id": "a6b16075",
   "metadata": {},
   "source": [
    "19.Encontre as posições dos números que são múltiplos de 5 de uma série aleatória com 9 valores inteiros entre 1 e 10. "
   ]
  },
  {
   "cell_type": "code",
   "execution_count": 27,
   "id": "221b3e0a",
   "metadata": {},
   "outputs": [
    {
     "name": "stdout",
     "output_type": "stream",
     "text": [
      "Série Original:\n",
      "0    3\n",
      "1    8\n",
      "2    8\n",
      "3    4\n",
      "4    1\n",
      "5    7\n",
      "6    3\n",
      "7    6\n",
      "8    1\n",
      "dtype: int32\n",
      "Posções dos números múltiplos 5:\n",
      "(array([], dtype=int64),)\n"
     ]
    }
   ],
   "source": [
    "num_series = pd.Series(np.random.randint(1, 10, 9))\n",
    "print(\"Série Original:\")\n",
    "print(num_series)\n",
    "result = np.where(num_series % 5==0)\n",
    "print(\"Posções dos números múltiplos 5:\")\n",
    "print(result)"
   ]
  },
  {
   "cell_type": "markdown",
   "id": "49cf5bf2",
   "metadata": {},
   "source": [
    "20.Extraia itens  das posições 0, 2, 6, 11, e 21 de uma série criada a partir da seguinte string<br>\n",
    "'2390238923902390239023'<br>"
   ]
  },
  {
   "cell_type": "code",
   "execution_count": 28,
   "id": "22f41866",
   "metadata": {},
   "outputs": [
    {
     "name": "stdout",
     "output_type": "stream",
     "text": [
      "Série Original:\n",
      "0     2\n",
      "1     3\n",
      "2     9\n",
      "3     0\n",
      "4     2\n",
      "5     3\n",
      "6     8\n",
      "7     9\n",
      "8     2\n",
      "9     3\n",
      "10    9\n",
      "11    0\n",
      "12    2\n",
      "13    3\n",
      "14    9\n",
      "15    0\n",
      "16    2\n",
      "17    3\n",
      "18    9\n",
      "19    0\n",
      "20    2\n",
      "21    3\n",
      "dtype: object\n",
      "\n",
      "Extrair os itemas nas posições dadas:\n",
      "0     2\n",
      "2     9\n",
      "6     8\n",
      "11    0\n",
      "21    3\n",
      "dtype: object\n"
     ]
    }
   ],
   "source": [
    "num_series = pd.Series(list('2390238923902390239023'))\n",
    "element_pos = [0, 2, 6, 11, 21]\n",
    "print(\"Série Original:\")\n",
    "print(num_series)\n",
    "result = num_series.take(element_pos)\n",
    "print(\"\\nExtrair os itemas nas posições dadas:\")\n",
    "print(result)"
   ]
  },
  {
   "cell_type": "markdown",
   "id": "57780d49",
   "metadata": {},
   "source": [
    "21.Obtenha as posições dos itens da série 2 na série 1. <br>\n",
    "Série 1 = [1, 2, 3, 4, 5, 6, 7, 8, 9, 10]<br>\n",
    "Série 2 = [1, 3, 5, 7, 10]<br>"
   ]
  },
  {
   "cell_type": "code",
   "execution_count": 29,
   "id": "2389dc2e",
   "metadata": {},
   "outputs": [
    {
     "name": "stdout",
     "output_type": "stream",
     "text": [
      "Séries Original:\n",
      "0     1\n",
      "1     2\n",
      "2     3\n",
      "3     4\n",
      "4     5\n",
      "5     6\n",
      "6     7\n",
      "7     8\n",
      "8     9\n",
      "9    10\n",
      "dtype: int64\n",
      "0     1\n",
      "1     3\n",
      "2     5\n",
      "3     7\n",
      "4    10\n",
      "dtype: int64\n",
      "Posições da série 1 na série 2:\n",
      "[0, 2, 4, 6, 9]\n"
     ]
    }
   ],
   "source": [
    "series1 = pd.Series([1, 2, 3, 4, 5, 6, 7, 8, 9, 10])\n",
    "series2 = pd.Series([1, 3, 5, 7, 10])\n",
    "print(\"Séries Original:\")\n",
    "print(series1)\n",
    "print(series2)\n",
    "result = [pd.Index(series1).get_loc(i) for i in series2]\n",
    "print(\"Posições da série 1 na série 2:\")\n",
    "print(result)"
   ]
  },
  {
   "cell_type": "markdown",
   "id": "8f69336f",
   "metadata": {},
   "source": [
    "22.Converta o primeiro e o último caracter de cada palavra para maiúscula em cada palavra da seguinte série <br>\n",
    "0 php<br>\n",
    "1 python<br>\n",
    "2 java<br>\n",
    "3 c#<br>\n",
    "dtype: objeto<br>"
   ]
  },
  {
   "cell_type": "code",
   "execution_count": 30,
   "id": "b9de6f78",
   "metadata": {},
   "outputs": [
    {
     "name": "stdout",
     "output_type": "stream",
     "text": [
      "Série Original:\n",
      "0       php\n",
      "1    python\n",
      "2      java\n",
      "3        c#\n",
      "dtype: object\n",
      "\n",
      "Primeiro e último caracter de cada palavra:\n",
      "0       PhP\n",
      "1    PythoN\n",
      "2      JavA\n",
      "3        C#\n",
      "dtype: object\n"
     ]
    }
   ],
   "source": [
    "series1 = pd.Series(['php', 'python', 'java', 'c#'])\n",
    "print(\"Série Original:\")\n",
    "print(series1)\n",
    "result = series1.map(lambda x: x[0].upper() + x[1:-1] + x[-1].upper())\n",
    "print(\"\\nPrimeiro e último caracter de cada palavra:\")\n",
    "print(result)"
   ]
  },
  {
   "cell_type": "markdown",
   "id": "671f5e43",
   "metadata": {},
   "source": [
    "23.Calcule o número de caracteres em cada palavra da seguinte série<br>\n",
    "0 Php<br>\n",
    "1 Python<br>\n",
    "2 Java<br>\n",
    "3 C#<br>\n",
    "dtype: objeto<br>"
   ]
  },
  {
   "cell_type": "code",
   "execution_count": 31,
   "id": "276de05c",
   "metadata": {},
   "outputs": [
    {
     "name": "stdout",
     "output_type": "stream",
     "text": [
      "Série original:\n",
      "0       Php\n",
      "1    Python\n",
      "2      Java\n",
      "3        C#\n",
      "dtype: object\n",
      "\n",
      "Número de caracteres de cada palavra:\n",
      "0    3\n",
      "1    6\n",
      "2    4\n",
      "3    2\n",
      "dtype: int64\n"
     ]
    }
   ],
   "source": [
    "series1 = pd.Series(['Php', 'Python', 'Java', 'C#'])\n",
    "print(\"Série original:\")\n",
    "print(series1)\n",
    "result = series1.map(lambda x: len(x))\n",
    "print(\"\\nNúmero de caracteres de cada palavra:\")\n",
    "print(result)"
   ]
  },
  {
   "cell_type": "markdown",
   "id": "ee00a741",
   "metadata": {},
   "source": [
    "24.Calcule a diferença entre números consecutivos de uma determinada série. <br>\n",
    "Série Original:<br>\n",
    "0 1<br>\n",
    "1 3<br>\n",
    "2 5<br>\n",
    "3 8<br>\n",
    "4 10<br>\n",
    "5 11<br>\n",
    "6 15<br>\n",
    "dtype: int64<br>"
   ]
  },
  {
   "cell_type": "code",
   "execution_count": 32,
   "id": "b0e91494",
   "metadata": {},
   "outputs": [
    {
     "name": "stdout",
     "output_type": "stream",
     "text": [
      "Série original:\n",
      "0     1\n",
      "1     3\n",
      "2     5\n",
      "3     8\n",
      "4    10\n",
      "5    11\n",
      "6    15\n",
      "dtype: int64\n",
      "\n",
      "Diferença entre números consecutivos:\n",
      "[nan, 2.0, 2.0, 3.0, 2.0, 1.0, 4.0]\n",
      "[nan, nan, 0.0, 1.0, -1.0, -1.0, 3.0]\n"
     ]
    }
   ],
   "source": [
    "series1 = pd.Series([1, 3, 5, 8, 10, 11, 15])\n",
    "print(\"Série original:\")\n",
    "print(series1)\n",
    "print(\"\\nDiferença entre números consecutivos:\")\n",
    "print(series1.diff().tolist())\n",
    "print(series1.diff().diff().tolist())"
   ]
  },
  {
   "cell_type": "markdown",
   "id": "d57f3e1f",
   "metadata": {},
   "source": [
    "25.Converta uma série de strings numa série temporal. <br>\n",
    "Série Original:<br>\n",
    "0 01 de janeiro de 2015<br>\n",
    "1 10-02-2016<br>\n",
    "2 20180307<br>\n",
    "3 2014/05/06<br>\n",
    "4 2016-04-12<br>\n",
    "5 2019-04-06T11:20<br>"
   ]
  },
  {
   "cell_type": "code",
   "execution_count": 33,
   "id": "7825384b",
   "metadata": {},
   "outputs": [
    {
     "name": "stdout",
     "output_type": "stream",
     "text": [
      "Série original:\n",
      "0         01 Jan 2015\n",
      "1          10-02-2016\n",
      "2            20180307\n",
      "3          2014/05/06\n",
      "4          2016-04-12\n",
      "5    2019-04-06T11:20\n",
      "dtype: object\n",
      "\n",
      "Strings para timeseries:\n",
      "0   2015-01-01 00:00:00\n",
      "1   2016-10-02 00:00:00\n",
      "2   2018-03-07 00:00:00\n",
      "3   2014-05-06 00:00:00\n",
      "4   2016-04-12 00:00:00\n",
      "5   2019-04-06 11:20:00\n",
      "dtype: datetime64[ns]\n"
     ]
    }
   ],
   "source": [
    "date_series = pd.Series(['01 Jan 2015', '10-02-2016', '20180307', '2014/05/06', '2016-04-12', '2019-04-06T11:20'])\n",
    "print(\"Série original:\")\n",
    "print(date_series)\n",
    "print(\"\\nStrings para timeseries:\")\n",
    "print(pd.to_datetime(date_series))"
   ]
  },
  {
   "cell_type": "markdown",
   "id": "13d46212",
   "metadata": {},
   "source": [
    "26.Obtenha o dia do mês, dia do ano, número da semana e dia da semana da seguinte série de strings.<br>\n",
    "<br>\n",
    "Série Original:<br>\n",
    "0 01 de janeiro de 2015<br>\n",
    "1 10-02-2016<br>\n",
    "2 20180307<br>\n",
    "3 2014/05/06<br>\n",
    "4 2016-04-12<br>\n",
    "5 2019-04-06T11:20<br>\n",
    "dtype: objeto<br>"
   ]
  },
  {
   "cell_type": "code",
   "execution_count": 37,
   "id": "94e6097d",
   "metadata": {},
   "outputs": [
    {
     "name": "stdout",
     "output_type": "stream",
     "text": [
      "Série original:\n",
      "0         01 Jan 2015\n",
      "1          10-02-2016\n",
      "2            20180307\n",
      "3          2014/05/06\n",
      "4          2016-04-12\n",
      "5    2019-04-06T11:20\n",
      "dtype: object\n",
      "dia do mês:\n",
      "[1, 2, 7, 6, 12, 6]\n",
      "dia do ano:\n",
      "[1, 276, 66, 126, 103, 96]\n",
      "número da semana:\n",
      "[1, 39, 10, 19, 15, 14]\n",
      "dia da semana:\n"
     ]
    },
    {
     "name": "stderr",
     "output_type": "stream",
     "text": [
      "C:\\Users\\raquel.ribeiro\\AppData\\Local\\Temp\\ipykernel_18248\\3662439186.py:11: FutureWarning: Series.dt.weekofyear and Series.dt.week have been deprecated. Please use Series.dt.isocalendar().week instead.\n",
      "  print(date_series.dt.weekofyear.tolist())\n"
     ]
    },
    {
     "ename": "AttributeError",
     "evalue": "'DatetimeProperties' object has no attribute 'weekday_name'",
     "output_type": "error",
     "traceback": [
      "\u001b[1;31m---------------------------------------------------------------------------\u001b[0m",
      "\u001b[1;31mAttributeError\u001b[0m                            Traceback (most recent call last)",
      "Input \u001b[1;32mIn [37]\u001b[0m, in \u001b[0;36m<cell line: 13>\u001b[1;34m()\u001b[0m\n\u001b[0;32m     11\u001b[0m \u001b[38;5;28mprint\u001b[39m(date_series\u001b[38;5;241m.\u001b[39mdt\u001b[38;5;241m.\u001b[39mweekofyear\u001b[38;5;241m.\u001b[39mtolist())\n\u001b[0;32m     12\u001b[0m \u001b[38;5;28mprint\u001b[39m(\u001b[38;5;124m\"\u001b[39m\u001b[38;5;124mdia da semana:\u001b[39m\u001b[38;5;124m\"\u001b[39m)\n\u001b[1;32m---> 13\u001b[0m \u001b[38;5;28mprint\u001b[39m(\u001b[43mdate_series\u001b[49m\u001b[38;5;241;43m.\u001b[39;49m\u001b[43mdt\u001b[49m\u001b[38;5;241;43m.\u001b[39;49m\u001b[43mweekday_name\u001b[49m\u001b[38;5;241m.\u001b[39mtolist())\n",
      "\u001b[1;31mAttributeError\u001b[0m: 'DatetimeProperties' object has no attribute 'weekday_name'"
     ]
    }
   ],
   "source": [
    "from dateutil.parser import parse\n",
    "date_series = pd.Series(['01 Jan 2015', '10-02-2016', '20180307', '2014/05/06', '2016-04-12', '2019-04-06T11:20'])\n",
    "print(\"Série original:\")\n",
    "print(date_series)\n",
    "date_series = date_series.map(lambda x: parse(x))\n",
    "print(\"dia do mês:\")\n",
    "print(date_series.dt.day.tolist())\n",
    "print(\"dia do ano:\")\n",
    "print(date_series.dt.dayofyear.tolist())\n",
    "print(\"número da semana:\")\n",
    "print(date_series.dt.weekofyear.tolist())\n",
    "print(\"dia da semana:\")\n",
    "print(date_series.dt.weekday_name.tolist())"
   ]
  },
  {
   "cell_type": "markdown",
   "id": "84c66fb4",
   "metadata": {},
   "source": [
    "27.Converta a string ano-mês em datas adicionando um dia específico do mês. <br>\n",
    "<br>\n",
    "Série Original:<br>\n",
    "0    Jan 2015<br>\n",
    "1    Feb 2016<br>\n",
    "2    Mar 2017<br>\n",
    "3    Apr 2018<br>\n",
    "4    May 2019<br>\n",
    "dtype: objeto<br>\n",
    "Novas datas:<br>\n",
    "0 2015-01-11<br>\n",
    "1 2016-02-11<br>\n",
    "2 2017-03-11<br>\n",
    "3 2018-04-11<br>\n",
    "4 2019-05-11<br>\n",
    "dtype: datetime64[ns]<br>"
   ]
  },
  {
   "cell_type": "code",
   "execution_count": 38,
   "id": "efba2445",
   "metadata": {},
   "outputs": [
    {
     "name": "stdout",
     "output_type": "stream",
     "text": [
      "Série Original:\n",
      "0    Jan 2015\n",
      "1    Feb 2016\n",
      "2    Mar 2017\n",
      "3    Apr 2018\n",
      "4    May 2019\n",
      "dtype: object\n",
      "\n",
      "Novas datas:\n",
      "0   2015-01-11\n",
      "1   2016-02-11\n",
      "2   2017-03-11\n",
      "3   2018-04-11\n",
      "4   2019-05-11\n",
      "dtype: datetime64[ns]\n"
     ]
    }
   ],
   "source": [
    "from dateutil.parser import parse\n",
    "date_series = pd.Series(['Jan 2015', 'Feb 2016', 'Mar 2017', 'Apr 2018', 'May 2019'])\n",
    "print(\"Série Original:\")\n",
    "print(date_series)\n",
    "print(\"\\nNovas datas:\")\n",
    "result = date_series.map(lambda d: parse('11 ' + d))\n",
    "print(result)"
   ]
  },
  {
   "cell_type": "markdown",
   "id": "a49aee37",
   "metadata": {},
   "source": [
    "28.Filtre as palavras, na seguinte série, que contenha pelo menos duas vogais.<br>\n",
    "<br>\n",
    "Série Original:<br>\n",
    "0 Vermelho<br>\n",
    "1 verde<br>\n",
    "2 laranjas<br>\n",
    "3 Rosa<br>\n",
    "4 Amarelo<br>\n",
    "5 Branco<br>\n",
    "dtype: objeto<br>"
   ]
  },
  {
   "cell_type": "code",
   "execution_count": 39,
   "id": "ebfffaea",
   "metadata": {},
   "outputs": [
    {
     "name": "stdout",
     "output_type": "stream",
     "text": [
      "Série Original:\n",
      "0    Vermelho\n",
      "1       Verde\n",
      "2     Laranja\n",
      "3        Rosa\n",
      "4     Amarelo\n",
      "5      Branco\n",
      "dtype: object\n",
      "\n",
      "Palavras filtradas:\n",
      "0    Vermelho\n",
      "1       Verde\n",
      "2     Laranja\n",
      "3        Rosa\n",
      "4     Amarelo\n",
      "5      Branco\n",
      "dtype: object\n"
     ]
    }
   ],
   "source": [
    "from collections import Counter\n",
    "color_series = pd.Series(['Vermelho', 'Verde', 'Laranja', 'Rosa', 'Amarelo', 'Branco'])\n",
    "print(\"Série Original:\")\n",
    "print(color_series)\n",
    "print(\"\\nPalavras filtradas:\")\n",
    "result = mask = color_series.map(lambda c: sum([Counter(c.lower()).get(i, 0) for i in list('aeiou')]) >= 2)\n",
    "print(color_series[result])"
   ]
  },
  {
   "cell_type": "markdown",
   "id": "c344f1d5",
   "metadata": {},
   "source": [
    "29.Encontre as posições dos valores vizinhos com valores menores em ambos os lados da seguinte série<br>\n",
    "0 1<br>\n",
    "1 8<br>\n",
    "2 7<br>\n",
    "3 5<br>\n",
    "4 6<br>\n",
    "5 5<br>\n",
    "6 3<br>\n",
    "7 4<br>\n",
    "8 7<br>\n",
    "9 1<br>\n",
    "dtype: int64<br>\n"
   ]
  },
  {
   "cell_type": "code",
   "execution_count": 40,
   "id": "9b1f0254",
   "metadata": {},
   "outputs": [
    {
     "name": "stdout",
     "output_type": "stream",
     "text": [
      "Série Original:\n",
      "0    1\n",
      "1    8\n",
      "2    7\n",
      "3    5\n",
      "4    6\n",
      "5    5\n",
      "6    3\n",
      "7    4\n",
      "8    7\n",
      "9    1\n",
      "dtype: int64\n",
      "\n",
      "Posições dos valores vizinhos com valores menores em ambos os lados:\n",
      "[1 4 8]\n"
     ]
    }
   ],
   "source": [
    "nums = pd.Series([1, 8, 7, 5, 6, 5, 3, 4, 7, 1])\n",
    "print(\"Série Original:\")\n",
    "print(nums)\n",
    "print(\"\\nPosições dos valores vizinhos com valores menores em ambos os lados:\")\n",
    "temp = np.diff(np.sign(np.diff(nums)))\n",
    "result = np.where(temp == -2)[0] + 1\n",
    "print(result)"
   ]
  },
  {
   "cell_type": "markdown",
   "id": "08758b6b",
   "metadata": {},
   "source": [
    "30.Substitua os espaços em branco ausentes numa determinada string pelo caracter menos frequente<br>\n",
    "‘abc def abcdef icd’<br>"
   ]
  },
  {
   "cell_type": "code",
   "execution_count": 41,
   "id": "f5faccf3",
   "metadata": {},
   "outputs": [
    {
     "name": "stdout",
     "output_type": "stream",
     "text": [
      "Série Original:\n",
      "abc def abcdef icd\n",
      "c    3\n",
      "     3\n",
      "d    3\n",
      "a    2\n",
      "b    2\n",
      "e    2\n",
      "f    2\n",
      "i    1\n",
      "dtype: int64\n",
      "abcidefiabcdefiicd\n"
     ]
    }
   ],
   "source": [
    "str1 = 'abc def abcdef icd'\n",
    "print(\"Série Original:\")\n",
    "print(str1)\n",
    "ser = pd.Series(list(str1))\n",
    "element_freq = ser.value_counts()\n",
    "print(element_freq)\n",
    "current_freq = element_freq.dropna().index[-1]\n",
    "result = \"\".join(ser.replace(' ', current_freq))\n",
    "print(result)"
   ]
  },
  {
   "cell_type": "markdown",
   "id": "d53b2348",
   "metadata": {},
   "source": [
    "31.Crie uma TimeSeries para exibir todos os domingos de 2020. "
   ]
  },
  {
   "cell_type": "code",
   "execution_count": 42,
   "id": "bc081142",
   "metadata": {},
   "outputs": [
    {
     "name": "stdout",
     "output_type": "stream",
     "text": [
      "Todos os domingos de 2020:\n",
      "0    2020-01-05\n",
      "1    2020-01-12\n",
      "2    2020-01-19\n",
      "3    2020-01-26\n",
      "4    2020-02-02\n",
      "5    2020-02-09\n",
      "6    2020-02-16\n",
      "7    2020-02-23\n",
      "8    2020-03-01\n",
      "9    2020-03-08\n",
      "10   2020-03-15\n",
      "11   2020-03-22\n",
      "12   2020-03-29\n",
      "13   2020-04-05\n",
      "14   2020-04-12\n",
      "15   2020-04-19\n",
      "16   2020-04-26\n",
      "17   2020-05-03\n",
      "18   2020-05-10\n",
      "19   2020-05-17\n",
      "20   2020-05-24\n",
      "21   2020-05-31\n",
      "22   2020-06-07\n",
      "23   2020-06-14\n",
      "24   2020-06-21\n",
      "25   2020-06-28\n",
      "26   2020-07-05\n",
      "27   2020-07-12\n",
      "28   2020-07-19\n",
      "29   2020-07-26\n",
      "30   2020-08-02\n",
      "31   2020-08-09\n",
      "32   2020-08-16\n",
      "33   2020-08-23\n",
      "34   2020-08-30\n",
      "35   2020-09-06\n",
      "36   2020-09-13\n",
      "37   2020-09-20\n",
      "38   2020-09-27\n",
      "39   2020-10-04\n",
      "40   2020-10-11\n",
      "41   2020-10-18\n",
      "42   2020-10-25\n",
      "43   2020-11-01\n",
      "44   2020-11-08\n",
      "45   2020-11-15\n",
      "46   2020-11-22\n",
      "47   2020-11-29\n",
      "48   2020-12-06\n",
      "49   2020-12-13\n",
      "50   2020-12-20\n",
      "51   2020-12-27\n",
      "dtype: datetime64[ns]\n"
     ]
    }
   ],
   "source": [
    "result = pd.Series(pd.date_range('2020-01-01', periods=52, freq='W-SUN'))\n",
    "print(\"Todos os domingos de 2020:\")\n",
    "print(result)"
   ]
  },
  {
   "cell_type": "markdown",
   "id": "4e5c3177",
   "metadata": {},
   "source": [
    "32. verifique a igualdade das seguintes séries. <br>\n",
    "Série 1<br>\n",
    "0 1<br>\n",
    "1 8<br>\n",
    "2 7<br>\n",
    "3 5<br>\n",
    "4 6<br>\n",
    "5 5<br>\n",
    "6 3<br>\n",
    "7 4<br>\n",
    "8 7<br>\n",
    "9 1<br>\n",
    "Série 2<br>\n",
    "0 1<br>\n",
    "1 8<br>\n",
    "2 7<br>\n",
    "3 5<br>\n",
    "4 6<br>\n",
    "5 5<br>\n",
    "6 3<br>\n",
    "7 4<br>\n",
    "8 7<br>\n",
    "9 1<br>"
   ]
  },
  {
   "cell_type": "code",
   "execution_count": 43,
   "id": "5703999e",
   "metadata": {},
   "outputs": [
    {
     "name": "stdout",
     "output_type": "stream",
     "text": [
      "Série Original:\n",
      "0    1\n",
      "1    8\n",
      "2    7\n",
      "3    5\n",
      "4    6\n",
      "5    5\n",
      "6    3\n",
      "7    4\n",
      "8    7\n",
      "9    1\n",
      "dtype: int64\n",
      "0    1\n",
      "1    8\n",
      "2    7\n",
      "3    5\n",
      "4    6\n",
      "5    5\n",
      "6    3\n",
      "7    4\n",
      "8    7\n",
      "9    1\n",
      "dtype: int64\n",
      "Verificar se são iguais\n",
      "0    True\n",
      "1    True\n",
      "2    True\n",
      "3    True\n",
      "4    True\n",
      "5    True\n",
      "6    True\n",
      "7    True\n",
      "8    True\n",
      "9    True\n",
      "dtype: bool\n"
     ]
    }
   ],
   "source": [
    "nums1 = pd.Series([1, 8, 7, 5, 6, 5, 3, 4, 7, 1])\n",
    "nums2 = pd.Series([1, 8, 7, 5, 6, 5, 3, 4, 7, 1])\n",
    "print(\"Série Original:\")\n",
    "print(nums1)\n",
    "print(nums2)\n",
    "print(\"Verificar se são iguais\")\n",
    "print(nums1 == nums2)"
   ]
  },
  {
   "cell_type": "markdown",
   "id": "4c85e950",
   "metadata": {},
   "source": [
    "33.Encontre o índice (primeira ocorrência) do menor e do maior valor da seguinte série.<br>\n",
    "Série Original:<br>\n",
    "0 1<br>\n",
    "1 3<br>\n",
    "2 7<br>\n",
    "3 12<br>\n",
    "4 88<br>\n",
    "5 23<br>\n",
    "6 3<br>\n",
    "7 1<br>\n",
    "8 9<br>\n",
    "9 0<br>"
   ]
  },
  {
   "cell_type": "code",
   "execution_count": 44,
   "id": "ed263e9d",
   "metadata": {},
   "outputs": [
    {
     "name": "stdout",
     "output_type": "stream",
     "text": [
      "Série Original:\n",
      "0     1\n",
      "1     3\n",
      "2     7\n",
      "3    12\n",
      "4    88\n",
      "5    23\n",
      "6     3\n",
      "7     1\n",
      "8     9\n",
      "9     0\n",
      "dtype: int64\n",
      "O índice (primeira ocorrência) do menor e do maior valor:\n",
      "9\n",
      "4\n"
     ]
    }
   ],
   "source": [
    "nums = pd.Series([1, 3, 7, 12, 88, 23, 3, 1, 9, 0])\n",
    "print(\"Série Original:\")\n",
    "print(nums)\n",
    "print(\"O índice (primeira ocorrência) do menor e do maior valor:\")\n",
    "print(nums.idxmin())\n",
    "print(nums.idxmax())"
   ]
  },
  {
   "cell_type": "code",
   "execution_count": null,
   "id": "f6365d00",
   "metadata": {},
   "outputs": [],
   "source": []
  }
 ],
 "metadata": {
  "kernelspec": {
   "display_name": "Python 3 (ipykernel)",
   "language": "python",
   "name": "python3"
  },
  "language_info": {
   "codemirror_mode": {
    "name": "ipython",
    "version": 3
   },
   "file_extension": ".py",
   "mimetype": "text/x-python",
   "name": "python",
   "nbconvert_exporter": "python",
   "pygments_lexer": "ipython3",
   "version": "3.9.13"
  }
 },
 "nbformat": 4,
 "nbformat_minor": 5
}
