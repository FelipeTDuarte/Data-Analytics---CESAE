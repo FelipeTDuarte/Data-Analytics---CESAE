{
 "cells": [
  {
   "cell_type": "markdown",
   "id": "f40bad82",
   "metadata": {},
   "source": [
    "# 1.1 - NumPy - Introdução"
   ]
  },
  {
   "cell_type": "code",
   "execution_count": 44,
   "id": "34b2aff7",
   "metadata": {},
   "outputs": [],
   "source": [
    "import numpy as np"
   ]
  },
  {
   "cell_type": "markdown",
   "id": "01cffe0a",
   "metadata": {},
   "source": [
    "1. Obtenha a versão numpy e mostre a configuração de compilação numpy. "
   ]
  },
  {
   "cell_type": "code",
   "execution_count": 45,
   "id": "0ef6dd19",
   "metadata": {},
   "outputs": [
    {
     "name": "stdout",
     "output_type": "stream",
     "text": [
      "1.21.5\n",
      "blas_mkl_info:\n",
      "    libraries = ['mkl_rt']\n",
      "    library_dirs = ['C:/Users/raquel.ribeiro/Anaconda3\\\\Library\\\\lib']\n",
      "    define_macros = [('SCIPY_MKL_H', None), ('HAVE_CBLAS', None)]\n",
      "    include_dirs = ['C:/Users/raquel.ribeiro/Anaconda3\\\\Library\\\\include']\n",
      "blas_opt_info:\n",
      "    libraries = ['mkl_rt']\n",
      "    library_dirs = ['C:/Users/raquel.ribeiro/Anaconda3\\\\Library\\\\lib']\n",
      "    define_macros = [('SCIPY_MKL_H', None), ('HAVE_CBLAS', None)]\n",
      "    include_dirs = ['C:/Users/raquel.ribeiro/Anaconda3\\\\Library\\\\include']\n",
      "lapack_mkl_info:\n",
      "    libraries = ['mkl_rt']\n",
      "    library_dirs = ['C:/Users/raquel.ribeiro/Anaconda3\\\\Library\\\\lib']\n",
      "    define_macros = [('SCIPY_MKL_H', None), ('HAVE_CBLAS', None)]\n",
      "    include_dirs = ['C:/Users/raquel.ribeiro/Anaconda3\\\\Library\\\\include']\n",
      "lapack_opt_info:\n",
      "    libraries = ['mkl_rt']\n",
      "    library_dirs = ['C:/Users/raquel.ribeiro/Anaconda3\\\\Library\\\\lib']\n",
      "    define_macros = [('SCIPY_MKL_H', None), ('HAVE_CBLAS', None)]\n",
      "    include_dirs = ['C:/Users/raquel.ribeiro/Anaconda3\\\\Library\\\\include']\n",
      "Supported SIMD extensions in this NumPy install:\n",
      "    baseline = SSE,SSE2,SSE3\n",
      "    found = SSSE3,SSE41,POPCNT,SSE42,AVX,F16C,FMA3,AVX2,AVX512F,AVX512CD,AVX512_SKX,AVX512_CLX,AVX512_CNL\n",
      "    not found = \n",
      "None\n"
     ]
    }
   ],
   "source": [
    "import numpy as np\n",
    "print(np.__version__)\n",
    "print(np.show_config())"
   ]
  },
  {
   "cell_type": "code",
   "execution_count": 46,
   "id": "b752f2df",
   "metadata": {},
   "outputs": [
    {
     "data": {
      "text/plain": [
       "'1.21.5'"
      ]
     },
     "execution_count": 46,
     "metadata": {},
     "output_type": "execute_result"
    }
   ],
   "source": [
    "#para a versão também podemos usar\n",
    "np.version.version"
   ]
  },
  {
   "cell_type": "markdown",
   "id": "591e0a1b",
   "metadata": {},
   "source": [
    "2. Obtenha ajuda na função de adição. "
   ]
  },
  {
   "cell_type": "code",
   "execution_count": 47,
   "id": "63c6f8a2",
   "metadata": {},
   "outputs": [
    {
     "name": "stdout",
     "output_type": "stream",
     "text": [
      "add(x1, x2, /, out=None, *, where=True, casting='same_kind', order='K', dtype=None, subok=True[, signature, extobj])\n",
      "\n",
      "Add arguments element-wise.\n",
      "\n",
      "Parameters\n",
      "----------\n",
      "x1, x2 : array_like\n",
      "    The arrays to be added.\n",
      "    If ``x1.shape != x2.shape``, they must be broadcastable to a common\n",
      "    shape (which becomes the shape of the output).\n",
      "out : ndarray, None, or tuple of ndarray and None, optional\n",
      "    A location into which the result is stored. If provided, it must have\n",
      "    a shape that the inputs broadcast to. If not provided or None,\n",
      "    a freshly-allocated array is returned. A tuple (possible only as a\n",
      "    keyword argument) must have length equal to the number of outputs.\n",
      "where : array_like, optional\n",
      "    This condition is broadcast over the input. At locations where the\n",
      "    condition is True, the `out` array will be set to the ufunc result.\n",
      "    Elsewhere, the `out` array will retain its original value.\n",
      "    Note that if an uninitialized `out` array is created via the default\n",
      "    ``out=None``, locations within it where the condition is False will\n",
      "    remain uninitialized.\n",
      "**kwargs\n",
      "    For other keyword-only arguments, see the\n",
      "    :ref:`ufunc docs <ufuncs.kwargs>`.\n",
      "\n",
      "Returns\n",
      "-------\n",
      "add : ndarray or scalar\n",
      "    The sum of `x1` and `x2`, element-wise.\n",
      "    This is a scalar if both `x1` and `x2` are scalars.\n",
      "\n",
      "Notes\n",
      "-----\n",
      "Equivalent to `x1` + `x2` in terms of array broadcasting.\n",
      "\n",
      "Examples\n",
      "--------\n",
      ">>> np.add(1.0, 4.0)\n",
      "5.0\n",
      ">>> x1 = np.arange(9.0).reshape((3, 3))\n",
      ">>> x2 = np.arange(3.0)\n",
      ">>> np.add(x1, x2)\n",
      "array([[  0.,   2.,   4.],\n",
      "       [  3.,   5.,   7.],\n",
      "       [  6.,   8.,  10.]])\n",
      "\n",
      "The ``+`` operator can be used as a shorthand for ``np.add`` on ndarrays.\n",
      "\n",
      ">>> x1 = np.arange(9.0).reshape((3, 3))\n",
      ">>> x2 = np.arange(3.0)\n",
      ">>> x1 + x2\n",
      "array([[ 0.,  2.,  4.],\n",
      "       [ 3.,  5.,  7.],\n",
      "       [ 6.,  8., 10.]])\n",
      "None\n"
     ]
    }
   ],
   "source": [
    "print(np.info(np.add))"
   ]
  },
  {
   "cell_type": "markdown",
   "id": "9e14238a",
   "metadata": {},
   "source": [
    "3. Teste se nenhum dos elementos dos seguinte arrays é zero. \n",
    "\tX1 = [1,2,3,4]\n",
    "\tX2 = [0,1,2,3]"
   ]
  },
  {
   "cell_type": "code",
   "execution_count": 48,
   "id": "358f394a",
   "metadata": {},
   "outputs": [
    {
     "name": "stdout",
     "output_type": "stream",
     "text": [
      "array original:\n",
      "[1 2 3 4]\n",
      "Testar se nenhum dos elementos é zero:\n",
      "True\n",
      "array original:\n",
      "[0 1 2 3]\n",
      "Testar se nenhum dos elementos é zero:\n",
      "False\n"
     ]
    }
   ],
   "source": [
    "x = np.array([1, 2, 3, 4])\n",
    "print(\"array original:\")\n",
    "print(x)\n",
    "print(\"Testar se nenhum dos elementos é zero:\")\n",
    "print(np.all(x))\n",
    "x = np.array([0, 1, 2, 3])\n",
    "print(\"array original:\")\n",
    "print(x)\n",
    "print(\"Testar se nenhum dos elementos é zero:\")\n",
    "print(np.all(x))"
   ]
  },
  {
   "cell_type": "markdown",
   "id": "cde11e13",
   "metadata": {},
   "source": [
    "4. Teste se algum dos elementos dos arrays X1 e X2 é diferente de zero. "
   ]
  },
  {
   "cell_type": "code",
   "execution_count": 49,
   "id": "5905ac31",
   "metadata": {},
   "outputs": [
    {
     "name": "stdout",
     "output_type": "stream",
     "text": [
      "array original:\n",
      "[1 0 0 0]\n",
      "Testar se algum dos elementos é diferente de zero:\n",
      "True\n",
      "array original:\n",
      "[0 0 0 0]\n",
      "Testar se algum dos elementos é diferente de zero:\n",
      "False\n"
     ]
    }
   ],
   "source": [
    "x = np.array([1, 0, 0, 0])\n",
    "print(\"array original:\")\n",
    "print(x)\n",
    "print(\"Testar se algum dos elementos é diferente de zero:\")\n",
    "print(np.any(x))\n",
    "x = np.array([0, 0, 0, 0])\n",
    "print(\"array original:\")\n",
    "print(x)\n",
    "print(\"Testar se algum dos elementos é diferente de zero:\")\n",
    "print(np.any(x))"
   ]
  },
  {
   "cell_type": "markdown",
   "id": "530a0191",
   "metadata": {},
   "source": [
    "5. Teste se os elementos do seguinte array são finitos (não infinito ou não um número). \n",
    "\tX3 = [1,0,nan,inf]"
   ]
  },
  {
   "cell_type": "code",
   "execution_count": 50,
   "id": "838e002e",
   "metadata": {},
   "outputs": [
    {
     "name": "stdout",
     "output_type": "stream",
     "text": [
      "array original:\n",
      "[ 1.  0. nan inf]\n",
      "Testar se os elementos do seguinte array são finitos :\n",
      "[ True  True False False]\n"
     ]
    }
   ],
   "source": [
    "a = np.array([1, 0, np.nan, np.inf])\n",
    "print(\"array original:\")\n",
    "print(a)\n",
    "print(\"Testar se os elementos do seguinte array são finitos :\")\n",
    "print(np.isfinite(a))"
   ]
  },
  {
   "cell_type": "markdown",
   "id": "999a02d6",
   "metadata": {},
   "source": [
    "6. Teste elemento a elemento de X3 se é infinito. "
   ]
  },
  {
   "cell_type": "code",
   "execution_count": 51,
   "id": "605c11b5",
   "metadata": {},
   "outputs": [
    {
     "name": "stdout",
     "output_type": "stream",
     "text": [
      "array original:\n",
      "[ 1.  0. nan inf]\n",
      "Testar elemento a elemento de X3 se é infinito:\n",
      "[False False False  True]\n"
     ]
    }
   ],
   "source": [
    "import numpy as np\n",
    "a = np.array([1, 0, np.nan, np.inf])\n",
    "print(\"array original:\")\n",
    "print(a)\n",
    "print(\"Testar elemento a elemento de X3 se é infinito:\")\n",
    "print(np.isinf(a))"
   ]
  },
  {
   "cell_type": "markdown",
   "id": "b84f9d90",
   "metadata": {},
   "source": [
    "7. Teste elemento a elemento de X3 se é NaN. "
   ]
  },
  {
   "cell_type": "code",
   "execution_count": 52,
   "id": "4d877531",
   "metadata": {},
   "outputs": [
    {
     "name": "stdout",
     "output_type": "stream",
     "text": [
      "array original:\n",
      "[ 1.  0. nan inf]\n",
      "Testar elemento a elemento de X3 se é NaN:\n",
      "[False False  True False]\n"
     ]
    }
   ],
   "source": [
    "import numpy as np\n",
    "a = np.array([1, 0, np.nan, np.inf])\n",
    "print(\"array original:\")\n",
    "print(a)\n",
    "print(\"Testar elemento a elemento de X3 se é NaN:\")\n",
    "print(np.isnan(a))"
   ]
  },
  {
   "cell_type": "markdown",
   "id": "9f660f96",
   "metadata": {},
   "source": [
    "8. Crie uma comparação elemento a elemento (maior, maior ou igual, menor e menor ou igual) dos seguintes arrays. \n",
    "\tX4 = [1,6,4,3,6,9]\n",
    "\tX5 = [3,4,6,3,6,4]"
   ]
  },
  {
   "cell_type": "code",
   "execution_count": 53,
   "id": "08f41680",
   "metadata": {},
   "outputs": [
    {
     "name": "stdout",
     "output_type": "stream",
     "text": [
      "Números originais:\n",
      "[3 5]\n",
      "[2 5]\n",
      "Comaparação - maior\n",
      "[ True False]\n",
      "Comparação - maior ou igual\n",
      "[ True  True]\n",
      "Comparação - menor\n",
      "[False False]\n",
      "Comparação - menor ou igual\n",
      "[False  True]\n"
     ]
    }
   ],
   "source": [
    "x = np.array([3, 5])\n",
    "y = np.array([2, 5])\n",
    "print(\"Números originais:\")\n",
    "print(x)\n",
    "print(y)\n",
    "print(\"Comaparação - maior\")\n",
    "print(np.greater(x, y))\n",
    "print(\"Comparação - maior ou igual\")\n",
    "print(np.greater_equal(x, y))\n",
    "print(\"Comparação - menor\")\n",
    "print(np.less(x, y))\n",
    "print(\"Comparação - menor ou igual\")\n",
    "print(np.less_equal(x, y))"
   ]
  },
  {
   "cell_type": "markdown",
   "id": "d1bc0a71",
   "metadata": {},
   "source": [
    "9. Crie uma comparação elemento a elemento (igual, igual dentro de uma tolerância) dos seguintes arrays.\n",
    "\tX6 = [72, 79, 85, 90, 150, -135, 120, -10, 60, 100]\n",
    "\tX7 = [72, 79, 85, 90, 150, -135, 120, -10, 60, 100.000001]"
   ]
  },
  {
   "cell_type": "code",
   "execution_count": 54,
   "id": "83f60def",
   "metadata": {},
   "outputs": [
    {
     "name": "stdout",
     "output_type": "stream",
     "text": [
      "Números originais:\n",
      "[  72   79   85   90  150 -135  120  -10   60  100]\n",
      "[  72.         79.         85.         90.        150.       -135.\n",
      "  120.        -10.         60.        100.000001]\n",
      "Comparação - igual:\n",
      "[ True  True  True  True  True  True  True  True  True False]\n",
      "Comparação com uma tolerância:\n",
      "True\n"
     ]
    }
   ],
   "source": [
    "x = np.array([72, 79, 85, 90, 150, -135, 120, -10, 60, 100])\n",
    "y = np.array([72, 79, 85, 90, 150, -135, 120, -10, 60, 100.000001])\n",
    "print(\"Números originais:\")\n",
    "print(x)\n",
    "print(y)\n",
    "print(\"Comparação - igual:\")\n",
    "print(np.equal(x, y))\n",
    "print(\"Comparação com uma tolerância:\")\n",
    "print(np.allclose(x, y))"
   ]
  },
  {
   "cell_type": "markdown",
   "id": "fda9a969",
   "metadata": {},
   "source": [
    "10. Crie um array com os valores 1, 7, 13, 105 e determine o tamanho da memória ocupada pelo array. "
   ]
  },
  {
   "cell_type": "code",
   "execution_count": 55,
   "id": "76eee165",
   "metadata": {},
   "outputs": [
    {
     "name": "stdout",
     "output_type": "stream",
     "text": [
      "array original:\n",
      "[  1   7  13 105]\n",
      "Tamanho ocupado pelo array:\n",
      "16 bytes\n"
     ]
    }
   ],
   "source": [
    "X = np.array([1, 7, 13, 105])\n",
    "print(\"array original:\")\n",
    "print(X)\n",
    "print(\"Tamanho ocupado pelo array:\")\n",
    "print(\"%d bytes\" % (X.size * X.itemsize))"
   ]
  },
  {
   "cell_type": "markdown",
   "id": "03fd8343",
   "metadata": {},
   "source": [
    "11. Crie um array de 10 zeros, 10 uns, 10 cincos. "
   ]
  },
  {
   "cell_type": "code",
   "execution_count": 56,
   "id": "aef218d5",
   "metadata": {},
   "outputs": [
    {
     "name": "stdout",
     "output_type": "stream",
     "text": [
      "Um array de 10 zeros:\n",
      "[0. 0. 0. 0. 0. 0. 0. 0. 0. 0.]\n",
      "Um array de 10 ones:\n",
      "[1. 1. 1. 1. 1. 1. 1. 1. 1. 1.]\n",
      "Um array de 10 fives:\n",
      "[5. 5. 5. 5. 5. 5. 5. 5. 5. 5.]\n"
     ]
    }
   ],
   "source": [
    "array=np.zeros(10)\n",
    "print(\"Um array de 10 zeros:\")\n",
    "print(array)\n",
    "array=np.ones(10)\n",
    "print(\"Um array de 10 ones:\")\n",
    "print(array)\n",
    "array=np.ones(10)*5\n",
    "print(\"Um array de 10 fives:\")\n",
    "print(array)"
   ]
  },
  {
   "cell_type": "markdown",
   "id": "c77899f7",
   "metadata": {},
   "source": [
    "12. Crie um array de inteiros de 30 a 70. "
   ]
  },
  {
   "cell_type": "code",
   "execution_count": 57,
   "id": "93a8c5d4",
   "metadata": {},
   "outputs": [
    {
     "name": "stdout",
     "output_type": "stream",
     "text": [
      "Array de inteiros de 30 a 70\n",
      "[30 31 32 33 34 35 36 37 38 39 40 41 42 43 44 45 46 47 48 49 50 51 52 53\n",
      " 54 55 56 57 58 59 60 61 62 63 64 65 66 67 68 69 70]\n"
     ]
    }
   ],
   "source": [
    "array=np.arange(30,71)\n",
    "print(\"Array de inteiros de 30 a 70\")\n",
    "print(array)"
   ]
  },
  {
   "cell_type": "markdown",
   "id": "8796a6a7",
   "metadata": {},
   "source": [
    "13. Crie um array de todos os inteiros pares de 30 a 70. "
   ]
  },
  {
   "cell_type": "code",
   "execution_count": 58,
   "id": "77f82efd",
   "metadata": {},
   "outputs": [
    {
     "name": "stdout",
     "output_type": "stream",
     "text": [
      "Array com todos os inteiros pares entre 30 e 70\n",
      "[30 32 34 36 38 40 42 44 46 48 50 52 54 56 58 60 62 64 66 68 70]\n"
     ]
    }
   ],
   "source": [
    "array=np.arange(30,71,2)\n",
    "print(\"Array com todos os inteiros pares entre 30 e 70\")\n",
    "print(array) "
   ]
  },
  {
   "cell_type": "markdown",
   "id": "ade7c698",
   "metadata": {},
   "source": [
    "14. Crie uma matriz identidade 3x3. "
   ]
  },
  {
   "cell_type": "code",
   "execution_count": 59,
   "id": "157cbd2d",
   "metadata": {},
   "outputs": [
    {
     "name": "stdout",
     "output_type": "stream",
     "text": [
      "matriz 3x3:\n",
      "[[1. 0. 0.]\n",
      " [0. 1. 0.]\n",
      " [0. 0. 1.]]\n"
     ]
    }
   ],
   "source": [
    "array_2D=np.identity(3)\n",
    "print('matriz 3x3:')\n",
    "print(array_2D)"
   ]
  },
  {
   "cell_type": "markdown",
   "id": "1b79e111",
   "metadata": {},
   "source": [
    "15. Gere um número aleatório entre 0 e 1. "
   ]
  },
  {
   "cell_type": "code",
   "execution_count": 60,
   "id": "a31ea9cd",
   "metadata": {},
   "outputs": [
    {
     "name": "stdout",
     "output_type": "stream",
     "text": [
      "matriz 3x3:\n",
      "[[1. 0. 0.]\n",
      " [0. 1. 0.]\n",
      " [0. 0. 1.]]\n"
     ]
    }
   ],
   "source": [
    "array_2D=np.identity(3)\n",
    "print('matriz 3x3:')\n",
    "print(array_2D)"
   ]
  },
  {
   "cell_type": "markdown",
   "id": "7779bbf0",
   "metadata": {},
   "source": [
    "16. Gere um array de 15 números aleatórios de uma distribuição normal padrão. "
   ]
  },
  {
   "cell_type": "code",
   "execution_count": 61,
   "id": "c8811875",
   "metadata": {},
   "outputs": [
    {
     "name": "stdout",
     "output_type": "stream",
     "text": [
      "15 números aleatórios de uma distribuição normal:\n",
      "[ 0.34928073  1.16734163  0.3489526   0.82803034 -1.04939401 -0.56631462\n",
      "  0.42980349  0.06537119  2.33096984 -1.19046504 -0.10406276 -0.70299109\n",
      " -0.8705411   1.74957218 -2.24455941]\n"
     ]
    }
   ],
   "source": [
    "rand_num = np.random.normal(0,1,15)\n",
    "print(\"15 números aleatórios de uma distribuição normal:\")\n",
    "print(rand_num)"
   ]
  },
  {
   "cell_type": "markdown",
   "id": "df669db1",
   "metadata": {},
   "source": [
    "17. Crie um array com valores variando de 15 a 55 e imprima todos os valores. Depois imprima todos exceto o primeiro e o último. "
   ]
  },
  {
   "cell_type": "code",
   "execution_count": 62,
   "id": "1959f3c9",
   "metadata": {},
   "outputs": [
    {
     "name": "stdout",
     "output_type": "stream",
     "text": [
      "vector original:\n",
      "[15 16 17 18 19 20 21 22 23 24 25 26 27 28 29 30 31 32 33 34 35 36 37 38\n",
      " 39 40 41 42 43 44 45 46 47 48 49 50 51 52 53 54]\n",
      "todos exceto o primeiro e o último:\n",
      "[16 17 18 19 20 21 22 23 24 25 26 27 28 29 30 31 32 33 34 35 36 37 38 39\n",
      " 40 41 42 43 44 45 46 47 48 49 50 51 52 53]\n"
     ]
    }
   ],
   "source": [
    "v = np.arange(15,55)\n",
    "print(\"vector original:\")\n",
    "print(v)\n",
    "print(\"todos exceto o primeiro e o último:\")\n",
    "print(v[1:-1])"
   ]
  },
  {
   "cell_type": "markdown",
   "id": "d4b04b82",
   "metadata": {},
   "source": [
    "18. Crie uma matriz 3X4 com valores de 10 a 22. Depois itere sobre ele. "
   ]
  },
  {
   "cell_type": "code",
   "execution_count": 63,
   "id": "bf18fea5",
   "metadata": {},
   "outputs": [
    {
     "name": "stdout",
     "output_type": "stream",
     "text": [
      "array original:\n",
      "[[10 11 12 13]\n",
      " [14 15 16 17]\n",
      " [18 19 20 21]]\n",
      "Cada elemento do array é:\n",
      "10 11 12 13 14 15 16 17 18 19 20 21 "
     ]
    }
   ],
   "source": [
    "a = np.arange(10,22).reshape((3, 4))\n",
    "print(\"array original:\")\n",
    "print(a)\n",
    "print(\"Cada elemento do array é:\")\n",
    "for x in np.nditer(a):\n",
    "  print(x,end=\" \")"
   ]
  },
  {
   "cell_type": "markdown",
   "id": "ce0be8f8",
   "metadata": {},
   "source": [
    "19. Crie um array de comprimento 10 com valores uniformemente distribuídos entre 5 e 50. "
   ]
  },
  {
   "cell_type": "code",
   "execution_count": 64,
   "id": "8704ab68",
   "metadata": {},
   "outputs": [
    {
     "name": "stdout",
     "output_type": "stream",
     "text": [
      "Length 10 with values evenly distributed between 5 and 50:\n",
      "[10.   19.75 29.5  39.25 49.  ]\n"
     ]
    }
   ],
   "source": [
    "v = np.linspace(10, 49, 5)\n",
    "print(\"Length 10 with values evenly distributed between 5 and 50:\")\n",
    "print(v)"
   ]
  },
  {
   "cell_type": "markdown",
   "id": "620fdd1f",
   "metadata": {},
   "source": [
    "20. Crie um array com valores de 0 a 20 e altere o sinal dos números no intervalo de 9 a 15. "
   ]
  },
  {
   "cell_type": "code",
   "execution_count": 65,
   "id": "8785a3f0",
   "metadata": {},
   "outputs": [
    {
     "name": "stdout",
     "output_type": "stream",
     "text": [
      "vetor original:\n",
      "[ 0  1  2  3  4  5  6  7  8  9 10 11 12 13 14 15 16 17 18 19 20]\n",
      "alterar o sinal dos números no intervalo de 9 a 15:\n",
      "[  0   1   2   3   4   5   6   7   8  -9 -10 -11 -12 -13 -14 -15  16  17\n",
      "  18  19  20]\n"
     ]
    }
   ],
   "source": [
    "x = np.arange(21)\n",
    "print(\"vetor original:\")\n",
    "print(x)\n",
    "print(\"alterar o sinal dos números no intervalo de 9 a 15:\")\n",
    "x[(x >= 9) & (x <= 15)] *= -1\n",
    "print(x)"
   ]
  },
  {
   "cell_type": "markdown",
   "id": "04b3a6d4",
   "metadata": {},
   "source": [
    "21. Crie um array de comprimento 5 preenchido com inteiros arbitrários de 0 a 10.  "
   ]
  },
  {
   "cell_type": "code",
   "execution_count": 66,
   "id": "de3f8212",
   "metadata": {},
   "outputs": [
    {
     "name": "stdout",
     "output_type": "stream",
     "text": [
      "array de comprimento 5 preenchido com inteiros arbitrários de 0 a 10:\n",
      "[8 6 1 3 3]\n"
     ]
    }
   ],
   "source": [
    "x = np.random.randint(0, 11, 5)\n",
    "print(\"array de comprimento 5 preenchido com inteiros arbitrários de 0 a 10:\")\n",
    "print(x)"
   ]
  },
  {
   "cell_type": "markdown",
   "id": "4590c366",
   "metadata": {},
   "source": [
    "22. Multiplique os valores de dois arrays dados. \n",
    "\tX8 = [1,8,3,5]\n",
    "\tX9 = array de 4 elementos com valores inteiros aleatórios de 0 a 11"
   ]
  },
  {
   "cell_type": "code",
   "execution_count": 67,
   "id": "88e124d7",
   "metadata": {},
   "outputs": [
    {
     "name": "stdout",
     "output_type": "stream",
     "text": [
      "X8\n",
      "[1 8 3 5]\n",
      "Vector aleatório\n",
      "[6 1 8 5]\n",
      "Multiplicar os valores dos dois vetores:\n",
      "[ 6  8 24 25]\n"
     ]
    }
   ],
   "source": [
    "x = np.array([1, 8, 3, 5])\n",
    "print(\"X8\")\n",
    "print(x)\n",
    "y= np.random.randint(0, 11, 4)\n",
    "print(\"Vector aleatório\")\n",
    "print(y)\n",
    "result = x * y\n",
    "print(\"Multiplicar os valores dos dois vetores:\")\n",
    "print(result)"
   ]
  },
  {
   "cell_type": "markdown",
   "id": "decda32a",
   "metadata": {},
   "source": [
    "23. Crie uma matriz 3x4 preenchida com valores de 10 a 21. "
   ]
  },
  {
   "cell_type": "code",
   "execution_count": 68,
   "id": "a9cc6c89",
   "metadata": {},
   "outputs": [
    {
     "name": "stdout",
     "output_type": "stream",
     "text": [
      "[[10 11 12 13]\n",
      " [14 15 16 17]\n",
      " [18 19 20 21]]\n"
     ]
    }
   ],
   "source": [
    "m= np.arange(10,22).reshape((3, 4))\n",
    "print(m)"
   ]
  },
  {
   "cell_type": "markdown",
   "id": "ad60e545",
   "metadata": {},
   "source": [
    "24. Encontre o número de linhas e colunas da matriz anterior. "
   ]
  },
  {
   "cell_type": "code",
   "execution_count": 69,
   "id": "1a7bb4da",
   "metadata": {},
   "outputs": [
    {
     "name": "stdout",
     "output_type": "stream",
     "text": [
      "Matriz original:\n",
      "[[10 11 12 13]\n",
      " [14 15 16 17]\n",
      " [18 19 20 21]]\n",
      "Número de linhas e colunas da matriz:\n",
      "(3, 4)\n"
     ]
    }
   ],
   "source": [
    "m= np.arange(10,22).reshape((3, 4))\n",
    "print(\"Matriz original:\")\n",
    "print(m)\n",
    "print(\"Número de linhas e colunas da matriz:\")\n",
    "print(m.shape)"
   ]
  },
  {
   "cell_type": "markdown",
   "id": "e5fb4586",
   "metadata": {},
   "source": [
    "25. Crie uma matriz de identidade 3x3, ou seja, os elementos diagonais são 1, o restante é 0. "
   ]
  },
  {
   "cell_type": "code",
   "execution_count": 70,
   "id": "39c9e060",
   "metadata": {},
   "outputs": [
    {
     "name": "stdout",
     "output_type": "stream",
     "text": [
      "[[1. 0. 0.]\n",
      " [0. 1. 0.]\n",
      " [0. 0. 1.]]\n"
     ]
    }
   ],
   "source": [
    "x = np.eye(3)\n",
    "print(x)"
   ]
  },
  {
   "cell_type": "markdown",
   "id": "d30d2abd",
   "metadata": {},
   "source": [
    "26. Crie uma matriz 10x10, na qual os elementos nas pontas (1ª e última linha e coluna) são iguais a 1 e dentro de 0. "
   ]
  },
  {
   "cell_type": "code",
   "execution_count": 71,
   "id": "be8b3c2d",
   "metadata": {},
   "outputs": [
    {
     "name": "stdout",
     "output_type": "stream",
     "text": [
      "[[1. 1. 1. 1. 1. 1. 1. 1. 1. 1.]\n",
      " [1. 0. 0. 0. 0. 0. 0. 0. 0. 1.]\n",
      " [1. 0. 0. 0. 0. 0. 0. 0. 0. 1.]\n",
      " [1. 0. 0. 0. 0. 0. 0. 0. 0. 1.]\n",
      " [1. 0. 0. 0. 0. 0. 0. 0. 0. 1.]\n",
      " [1. 0. 0. 0. 0. 0. 0. 0. 0. 1.]\n",
      " [1. 0. 0. 0. 0. 0. 0. 0. 0. 1.]\n",
      " [1. 0. 0. 0. 0. 0. 0. 0. 0. 1.]\n",
      " [1. 0. 0. 0. 0. 0. 0. 0. 0. 1.]\n",
      " [1. 1. 1. 1. 1. 1. 1. 1. 1. 1.]]\n"
     ]
    }
   ],
   "source": [
    "x = np.ones((10, 10))\n",
    "x[1:-1, 1:-1] = 0\n",
    "print(x)"
   ]
  },
  {
   "cell_type": "markdown",
   "id": "261298b4",
   "metadata": {},
   "source": [
    "27. Crie uma matriz zero 5x5 com elementos na diagonal principal igual a 1, 2, 3, 4, 5. "
   ]
  },
  {
   "cell_type": "code",
   "execution_count": 72,
   "id": "be40ce92",
   "metadata": {},
   "outputs": [
    {
     "name": "stdout",
     "output_type": "stream",
     "text": [
      "[[1 0 0 0 0]\n",
      " [0 2 0 0 0]\n",
      " [0 0 3 0 0]\n",
      " [0 0 0 4 0]\n",
      " [0 0 0 0 5]]\n"
     ]
    }
   ],
   "source": [
    "x = np.diag([1, 2, 3, 4, 5])\n",
    "print(x)"
   ]
  },
  {
   "cell_type": "markdown",
   "id": "df9c78aa",
   "metadata": {},
   "source": [
    "28. Crie uma matriz 3x3x3 preenchida com valores aleatórios. "
   ]
  },
  {
   "cell_type": "code",
   "execution_count": 73,
   "id": "c4d1e36e",
   "metadata": {},
   "outputs": [
    {
     "name": "stdout",
     "output_type": "stream",
     "text": [
      "[[[0.05601915 0.93740501 0.11472203]\n",
      "  [0.23962125 0.69196467 0.03624878]\n",
      "  [0.49269473 0.66813399 0.28720754]]\n",
      "\n",
      " [[0.32692799 0.51791781 0.49548012]\n",
      "  [0.93758687 0.88110604 0.99867892]\n",
      "  [0.95891387 0.6014197  0.53360839]]\n",
      "\n",
      " [[0.20879398 0.57613979 0.35356294]\n",
      "  [0.86129825 0.63765579 0.40721373]\n",
      "  [0.85821086 0.66206855 0.5497152 ]]]\n"
     ]
    }
   ],
   "source": [
    "x = np.random.random((3, 3, 3))\n",
    "print(x)"
   ]
  },
  {
   "cell_type": "markdown",
   "id": "0446a6ab",
   "metadata": {},
   "source": [
    "29. Calcule a soma de todos os elementos, a soma de cada coluna e a soma de cada linha da seguinte matriz.\n",
    " \tM1 = 0 1\n",
    "\t     2 3 \n"
   ]
  },
  {
   "cell_type": "code",
   "execution_count": 74,
   "id": "3b818928",
   "metadata": {},
   "outputs": [
    {
     "name": "stdout",
     "output_type": "stream",
     "text": [
      "Array original:\n",
      "[[0 1]\n",
      " [2 3]]\n",
      "Soma de todos os elementos:\n",
      "6\n",
      "Soma de cada coluna:\n",
      "[2 4]\n",
      "Soma de cada linha:\n",
      "[1 5]\n"
     ]
    }
   ],
   "source": [
    "x = np.array([[0,1],[2,3]])\n",
    "print(\"Array original:\")\n",
    "print(x)\n",
    "print(\"Soma de todos os elementos:\")\n",
    "print(np.sum(x))\n",
    "print(\"Soma de cada coluna:\")\n",
    "print(np.sum(x, axis=0))\n",
    "print(\"Soma de cada linha:\")\n",
    "print(np.sum(x, axis=1))"
   ]
  },
  {
   "cell_type": "markdown",
   "id": "12668f1b",
   "metadata": {},
   "source": [
    "30. Adicione o seguinte array a cada linha da seguinte matriz.\n",
    " \tm2 = [[1,2,3], [4,5,6], [7,8,9], [10, 11, 12]]\n",
    "\tV1 = [1, 1, 0]"
   ]
  },
  {
   "cell_type": "code",
   "execution_count": 75,
   "id": "fb290381",
   "metadata": {},
   "outputs": [
    {
     "name": "stdout",
     "output_type": "stream",
     "text": [
      "Vector original:\n",
      "[1 1 0]\n",
      "Matriz original:\n",
      "[[ 1  2  3]\n",
      " [ 4  5  6]\n",
      " [ 7  8  9]\n",
      " [10 11 12]]\n",
      "[[ 2  3  3]\n",
      " [ 5  6  6]\n",
      " [ 8  9  9]\n",
      " [11 12 12]]\n"
     ]
    }
   ],
   "source": [
    "m = np.array([[1,2,3], [4,5,6], [7,8,9], [10, 11, 12]])\n",
    "v = np.array([1, 1, 0])\n",
    "print(\"Vector original:\")\n",
    "print(v)\n",
    "print(\"Matriz original:\")\n",
    "print(m)\n",
    "result = np.empty_like(m) \n",
    "for i in range(4):\n",
    "  result[i, :] = m[i, :] + v\n",
    "print(result)"
   ]
  },
  {
   "cell_type": "markdown",
   "id": "d1e7483a",
   "metadata": {},
   "source": [
    "31. Converta uma determinada lista numa matriz e converta novamente numa lista. Verifique se a lista inicial e a lista final são iguais ou não. \n",
    "\tM3 = [[1,2],[3,4]]"
   ]
  },
  {
   "cell_type": "code",
   "execution_count": 76,
   "id": "5f75d145",
   "metadata": {},
   "outputs": [
    {
     "name": "stdout",
     "output_type": "stream",
     "text": [
      "True\n"
     ]
    }
   ],
   "source": [
    "a = [[1, 2], [3, 4]]\n",
    "x = np.array(a)\n",
    "a2 = x.tolist()\n",
    "print(a == a2)"
   ]
  }
 ],
 "metadata": {
  "kernelspec": {
   "display_name": "Python 3 (ipykernel)",
   "language": "python",
   "name": "python3"
  },
  "language_info": {
   "codemirror_mode": {
    "name": "ipython",
    "version": 3
   },
   "file_extension": ".py",
   "mimetype": "text/x-python",
   "name": "python",
   "nbconvert_exporter": "python",
   "pygments_lexer": "ipython3",
   "version": "3.9.13"
  }
 },
 "nbformat": 4,
 "nbformat_minor": 5
}
