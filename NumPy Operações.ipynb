{
 "cells": [
  {
   "cell_type": "markdown",
   "id": "6d2479e5",
   "metadata": {},
   "source": [
    "# NumPy Operações - Exercícios"
   ]
  },
  {
   "cell_type": "code",
   "execution_count": 1,
   "id": "47c6978f",
   "metadata": {},
   "outputs": [],
   "source": [
    "import numpy as np"
   ]
  },
  {
   "cell_type": "markdown",
   "id": "d57048da",
   "metadata": {},
   "source": [
    "#### Repita o output apresentado:"
   ]
  },
  {
   "cell_type": "markdown",
   "id": "7fcba532",
   "metadata": {},
   "source": [
    "mat=\n",
    ">       array(\n",
    ">           [[ 1,  2,  3,  4,  5],\n",
    ">           [ 6,  7,  8,  9, 10],\n",
    ">           [11, 12, 13, 14, 15],\n",
    ">           [16, 17, 18, 19, 20],\n",
    ">           [21, 22, 23, 24, 25]])\n"
   ]
  },
  {
   "cell_type": "code",
   "execution_count": 2,
   "id": "d4757a62",
   "metadata": {},
   "outputs": [
    {
     "data": {
      "text/plain": [
       "array([[ 1,  2,  3,  4,  5],\n",
       "       [ 6,  7,  8,  9, 10],\n",
       "       [11, 12, 13, 14, 15],\n",
       "       [16, 17, 18, 19, 20],\n",
       "       [21, 22, 23, 24, 25]])"
      ]
     },
     "execution_count": 2,
     "metadata": {},
     "output_type": "execute_result"
    }
   ],
   "source": [
    "mat = np.arange(1,26).reshape(5,5)\n",
    "mat"
   ]
  },
  {
   "cell_type": "markdown",
   "id": "c6044ce2",
   "metadata": {},
   "source": [
    "##### Siga as instruções"
   ]
  },
  {
   "cell_type": "markdown",
   "id": "e908d3b6",
   "metadata": {},
   "source": [
    "##### 1 - Obtenha a soma de todos os elementos de mat"
   ]
  },
  {
   "cell_type": "code",
   "execution_count": 3,
   "id": "0d0fb112",
   "metadata": {},
   "outputs": [
    {
     "data": {
      "text/plain": [
       "325"
      ]
     },
     "execution_count": 3,
     "metadata": {},
     "output_type": "execute_result"
    }
   ],
   "source": [
    "mat.sum()"
   ]
  },
  {
   "cell_type": "markdown",
   "id": "0913f3e2",
   "metadata": {},
   "source": [
    "#### 2 - Obtenha o desvio padrão dos elementos de mat"
   ]
  },
  {
   "cell_type": "code",
   "execution_count": 4,
   "id": "676d3ad8",
   "metadata": {},
   "outputs": [
    {
     "data": {
      "text/plain": [
       "7.211102550927978"
      ]
     },
     "execution_count": 4,
     "metadata": {},
     "output_type": "execute_result"
    }
   ],
   "source": [
    "mat.std()"
   ]
  },
  {
   "cell_type": "code",
   "execution_count": 7,
   "id": "c93e9e7e",
   "metadata": {},
   "outputs": [
    {
     "data": {
      "text/plain": [
       "7.211102550927978"
      ]
     },
     "execution_count": 7,
     "metadata": {},
     "output_type": "execute_result"
    }
   ],
   "source": [
    "np.std(mat)"
   ]
  },
  {
   "cell_type": "markdown",
   "id": "fff6410d",
   "metadata": {},
   "source": [
    "##### 3 - Obtenha a soma de cada coluna de mat"
   ]
  },
  {
   "cell_type": "code",
   "execution_count": 5,
   "id": "08e9e308",
   "metadata": {},
   "outputs": [
    {
     "data": {
      "text/plain": [
       "array([55, 60, 65, 70, 75])"
      ]
     },
     "execution_count": 5,
     "metadata": {},
     "output_type": "execute_result"
    }
   ],
   "source": [
    "mat.sum(axis=0)"
   ]
  },
  {
   "cell_type": "code",
   "execution_count": 6,
   "id": "4642cb3f",
   "metadata": {},
   "outputs": [
    {
     "data": {
      "text/plain": [
       "array([55, 60, 65, 70, 75])"
      ]
     },
     "execution_count": 6,
     "metadata": {},
     "output_type": "execute_result"
    }
   ],
   "source": [
    "sum(mat)"
   ]
  },
  {
   "cell_type": "code",
   "execution_count": null,
   "id": "d386d312",
   "metadata": {},
   "outputs": [],
   "source": []
  }
 ],
 "metadata": {
  "kernelspec": {
   "display_name": "Python 3 (ipykernel)",
   "language": "python",
   "name": "python3"
  },
  "language_info": {
   "codemirror_mode": {
    "name": "ipython",
    "version": 3
   },
   "file_extension": ".py",
   "mimetype": "text/x-python",
   "name": "python",
   "nbconvert_exporter": "python",
   "pygments_lexer": "ipython3",
   "version": "3.9.13"
  }
 },
 "nbformat": 4,
 "nbformat_minor": 5
}
