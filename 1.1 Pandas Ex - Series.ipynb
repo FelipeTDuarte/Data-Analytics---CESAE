{
 "cells": [
  {
   "cell_type": "markdown",
   "id": "1af303bd",
   "metadata": {},
   "source": [
    "# Exercícios Séries"
   ]
  },
  {
   "cell_type": "markdown",
   "id": "03fe126d",
   "metadata": {},
   "source": [
    " 1.1 Escreva as seguintes séries <br>\n",
    "[2, 4, 6, 8, 10], [1, 3, 5, 7, 9]"
   ]
  },
  {
   "cell_type": "code",
   "execution_count": 1,
   "id": "682cee7a",
   "metadata": {},
   "outputs": [],
   "source": [
    "import pandas as pd"
   ]
  },
  {
   "cell_type": "code",
   "execution_count": 2,
   "id": "aa6f4a58",
   "metadata": {},
   "outputs": [],
   "source": [
    "ds1 = pd.Series([2,3,6,8,10])\n",
    "ds2 = pd.Series([1,3,5,7,9])"
   ]
  },
  {
   "cell_type": "code",
   "execution_count": 3,
   "id": "4c5e5367",
   "metadata": {},
   "outputs": [
    {
     "data": {
      "text/plain": [
       "0     2\n",
       "1     3\n",
       "2     6\n",
       "3     8\n",
       "4    10\n",
       "dtype: int64"
      ]
     },
     "execution_count": 3,
     "metadata": {},
     "output_type": "execute_result"
    }
   ],
   "source": [
    "ds1"
   ]
  },
  {
   "cell_type": "code",
   "execution_count": 4,
   "id": "5ece9871",
   "metadata": {},
   "outputs": [
    {
     "data": {
      "text/plain": [
       "0    1\n",
       "1    3\n",
       "2    5\n",
       "3    7\n",
       "4    9\n",
       "dtype: int64"
      ]
     },
     "execution_count": 4,
     "metadata": {},
     "output_type": "execute_result"
    }
   ],
   "source": [
    "ds2"
   ]
  },
  {
   "cell_type": "markdown",
   "id": "1bf6f38c",
   "metadata": {},
   "source": [
    "1.2 Soma"
   ]
  },
  {
   "cell_type": "code",
   "execution_count": 5,
   "id": "9b328ca4",
   "metadata": {},
   "outputs": [
    {
     "name": "stdout",
     "output_type": "stream",
     "text": [
      "0     3\n",
      "1     6\n",
      "2    11\n",
      "3    15\n",
      "4    19\n",
      "dtype: int64\n"
     ]
    }
   ],
   "source": [
    "ds = ds1 + ds2\n",
    "print(ds)"
   ]
  },
  {
   "cell_type": "markdown",
   "id": "94a4b4cc",
   "metadata": {},
   "source": [
    "1.3 subtração"
   ]
  },
  {
   "cell_type": "code",
   "execution_count": 6,
   "id": "d4fa4336",
   "metadata": {},
   "outputs": [
    {
     "name": "stdout",
     "output_type": "stream",
     "text": [
      "0    1\n",
      "1    0\n",
      "2    1\n",
      "3    1\n",
      "4    1\n",
      "dtype: int64\n"
     ]
    }
   ],
   "source": [
    "ds = ds1 - ds2\n",
    "print(ds)"
   ]
  },
  {
   "cell_type": "markdown",
   "id": "1127a31e",
   "metadata": {},
   "source": [
    "1.4 multiplicação"
   ]
  },
  {
   "cell_type": "code",
   "execution_count": 8,
   "id": "5bf92cbc",
   "metadata": {},
   "outputs": [
    {
     "name": "stdout",
     "output_type": "stream",
     "text": [
      "0     2\n",
      "1     9\n",
      "2    30\n",
      "3    56\n",
      "4    90\n",
      "dtype: int64\n"
     ]
    }
   ],
   "source": [
    "ds = ds1 * ds2\n",
    "print(ds)"
   ]
  },
  {
   "cell_type": "markdown",
   "id": "4effcc4e",
   "metadata": {},
   "source": [
    "1.5 Divisão"
   ]
  },
  {
   "cell_type": "code",
   "execution_count": 10,
   "id": "96b3aac8",
   "metadata": {},
   "outputs": [
    {
     "name": "stdout",
     "output_type": "stream",
     "text": [
      "0    2.000000\n",
      "1    1.000000\n",
      "2    1.200000\n",
      "3    1.142857\n",
      "4    1.111111\n",
      "dtype: float64\n"
     ]
    }
   ],
   "source": [
    "ds = ds1 / ds2\n",
    "print(ds)"
   ]
  },
  {
   "cell_type": "markdown",
   "id": "915d6cf3",
   "metadata": {},
   "source": [
    "2 Compare Series <br>\n",
    "2.1 Igualdade"
   ]
  },
  {
   "cell_type": "code",
   "execution_count": 11,
   "id": "aa1d1670",
   "metadata": {},
   "outputs": [
    {
     "data": {
      "text/plain": [
       "0    False\n",
       "1     True\n",
       "2    False\n",
       "3    False\n",
       "4    False\n",
       "dtype: bool"
      ]
     },
     "execution_count": 11,
     "metadata": {},
     "output_type": "execute_result"
    }
   ],
   "source": [
    "ds1 == ds2"
   ]
  },
  {
   "cell_type": "markdown",
   "id": "9d47756e",
   "metadata": {},
   "source": [
    "2.2 Superioridade "
   ]
  },
  {
   "cell_type": "code",
   "execution_count": 12,
   "id": "238c14f6",
   "metadata": {},
   "outputs": [
    {
     "data": {
      "text/plain": [
       "0     True\n",
       "1    False\n",
       "2     True\n",
       "3     True\n",
       "4     True\n",
       "dtype: bool"
      ]
     },
     "execution_count": 12,
     "metadata": {},
     "output_type": "execute_result"
    }
   ],
   "source": [
    "ds1 > ds2"
   ]
  },
  {
   "cell_type": "markdown",
   "id": "b1b13230",
   "metadata": {},
   "source": [
    "2.3 Inferioridade"
   ]
  },
  {
   "cell_type": "code",
   "execution_count": 13,
   "id": "0a77d23c",
   "metadata": {},
   "outputs": [
    {
     "data": {
      "text/plain": [
       "0    False\n",
       "1    False\n",
       "2    False\n",
       "3    False\n",
       "4    False\n",
       "dtype: bool"
      ]
     },
     "execution_count": 13,
     "metadata": {},
     "output_type": "execute_result"
    }
   ],
   "source": [
    "ds1 < ds2"
   ]
  },
  {
   "cell_type": "markdown",
   "id": "71d0ea82",
   "metadata": {},
   "source": [
    "3 Escreva um programa em pandas para converter um dicionário numa série de pandas"
   ]
  },
  {
   "cell_type": "markdown",
   "id": "bbfdf15d",
   "metadata": {},
   "source": [
    "Original dictionary: <br>\n",
    " {'a': 100, 'b': 200, 'c': 300, 'd': 400, 'e': 800}"
   ]
  },
  {
   "cell_type": "code",
   "execution_count": 14,
   "id": "a9824560",
   "metadata": {},
   "outputs": [],
   "source": [
    "d1 = {'a': 100, 'b': 200, 'c': 300, 'd': 400, 'e': 800}"
   ]
  },
  {
   "cell_type": "code",
   "execution_count": 17,
   "id": "b85d36af",
   "metadata": {},
   "outputs": [],
   "source": [
    "new_series = pd.Series(d1)"
   ]
  },
  {
   "cell_type": "code",
   "execution_count": 18,
   "id": "80bc5380",
   "metadata": {},
   "outputs": [
    {
     "name": "stdout",
     "output_type": "stream",
     "text": [
      "a    100\n",
      "b    200\n",
      "c    300\n",
      "d    400\n",
      "e    800\n",
      "dtype: int64\n"
     ]
    }
   ],
   "source": [
    "print(new_series)"
   ]
  },
  {
   "cell_type": "markdown",
   "id": "5f0909c7",
   "metadata": {},
   "source": [
    " 4 Escreva um programa em pandas para converter um array NumPy numa série de pandas <br>\n",
    " NumPy array: <br>\n",
    " [10 20 30 40 50] <br>"
   ]
  },
  {
   "cell_type": "code",
   "execution_count": 19,
   "id": "91d0d86f",
   "metadata": {},
   "outputs": [],
   "source": [
    "import numpy as np"
   ]
  },
  {
   "cell_type": "code",
   "execution_count": 21,
   "id": "2bf69b19",
   "metadata": {},
   "outputs": [
    {
     "data": {
      "text/plain": [
       "array([10, 20, 30, 40, 50])"
      ]
     },
     "execution_count": 21,
     "metadata": {},
     "output_type": "execute_result"
    }
   ],
   "source": [
    "np_array = np.array([10, 20, 30, 40, 50])\n",
    "np_array"
   ]
  },
  {
   "cell_type": "code",
   "execution_count": 22,
   "id": "f7eaed55",
   "metadata": {},
   "outputs": [],
   "source": [
    "new_series = pd.Series(np_array)"
   ]
  },
  {
   "cell_type": "code",
   "execution_count": 23,
   "id": "39cd5986",
   "metadata": {},
   "outputs": [
    {
     "name": "stdout",
     "output_type": "stream",
     "text": [
      "0    10\n",
      "1    20\n",
      "2    30\n",
      "3    40\n",
      "4    50\n",
      "dtype: int32\n"
     ]
    }
   ],
   "source": [
    "print(new_series)"
   ]
  },
  {
   "cell_type": "markdown",
   "id": "5cc9a4f3",
   "metadata": {},
   "source": [
    " 5 Mude o tipo de dados do array da série <br>\n",
    " 0 100 <br>\n",
    " 1 200 <br>\n",
    " 2 python <br>\n",
    " 3 300.12 <br>\n",
    " 4 400 <br>"
   ]
  },
  {
   "cell_type": "code",
   "execution_count": 24,
   "id": "7e49c8ea",
   "metadata": {},
   "outputs": [
    {
     "data": {
      "text/plain": [
       "0       100\n",
       "1       200\n",
       "2    python\n",
       "3    300.12\n",
       "4       400\n",
       "dtype: object"
      ]
     },
     "execution_count": 24,
     "metadata": {},
     "output_type": "execute_result"
    }
   ],
   "source": [
    "s1 = pd.Series(['100', '200', 'python', '300.12','400'])\n",
    "s1"
   ]
  },
  {
   "cell_type": "code",
   "execution_count": 26,
   "id": "da04ebbd",
   "metadata": {},
   "outputs": [],
   "source": [
    "s2 = pd.to_numeric(s1, errors='coerce')"
   ]
  },
  {
   "cell_type": "code",
   "execution_count": 27,
   "id": "4968b4bb",
   "metadata": {},
   "outputs": [
    {
     "name": "stdout",
     "output_type": "stream",
     "text": [
      "0    100.00\n",
      "1    200.00\n",
      "2       NaN\n",
      "3    300.12\n",
      "4    400.00\n",
      "dtype: float64\n"
     ]
    }
   ],
   "source": [
    "print(s2)"
   ]
  },
  {
   "cell_type": "markdown",
   "id": "7a020e80",
   "metadata": {},
   "source": [
    " 6 Converta a primeira coluna de um DataFrame para série"
   ]
  },
  {
   "cell_type": "markdown",
   "id": "602bb798",
   "metadata": {},
   "source": [
    "d = {'col1': [1, 2, 3, 4, 7, 11], 'col2': [4, 5, 6, 9, 5, 0], 'col3': [7, 5, 8, 12, 1,11]}"
   ]
  },
  {
   "cell_type": "code",
   "execution_count": 28,
   "id": "25694679",
   "metadata": {},
   "outputs": [],
   "source": [
    "d = {'col1': [1, 2, 3, 4, 7, 11], 'col2': [4, 5, 6, 9, 5, 0], 'col3': [7, 5, 8, 12, 1,11]}"
   ]
  },
  {
   "cell_type": "code",
   "execution_count": 29,
   "id": "41881d39",
   "metadata": {},
   "outputs": [],
   "source": [
    "df = pd.DataFrame(data = d)"
   ]
  },
  {
   "cell_type": "code",
   "execution_count": 30,
   "id": "2895e89a",
   "metadata": {},
   "outputs": [
    {
     "name": "stdout",
     "output_type": "stream",
     "text": [
      "   col1  col2  col3\n",
      "0     1     4     7\n",
      "1     2     5     5\n",
      "2     3     6     8\n",
      "3     4     9    12\n",
      "4     7     5     1\n",
      "5    11     0    11\n"
     ]
    }
   ],
   "source": [
    "print(df)"
   ]
  },
  {
   "cell_type": "code",
   "execution_count": 31,
   "id": "06709026",
   "metadata": {},
   "outputs": [],
   "source": [
    "s1 = df.iloc[:,0]"
   ]
  },
  {
   "cell_type": "code",
   "execution_count": 32,
   "id": "ce1a990a",
   "metadata": {},
   "outputs": [
    {
     "name": "stdout",
     "output_type": "stream",
     "text": [
      "0     1\n",
      "1     2\n",
      "2     3\n",
      "3     4\n",
      "4     7\n",
      "5    11\n",
      "Name: col1, dtype: int64\n"
     ]
    }
   ],
   "source": [
    "print(s1)"
   ]
  },
  {
   "cell_type": "code",
   "execution_count": 33,
   "id": "ef7346e7",
   "metadata": {},
   "outputs": [
    {
     "name": "stdout",
     "output_type": "stream",
     "text": [
      "<class 'pandas.core.series.Series'>\n"
     ]
    }
   ],
   "source": [
    "print(type(s1))"
   ]
  },
  {
   "cell_type": "markdown",
   "id": "0a8cc59c",
   "metadata": {},
   "source": [
    " Converta a seguinte serie num array"
   ]
  },
  {
   "cell_type": "markdown",
   "id": "445653d2",
   "metadata": {},
   "source": [
    "s1 = pd.Series(['100', '200', 'python', '300.12', '400'])"
   ]
  },
  {
   "cell_type": "code",
   "execution_count": 34,
   "id": "21995135",
   "metadata": {},
   "outputs": [],
   "source": [
    "s1 = pd.Series(['100', '200', 'python', '300.12', '400'])"
   ]
  },
  {
   "cell_type": "code",
   "execution_count": 35,
   "id": "f111abf3",
   "metadata": {},
   "outputs": [
    {
     "name": "stdout",
     "output_type": "stream",
     "text": [
      "0       100\n",
      "1       200\n",
      "2    python\n",
      "3    300.12\n",
      "4       400\n",
      "dtype: object\n"
     ]
    }
   ],
   "source": [
    "print(s1)"
   ]
  },
  {
   "cell_type": "code",
   "execution_count": 36,
   "id": "ba53b1ba",
   "metadata": {},
   "outputs": [],
   "source": [
    "a = np.array(s1.values.tolist())"
   ]
  },
  {
   "cell_type": "code",
   "execution_count": 37,
   "id": "cf728bca",
   "metadata": {},
   "outputs": [
    {
     "name": "stdout",
     "output_type": "stream",
     "text": [
      "['100' '200' 'python' '300.12' '400']\n"
     ]
    }
   ],
   "source": [
    "print(a)"
   ]
  },
  {
   "cell_type": "markdown",
   "id": "a88a0153",
   "metadata": {},
   "source": [
    " Converta a seguinte serie de listas numa serie"
   ]
  },
  {
   "cell_type": "markdown",
   "id": "88d8bf57",
   "metadata": {},
   "source": [
    "s = pd.Series([\n",
    "    ['Red', 'Green', 'White'],\n",
    "    ['Red', 'Black'],\n",
    "    ['Yellow']])"
   ]
  },
  {
   "cell_type": "code",
   "execution_count": 38,
   "id": "f8a7413d",
   "metadata": {},
   "outputs": [],
   "source": [
    "s = pd.Series([ ['Red', 'Green', 'White'], ['Red', 'Black'], ['Yellow']])"
   ]
  },
  {
   "cell_type": "code",
   "execution_count": 39,
   "id": "32fe6bf8",
   "metadata": {},
   "outputs": [
    {
     "name": "stdout",
     "output_type": "stream",
     "text": [
      "0    [Red, Green, White]\n",
      "1           [Red, Black]\n",
      "2               [Yellow]\n",
      "dtype: object\n"
     ]
    }
   ],
   "source": [
    "print(s)"
   ]
  },
  {
   "cell_type": "code",
   "execution_count": 40,
   "id": "0bcfba98",
   "metadata": {},
   "outputs": [],
   "source": [
    "s = s.apply(pd.Series).stack().reset_index(drop=True)"
   ]
  },
  {
   "cell_type": "code",
   "execution_count": 41,
   "id": "9d28bf5b",
   "metadata": {},
   "outputs": [
    {
     "name": "stdout",
     "output_type": "stream",
     "text": [
      "0       Red\n",
      "1     Green\n",
      "2     White\n",
      "3       Red\n",
      "4     Black\n",
      "5    Yellow\n",
      "dtype: object\n"
     ]
    }
   ],
   "source": [
    "print(s)"
   ]
  },
  {
   "cell_type": "markdown",
   "id": "7421a18d",
   "metadata": {},
   "source": [
    " Ordene a seguinte série"
   ]
  },
  {
   "cell_type": "markdown",
   "id": "3317a6a7",
   "metadata": {},
   "source": [
    "s = pd.Series(['100', '200', 'python', '300.12', '400'])"
   ]
  },
  {
   "cell_type": "code",
   "execution_count": 42,
   "id": "a00690b8",
   "metadata": {},
   "outputs": [],
   "source": [
    "s = pd.Series(['100', '200', 'python', '300.12', '400'])"
   ]
  },
  {
   "cell_type": "code",
   "execution_count": 43,
   "id": "256073db",
   "metadata": {},
   "outputs": [
    {
     "name": "stdout",
     "output_type": "stream",
     "text": [
      "0       100\n",
      "1       200\n",
      "2    python\n",
      "3    300.12\n",
      "4       400\n",
      "dtype: object\n"
     ]
    }
   ],
   "source": [
    "print(s)"
   ]
  },
  {
   "cell_type": "code",
   "execution_count": 44,
   "id": "e874a8be",
   "metadata": {},
   "outputs": [],
   "source": [
    "new_s = pd.Series(s).sort_values()"
   ]
  },
  {
   "cell_type": "code",
   "execution_count": 45,
   "id": "b4b33bee",
   "metadata": {},
   "outputs": [
    {
     "name": "stdout",
     "output_type": "stream",
     "text": [
      "0       100\n",
      "1       200\n",
      "3    300.12\n",
      "4       400\n",
      "2    python\n",
      "dtype: object\n"
     ]
    }
   ],
   "source": [
    "print(new_s)"
   ]
  }
 ],
 "metadata": {
  "kernelspec": {
   "display_name": "Python 3 (ipykernel)",
   "language": "python",
   "name": "python3"
  },
  "language_info": {
   "codemirror_mode": {
    "name": "ipython",
    "version": 3
   },
   "file_extension": ".py",
   "mimetype": "text/x-python",
   "name": "python",
   "nbconvert_exporter": "python",
   "pygments_lexer": "ipython3",
   "version": "3.9.13"
  }
 },
 "nbformat": 4,
 "nbformat_minor": 5
}
