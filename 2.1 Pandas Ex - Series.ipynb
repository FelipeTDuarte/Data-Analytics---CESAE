{
 "cells": [
  {
   "cell_type": "markdown",
   "id": "1af303bd",
   "metadata": {},
   "source": [
    "# Exercícios Séries"
   ]
  },
  {
   "cell_type": "markdown",
   "id": "03fe126d",
   "metadata": {},
   "source": [
    "#### 1.1 Escreva as seguintes séries\n",
    "#### [2, 4, 6, 8, 10], [1, 3, 5, 7, 9]"
   ]
  },
  {
   "cell_type": "code",
   "execution_count": null,
   "id": "682cee7a",
   "metadata": {},
   "outputs": [],
   "source": []
  },
  {
   "cell_type": "code",
   "execution_count": null,
   "id": "aa6f4a58",
   "metadata": {},
   "outputs": [],
   "source": []
  },
  {
   "cell_type": "markdown",
   "id": "1bf6f38c",
   "metadata": {},
   "source": [
    "#### 1.2 Soma"
   ]
  },
  {
   "cell_type": "code",
   "execution_count": null,
   "id": "9b328ca4",
   "metadata": {},
   "outputs": [],
   "source": []
  },
  {
   "cell_type": "markdown",
   "id": "94a4b4cc",
   "metadata": {},
   "source": [
    "#### 1.3 subtração"
   ]
  },
  {
   "cell_type": "code",
   "execution_count": null,
   "id": "d4fa4336",
   "metadata": {},
   "outputs": [],
   "source": []
  },
  {
   "cell_type": "markdown",
   "id": "1127a31e",
   "metadata": {},
   "source": [
    "#### 1.4 multiplicação"
   ]
  },
  {
   "cell_type": "code",
   "execution_count": null,
   "id": "5bf92cbc",
   "metadata": {},
   "outputs": [],
   "source": []
  },
  {
   "cell_type": "markdown",
   "id": "4effcc4e",
   "metadata": {},
   "source": [
    "#### 1.5 Divisão"
   ]
  },
  {
   "cell_type": "code",
   "execution_count": null,
   "id": "96b3aac8",
   "metadata": {},
   "outputs": [],
   "source": []
  },
  {
   "cell_type": "markdown",
   "id": "915d6cf3",
   "metadata": {},
   "source": [
    "#### 2 Compare Series\n",
    "#### 2.1 Igualdade"
   ]
  },
  {
   "cell_type": "code",
   "execution_count": null,
   "id": "aa1d1670",
   "metadata": {},
   "outputs": [],
   "source": []
  },
  {
   "cell_type": "markdown",
   "id": "9d47756e",
   "metadata": {},
   "source": [
    "#### 2.2 Superioridade "
   ]
  },
  {
   "cell_type": "code",
   "execution_count": null,
   "id": "238c14f6",
   "metadata": {},
   "outputs": [],
   "source": []
  },
  {
   "cell_type": "markdown",
   "id": "b1b13230",
   "metadata": {},
   "source": [
    "#### 2.3 Inferioridade"
   ]
  },
  {
   "cell_type": "code",
   "execution_count": null,
   "id": "0a77d23c",
   "metadata": {},
   "outputs": [],
   "source": []
  },
  {
   "cell_type": "markdown",
   "id": "71d0ea82",
   "metadata": {},
   "source": [
    "#### 3 Escreva um programa em pandas para converter um dicionário numa série de pandas"
   ]
  },
  {
   "cell_type": "markdown",
   "id": "bbfdf15d",
   "metadata": {},
   "source": [
    "#### Original dictionary:\n",
    "#### {'a': 100, 'b': 200, 'c': 300, 'd': 400, 'e': 800}"
   ]
  },
  {
   "cell_type": "code",
   "execution_count": null,
   "id": "a9824560",
   "metadata": {},
   "outputs": [],
   "source": []
  },
  {
   "cell_type": "code",
   "execution_count": null,
   "id": "b85d36af",
   "metadata": {},
   "outputs": [],
   "source": []
  },
  {
   "cell_type": "code",
   "execution_count": null,
   "id": "80bc5380",
   "metadata": {},
   "outputs": [],
   "source": []
  },
  {
   "cell_type": "markdown",
   "id": "5f0909c7",
   "metadata": {},
   "source": [
    "#### 4 Escreva um programa em pandas para converter um array NumPy numa série de pandas\n",
    "#### NumPy array:\n",
    "#### [10 20 30 40 50]"
   ]
  },
  {
   "cell_type": "code",
   "execution_count": null,
   "id": "91d0d86f",
   "metadata": {},
   "outputs": [],
   "source": []
  },
  {
   "cell_type": "code",
   "execution_count": null,
   "id": "2bf69b19",
   "metadata": {},
   "outputs": [],
   "source": []
  },
  {
   "cell_type": "code",
   "execution_count": null,
   "id": "f7eaed55",
   "metadata": {},
   "outputs": [],
   "source": []
  },
  {
   "cell_type": "code",
   "execution_count": null,
   "id": "39cd5986",
   "metadata": {},
   "outputs": [],
   "source": []
  },
  {
   "cell_type": "markdown",
   "id": "5cc9a4f3",
   "metadata": {},
   "source": [
    "#### 5 Mude o tipo de dados do array da série\n",
    "#### 0 100\n",
    "#### 1 200\n",
    "#### 2 python\n",
    "#### 3 300.12\n",
    "#### 4 400"
   ]
  },
  {
   "cell_type": "code",
   "execution_count": null,
   "id": "7e49c8ea",
   "metadata": {},
   "outputs": [],
   "source": []
  },
  {
   "cell_type": "code",
   "execution_count": null,
   "id": "da04ebbd",
   "metadata": {},
   "outputs": [],
   "source": []
  },
  {
   "cell_type": "code",
   "execution_count": null,
   "id": "4968b4bb",
   "metadata": {},
   "outputs": [],
   "source": []
  },
  {
   "cell_type": "markdown",
   "id": "7a020e80",
   "metadata": {},
   "source": [
    "#### 6 Converta a primeira coluna de um DataFrame para série"
   ]
  },
  {
   "cell_type": "markdown",
   "id": "602bb798",
   "metadata": {},
   "source": [
    "d = {'col1': [1, 2, 3, 4, 7, 11], 'col2': [4, 5, 6, 9, 5, 0], 'col3': [7, 5, 8, 12, 1,11]}"
   ]
  },
  {
   "cell_type": "code",
   "execution_count": null,
   "id": "25694679",
   "metadata": {},
   "outputs": [],
   "source": []
  },
  {
   "cell_type": "code",
   "execution_count": null,
   "id": "41881d39",
   "metadata": {},
   "outputs": [],
   "source": []
  },
  {
   "cell_type": "code",
   "execution_count": null,
   "id": "2895e89a",
   "metadata": {},
   "outputs": [],
   "source": []
  },
  {
   "cell_type": "code",
   "execution_count": null,
   "id": "06709026",
   "metadata": {},
   "outputs": [],
   "source": []
  },
  {
   "cell_type": "code",
   "execution_count": null,
   "id": "ce1a990a",
   "metadata": {},
   "outputs": [],
   "source": []
  },
  {
   "cell_type": "code",
   "execution_count": null,
   "id": "ef7346e7",
   "metadata": {},
   "outputs": [],
   "source": []
  },
  {
   "cell_type": "markdown",
   "id": "0a8cc59c",
   "metadata": {},
   "source": [
    "#### Converta a seguinte serie num array"
   ]
  },
  {
   "cell_type": "markdown",
   "id": "445653d2",
   "metadata": {},
   "source": [
    "s1 = pd.Series(['100', '200', 'python', '300.12', '400'])"
   ]
  },
  {
   "cell_type": "code",
   "execution_count": null,
   "id": "21995135",
   "metadata": {},
   "outputs": [],
   "source": []
  },
  {
   "cell_type": "code",
   "execution_count": null,
   "id": "f111abf3",
   "metadata": {},
   "outputs": [],
   "source": []
  },
  {
   "cell_type": "code",
   "execution_count": null,
   "id": "ba53b1ba",
   "metadata": {},
   "outputs": [],
   "source": []
  },
  {
   "cell_type": "code",
   "execution_count": null,
   "id": "cf728bca",
   "metadata": {},
   "outputs": [],
   "source": []
  },
  {
   "cell_type": "markdown",
   "id": "a88a0153",
   "metadata": {},
   "source": [
    "#### Converta a seguinte serie de listas numa serie"
   ]
  },
  {
   "cell_type": "markdown",
   "id": "88d8bf57",
   "metadata": {},
   "source": [
    "s = pd.Series([\n",
    "    ['Red', 'Green', 'White'],\n",
    "    ['Red', 'Black'],\n",
    "    ['Yellow']])"
   ]
  },
  {
   "cell_type": "code",
   "execution_count": null,
   "id": "f8a7413d",
   "metadata": {},
   "outputs": [],
   "source": []
  },
  {
   "cell_type": "code",
   "execution_count": null,
   "id": "32fe6bf8",
   "metadata": {},
   "outputs": [],
   "source": []
  },
  {
   "cell_type": "code",
   "execution_count": null,
   "id": "0bcfba98",
   "metadata": {},
   "outputs": [],
   "source": []
  },
  {
   "cell_type": "code",
   "execution_count": null,
   "id": "9d28bf5b",
   "metadata": {},
   "outputs": [],
   "source": []
  },
  {
   "cell_type": "markdown",
   "id": "7421a18d",
   "metadata": {},
   "source": [
    "#### Ordene a seguinte série"
   ]
  },
  {
   "cell_type": "markdown",
   "id": "3317a6a7",
   "metadata": {},
   "source": [
    "s = pd.Series(['100', '200', 'python', '300.12', '400'])"
   ]
  },
  {
   "cell_type": "code",
   "execution_count": null,
   "id": "a00690b8",
   "metadata": {},
   "outputs": [],
   "source": []
  },
  {
   "cell_type": "code",
   "execution_count": null,
   "id": "256073db",
   "metadata": {},
   "outputs": [],
   "source": []
  },
  {
   "cell_type": "code",
   "execution_count": null,
   "id": "e874a8be",
   "metadata": {},
   "outputs": [],
   "source": []
  },
  {
   "cell_type": "code",
   "execution_count": null,
   "id": "b4b33bee",
   "metadata": {},
   "outputs": [],
   "source": []
  }
 ],
 "metadata": {
  "kernelspec": {
   "display_name": "Python 3 (ipykernel)",
   "language": "python",
   "name": "python3"
  },
  "language_info": {
   "codemirror_mode": {
    "name": "ipython",
    "version": 3
   },
   "file_extension": ".py",
   "mimetype": "text/x-python",
   "name": "python",
   "nbconvert_exporter": "python",
   "pygments_lexer": "ipython3",
   "version": "3.9.13"
  }
 },
 "nbformat": 4,
 "nbformat_minor": 5
}
