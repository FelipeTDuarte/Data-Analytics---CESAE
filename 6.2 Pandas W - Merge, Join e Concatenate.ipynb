{
 "cells": [
  {
   "cell_type": "markdown",
   "id": "f2ca182f",
   "metadata": {},
   "source": [
    "# 6.2 Pandas W - Merge, Join e Concatenate"
   ]
  },
  {
   "cell_type": "code",
   "execution_count": 2,
   "id": "4b4dd3c2",
   "metadata": {},
   "outputs": [],
   "source": [
    "import pandas as pd"
   ]
  },
  {
   "cell_type": "markdown",
   "id": "8c393f3b",
   "metadata": {},
   "source": [
    "1. Una os dois dataframes fornecidos ao longo das linhas. <br>\n",
    "df1 = pd.DataFrame({<br>\n",
    "        'student_id': ['S1', 'S2', 'S3', 'S4', 'S5'],<br>\n",
    "         'name': ['Danniella Fenton', 'Ryder Storey', 'Bryce Jensen', 'Ed Bernal', 'Kwame Morin'], <br>\n",
    "        'marks': [200, 210, 190, 222, 199]})<br>\n",
    "<br>\n",
    "df2 = pd.DataFrame({<br>\n",
    "        'student_id': ['S4', 'S5', 'S6', 'S7', 'S8'],<br>\n",
    "        'name': ['Scarlette Fisher', 'Carla Williamson', 'Dante Morse', 'Kaiser William', 'Madeeha Preston'], <br>\n",
    "        'marks': [201, 200, 198, 219, 201]})<br>"
   ]
  },
  {
   "cell_type": "code",
   "execution_count": 3,
   "id": "5ca643c3",
   "metadata": {},
   "outputs": [
    {
     "name": "stdout",
     "output_type": "stream",
     "text": [
      "  student_id              name  marks\n",
      "0         S1  Danniella Fenton    200\n",
      "1         S2      Ryder Storey    210\n",
      "2         S3      Bryce Jensen    190\n",
      "3         S4         Ed Bernal    222\n",
      "4         S5       Kwame Morin    199\n",
      "0         S4  Scarlette Fisher    201\n",
      "1         S5  Carla Williamson    200\n",
      "2         S6       Dante Morse    198\n",
      "3         S7    Kaiser William    219\n",
      "4         S8   Madeeha Preston    201\n"
     ]
    }
   ],
   "source": [
    "df1 = pd.DataFrame({\n",
    "        'student_id': ['S1', 'S2', 'S3', 'S4', 'S5'],\n",
    "         'name': ['Danniella Fenton', 'Ryder Storey', 'Bryce Jensen', 'Ed Bernal', 'Kwame Morin'], \n",
    "        'marks': [200, 210, 190, 222, 199]})\n",
    "\n",
    "df2 = pd.DataFrame({\n",
    "        'student_id': ['S4', 'S5', 'S6', 'S7', 'S8'],\n",
    "        'name': ['Scarlette Fisher', 'Carla Williamson', 'Dante Morse', 'Kaiser William', 'Madeeha Preston'], \n",
    "        'marks': [201, 200, 198, 219, 201]})\n",
    "result_data = pd.concat([df1, df2])\n",
    "print(result_data)"
   ]
  },
  {
   "cell_type": "markdown",
   "id": "d7f085ed",
   "metadata": {},
   "source": [
    "2. Una os dataframes da alinea anterior ao longo das colunas."
   ]
  },
  {
   "cell_type": "code",
   "execution_count": 4,
   "id": "a902039c",
   "metadata": {},
   "outputs": [
    {
     "name": "stdout",
     "output_type": "stream",
     "text": [
      "  student_id              name  marks student_id              name  marks\n",
      "0         S1  Danniella Fenton    200         S4  Scarlette Fisher    201\n",
      "1         S2      Ryder Storey    210         S5  Carla Williamson    200\n",
      "2         S3      Bryce Jensen    190         S6       Dante Morse    198\n",
      "3         S4         Ed Bernal    222         S7    Kaiser William    219\n",
      "4         S5       Kwame Morin    199         S8   Madeeha Preston    201\n"
     ]
    }
   ],
   "source": [
    "result_data = pd.concat([df1, df2], axis=1)\n",
    "print(result_data)"
   ]
  },
  {
   "cell_type": "markdown",
   "id": "f1ccd184",
   "metadata": {},
   "source": [
    "3. Anexe a seguinte linha ao dataframe da alínea 1 e exiba os dados combinados. <br>\n",
    "Nova Linha<br>\n",
    "estudante_id S6<br>\n",
    "nome Scarlette Fisher<br>\n",
    "marcas 205<br>\n",
    "tipo d: objeto<br>\n"
   ]
  },
  {
   "cell_type": "code",
   "execution_count": 5,
   "id": "ad3d2583",
   "metadata": {},
   "outputs": [
    {
     "name": "stdout",
     "output_type": "stream",
     "text": [
      "  student_id              name  marks\n",
      "0         S1  Danniella Fenton    200\n",
      "1         S2      Ryder Storey    210\n",
      "2         S3      Bryce Jensen    190\n",
      "3         S4         Ed Bernal    222\n",
      "4         S5       Kwame Morin    199\n",
      "5         S6  Scarlette Fisher    205\n"
     ]
    }
   ],
   "source": [
    "s6 = pd.DataFrame({'student_id':['S6'], 'name':['Scarlette Fisher'], 'marks': [205]})\n",
    "combined_data = pd.concat([df1,s6], ignore_index = True)\n",
    "print(combined_data)"
   ]
  },
  {
   "cell_type": "markdown",
   "id": "2991a826",
   "metadata": {},
   "source": [
    "4. Unir os dois dataframes df1 e df2 com registos correspondentes de ambos os lados, quando disponíveis. "
   ]
  },
  {
   "cell_type": "code",
   "execution_count": 6,
   "id": "d17ff2a2",
   "metadata": {},
   "outputs": [
    {
     "name": "stdout",
     "output_type": "stream",
     "text": [
      "outer join:\n",
      "  student_id            name_x  marks_x            name_y  marks_y\n",
      "0         S1  Danniella Fenton    200.0               NaN      NaN\n",
      "1         S2      Ryder Storey    210.0               NaN      NaN\n",
      "2         S3      Bryce Jensen    190.0               NaN      NaN\n",
      "3         S4         Ed Bernal    222.0  Scarlette Fisher    201.0\n",
      "4         S5       Kwame Morin    199.0  Carla Williamson    200.0\n",
      "5         S6               NaN      NaN       Dante Morse    198.0\n",
      "6         S7               NaN      NaN    Kaiser William    219.0\n",
      "7         S8               NaN      NaN   Madeeha Preston    201.0\n"
     ]
    }
   ],
   "source": [
    "outer_join = pd.merge(df1, df2, on='student_id', how='outer')\n",
    "print(\"outer join:\")\n",
    "print(outer_join)"
   ]
  },
  {
   "cell_type": "markdown",
   "id": "0b42f015",
   "metadata": {},
   "source": [
    "5. Una(unir à esquerda) os dois quadros de dados usando apenas as chaves do quadro de dados esquerdo. <br>\n",
    "data1 = pd.DataFrame({'key1': ['K0', 'K0', 'K1', 'K2'], \n",
    "                     'key2': ['K0', 'K1', 'K0', 'K1'], \n",
    "                     'P': ['P0', 'P1', 'P2', 'P3'],\n",
    "                     'Q': ['Q0', 'Q1', 'Q2', 'Q3']}) \n",
    "data2 = pd.DataFrame({'key1': ['K0', 'K1', 'K1', 'K2'], \n",
    "                      'key2': ['K0', 'K0', 'K0', 'K0'], \n",
    "                      'R': ['R0', 'R1', 'R2', 'R3'], \n",
    "                      'S': ['S0', 'S1', 'S2', 'S3']}) "
   ]
  },
  {
   "cell_type": "code",
   "execution_count": 7,
   "id": "b2e1d542",
   "metadata": {},
   "outputs": [
    {
     "name": "stdout",
     "output_type": "stream",
     "text": [
      "\n",
      "Merged Data (chave de data1):\n",
      "  key1 key2   P   Q    R    S\n",
      "0   K0   K0  P0  Q0   R0   S0\n",
      "1   K0   K1  P1  Q1  NaN  NaN\n",
      "2   K1   K0  P2  Q2   R1   S1\n",
      "3   K1   K0  P2  Q2   R2   S2\n",
      "4   K2   K1  P3  Q3  NaN  NaN\n",
      "\n",
      "Merged Data (chave de data2):\n",
      "  key1 key2   R   S    P    Q\n",
      "0   K0   K0  R0  S0   P0   Q0\n",
      "1   K1   K0  R1  S1   P2   Q2\n",
      "2   K1   K0  R2  S2   P2   Q2\n",
      "3   K2   K0  R3  S3  NaN  NaN\n"
     ]
    }
   ],
   "source": [
    "data1 = pd.DataFrame({'key1': ['K0', 'K0', 'K1', 'K2'],\n",
    "              'key2': ['K0', 'K1', 'K0', 'K1'], \n",
    "              'P': ['P0', 'P1', 'P2', 'P3'],\n",
    "              'Q': ['Q0', 'Q1', 'Q2', 'Q3']}) \n",
    "data2 = pd.DataFrame({'key1': ['K0', 'K1', 'K1', 'K2'],\n",
    "               'key2': ['K0', 'K0', 'K0', 'K0'], \n",
    "               'R': ['R0', 'R1', 'R2', 'R3'], \n",
    "               'S': ['S0', 'S1', 'S2', 'S3']}) \n",
    "print(\"\\nMerged Data (chave de data1):\")\n",
    "merged_data1 = pd.merge(data1, data2, how='left', on=['key1', 'key2'])\n",
    "print(merged_data1)\n",
    "print(\"\\nMerged Data (chave de data2):\")\n",
    "merged_data2 = pd.merge(data2, data1, how='left', on=['key1', 'key2'])\n",
    "print(merged_data2)"
   ]
  },
  {
   "cell_type": "markdown",
   "id": "974770db",
   "metadata": {},
   "source": [
    "6. Crie um novo DataFrame com base nas séries seguintes existente, usando o argumento especificado e substitua os nomes das colunas existentes por ‘coluna1’, ‘coluna2’ e  ‘coluna3’. <br>\n",
    "s1 = pd.Series([0, 1, 2, 3], name='col1')<br>\n",
    "s2 = pd.Series([0, 1, 2, 3])<br>\n",
    "s3 = pd.Series([0, 1, 4, 5], name='col3')<br>"
   ]
  },
  {
   "cell_type": "code",
   "execution_count": 8,
   "id": "dd298420",
   "metadata": {},
   "outputs": [
    {
     "name": "stdout",
     "output_type": "stream",
     "text": [
      "   column1  column2  column3\n",
      "0        0        0        0\n",
      "1        1        1        1\n",
      "2        2        2        4\n",
      "3        3        3        5\n"
     ]
    }
   ],
   "source": [
    "s1 = pd.Series([0, 1, 2, 3], name='col1')\n",
    "s2 = pd.Series([0, 1, 2, 3])\n",
    "s3 = pd.Series([0, 1, 4, 5], name='col3')\n",
    "df = pd.concat([s1, s2, s3], axis=1, keys=['column1', 'column2', 'column3'])\n",
    "print(df)"
   ]
  },
  {
   "cell_type": "markdown",
   "id": "ee0a2074",
   "metadata": {},
   "source": [
    "7. Crie uma combinação dos dois quadros de dados data1 e data2 onde uma combinação de colunas de ID aparece mais do que uma vez em ambos os quadros de dados.<br>\n",
    "Ajuda – output desejado:<br>\n",
    "  key1 key2_x   P   Q key2_y   R   S<br>\n",
    "0   K0     K0  P0  Q0     K0  R0  S0<br>\n",
    "1   K0     K1  P1  Q1     K0  R0  S0<br>\n",
    "2   K1     K0  P2  Q2     K0  R1  S1<br>\n",
    "3   K1     K0  P2  Q2     K0  R2  S2<br>\n",
    "4   K2     K1  P3  Q3     K0  R3  S3<br>\n"
   ]
  },
  {
   "cell_type": "code",
   "execution_count": 9,
   "id": "c19913d7",
   "metadata": {},
   "outputs": [
    {
     "name": "stdout",
     "output_type": "stream",
     "text": [
      "  key1 key2_x   P   Q key2_y   R   S\n",
      "0   K0     K0  P0  Q0     K0  R0  S0\n",
      "1   K0     K1  P1  Q1     K0  R0  S0\n",
      "2   K1     K0  P2  Q2     K0  R1  S1\n",
      "3   K1     K0  P2  Q2     K0  R2  S2\n",
      "4   K2     K1  P3  Q3     K0  R3  S3\n"
     ]
    }
   ],
   "source": [
    "result = pd.merge(data1, data2, on='key1')\n",
    "print(result)"
   ]
  },
  {
   "cell_type": "markdown",
   "id": "07bff9d6",
   "metadata": {},
   "source": [
    "8. Una as colunas dos dois DataFrames seguintes, indexados potencialmente de forma diferente, num único DataFrame de resultado, usando o join. <br>\n",
    "data3 = pd.DataFrame({'A': ['A0', 'A1', 'A2'],<br>\n",
    "                      'B': ['B0', 'B1', 'B2']},<br>\n",
    "                     index=['K0', 'K1', 'K2'])<br>\n",
    "<br>\n",
    "data4 = pd.DataFrame({'C': ['C0', 'C2', 'C3'],<br>\n",
    "                      'D': ['D0', 'D2', 'D3']},<br>\n",
    "                     index=['K0', 'K2', 'K3'])<br>\n"
   ]
  },
  {
   "cell_type": "code",
   "execution_count": 11,
   "id": "d5c552a1",
   "metadata": {},
   "outputs": [
    {
     "name": "stdout",
     "output_type": "stream",
     "text": [
      "     A   B    C    D\n",
      "K0  A0  B0   C0   D0\n",
      "K1  A1  B1  NaN  NaN\n",
      "K2  A2  B2   C2   D2\n"
     ]
    }
   ],
   "source": [
    "data3 = pd.DataFrame({'A': ['A0', 'A1', 'A2'],\n",
    "                      'B': ['B0', 'B1', 'B2']},\n",
    "                     index=['K0', 'K1', 'K2'])\n",
    "\n",
    "data4 = pd.DataFrame({'C': ['C0', 'C2', 'C3'],\n",
    "                      'D': ['D0', 'D2', 'D3']},\n",
    "                     index=['K0', 'K2', 'K3'])\n",
    " \n",
    "\n",
    "result = data3.join(data4)\n",
    "print(result)"
   ]
  },
  {
   "cell_type": "markdown",
   "id": "f89702a0",
   "metadata": {},
   "source": [
    "9. Junte os dois dataframes data1 e data2 com colunas diferentes."
   ]
  },
  {
   "cell_type": "code",
   "execution_count": 13,
   "id": "81a6bbe3",
   "metadata": {},
   "outputs": [
    {
     "name": "stdout",
     "output_type": "stream",
     "text": [
      "  key1 key2    P    Q    R    S\n",
      "0   K0   K0   P0   Q0  NaN  NaN\n",
      "1   K0   K1   P1   Q1  NaN  NaN\n",
      "2   K1   K0   P2   Q2  NaN  NaN\n",
      "3   K2   K1   P3   Q3  NaN  NaN\n",
      "4   K0   K0  NaN  NaN   R0   S0\n",
      "5   K1   K0  NaN  NaN   R1   S1\n",
      "6   K1   K0  NaN  NaN   R2   S2\n",
      "7   K2   K0  NaN  NaN   R3   S3\n"
     ]
    }
   ],
   "source": [
    "result = pd.concat([data1,data2], axis=0, ignore_index=True)\n",
    "print(result)"
   ]
  },
  {
   "cell_type": "code",
   "execution_count": null,
   "id": "8ff9a52a",
   "metadata": {},
   "outputs": [],
   "source": []
  }
 ],
 "metadata": {
  "kernelspec": {
   "display_name": "Python 3 (ipykernel)",
   "language": "python",
   "name": "python3"
  },
  "language_info": {
   "codemirror_mode": {
    "name": "ipython",
    "version": 3
   },
   "file_extension": ".py",
   "mimetype": "text/x-python",
   "name": "python",
   "nbconvert_exporter": "python",
   "pygments_lexer": "ipython3",
   "version": "3.9.13"
  }
 },
 "nbformat": 4,
 "nbformat_minor": 5
}
