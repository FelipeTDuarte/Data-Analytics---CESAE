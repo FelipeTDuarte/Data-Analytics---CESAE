{
 "cells": [
  {
   "cell_type": "markdown",
   "id": "8f1831e1",
   "metadata": {},
   "source": [
    "# 5.1 Pandas Ex - GroupBy"
   ]
  },
  {
   "cell_type": "code",
   "execution_count": 1,
   "id": "b2e3215d",
   "metadata": {},
   "outputs": [],
   "source": [
    "import pandas as pd"
   ]
  },
  {
   "cell_type": "markdown",
   "id": "0442f4aa",
   "metadata": {},
   "source": [
    "1. Encontre os valores médio, mínimo e máximo do grupo de valor da compra (purch_amt) por ID do cliente (customer_id) do DataFrame1. <br>\n",
    "DataFrame1:<br>\n",
    "pd.DataFrame({<br>\n",
    "'ord_no':[70001,70009,70002,70004,70007,70005,70008,70010,70003,70012,70011,70013],<br>\n",
    "'purch_amt':[150.5,270.65,65.26,110.5,948.5,2400.6,5760,1983.43,2480.4,250.45, 75.29,3045.6],<br>\n",
    "'ord_date': ['2012-10-05','2012-09-10','2012-10-05','2012-08-17','2012-09-10','2012-07-27','2012-09-10','2012-10-10','2012-10-10','2012-06-27','2012-08-17','2012-04-25'],<br>\n",
    "'customer_id':[3005,3001,3002,3009,3005,3007,3002,3004,3009,3008,3003,3002],<br>\n",
    "'salesman_id': [5002,5005,5001,5003,5002,5001,5001,5006,5003,5002,5007,5001]})<br>"
   ]
  },
  {
   "cell_type": "code",
   "execution_count": 14,
   "id": "401649cb",
   "metadata": {},
   "outputs": [
    {
     "name": "stdout",
     "output_type": "stream",
     "text": [
      "    ord_no  purch_amt    ord_date  customer_id  salesman_id\n",
      "0    70001     150.50  2012-10-05         3005         5002\n",
      "1    70009     270.65  2012-09-10         3001         5005\n",
      "2    70002      65.26  2012-10-05         3002         5001\n",
      "3    70004     110.50  2012-08-17         3009         5003\n",
      "4    70007     948.50  2012-09-10         3005         5002\n",
      "5    70005    2400.60  2012-07-27         3007         5001\n",
      "6    70008    5760.00  2012-09-10         3002         5001\n",
      "7    70010    1983.43  2012-10-10         3004         5006\n",
      "8    70003    2480.40  2012-10-10         3009         5003\n",
      "9    70012     250.45  2012-06-27         3008         5002\n",
      "10   70011      75.29  2012-08-17         3003         5007\n",
      "11   70013    3045.60  2012-04-25         3002         5001\n",
      "               purch_amt                  \n",
      "                    mean      min      max\n",
      "customer_id                               \n",
      "3001          270.650000   270.65   270.65\n",
      "3002         2956.953333    65.26  5760.00\n",
      "3003           75.290000    75.29    75.29\n",
      "3004         1983.430000  1983.43  1983.43\n",
      "3005          549.500000   150.50   948.50\n",
      "3007         2400.600000  2400.60  2400.60\n",
      "3008          250.450000   250.45   250.45\n",
      "3009         1295.450000   110.50  2480.40\n"
     ]
    }
   ],
   "source": [
    "df1 = pd.DataFrame({\n",
    "'ord_no':[70001,70009,70002,70004,70007,70005,70008,70010,70003,70012,70011,70013],\n",
    "'purch_amt':[150.5,270.65,65.26,110.5,948.5,2400.6,5760,1983.43,2480.4,250.45, 75.29,3045.6],\n",
    "'ord_date': ['2012-10-05','2012-09-10','2012-10-05','2012-08-17','2012-09-10','2012-07-27','2012-09-10','2012-10-10','2012-10-10','2012-06-27','2012-08-17','2012-04-25'],\n",
    "'customer_id':[3005,3001,3002,3009,3005,3007,3002,3004,3009,3008,3003,3002],\n",
    "'salesman_id': [5002,5005,5001,5003,5002,5001,5001,5006,5003,5002,5007,5001]})\n",
    "print(df1)\n",
    "result = df1.groupby('customer_id').agg({'purch_amt':['mean','min','max']})\n",
    "print(result)"
   ]
  },
  {
   "cell_type": "markdown",
   "id": "260bd5fd",
   "metadata": {},
   "source": [
    "2. Agrupe o Dataframe1 pelas colunas salesman_id e customer_id e conte as ocorrências de cada linha. "
   ]
  },
  {
   "cell_type": "code",
   "execution_count": 9,
   "id": "e60569ac",
   "metadata": {},
   "outputs": [
    {
     "data": {
      "text/html": [
       "<div>\n",
       "<style scoped>\n",
       "    .dataframe tbody tr th:only-of-type {\n",
       "        vertical-align: middle;\n",
       "    }\n",
       "\n",
       "    .dataframe tbody tr th {\n",
       "        vertical-align: top;\n",
       "    }\n",
       "\n",
       "    .dataframe thead th {\n",
       "        text-align: right;\n",
       "    }\n",
       "</style>\n",
       "<table border=\"1\" class=\"dataframe\">\n",
       "  <thead>\n",
       "    <tr style=\"text-align: right;\">\n",
       "      <th></th>\n",
       "      <th></th>\n",
       "      <th>0</th>\n",
       "    </tr>\n",
       "    <tr>\n",
       "      <th>salesman_id</th>\n",
       "      <th>customer_id</th>\n",
       "      <th></th>\n",
       "    </tr>\n",
       "  </thead>\n",
       "  <tbody>\n",
       "    <tr>\n",
       "      <th rowspan=\"2\" valign=\"top\">5001</th>\n",
       "      <th>3002</th>\n",
       "      <td>3</td>\n",
       "    </tr>\n",
       "    <tr>\n",
       "      <th>3007</th>\n",
       "      <td>1</td>\n",
       "    </tr>\n",
       "    <tr>\n",
       "      <th rowspan=\"2\" valign=\"top\">5002</th>\n",
       "      <th>3005</th>\n",
       "      <td>2</td>\n",
       "    </tr>\n",
       "    <tr>\n",
       "      <th>3008</th>\n",
       "      <td>1</td>\n",
       "    </tr>\n",
       "    <tr>\n",
       "      <th>5003</th>\n",
       "      <th>3009</th>\n",
       "      <td>2</td>\n",
       "    </tr>\n",
       "    <tr>\n",
       "      <th>5005</th>\n",
       "      <th>3001</th>\n",
       "      <td>1</td>\n",
       "    </tr>\n",
       "    <tr>\n",
       "      <th>5006</th>\n",
       "      <th>3004</th>\n",
       "      <td>1</td>\n",
       "    </tr>\n",
       "    <tr>\n",
       "      <th>5007</th>\n",
       "      <th>3003</th>\n",
       "      <td>1</td>\n",
       "    </tr>\n",
       "  </tbody>\n",
       "</table>\n",
       "</div>"
      ],
      "text/plain": [
       "                         0\n",
       "salesman_id customer_id   \n",
       "5001        3002         3\n",
       "            3007         1\n",
       "5002        3005         2\n",
       "            3008         1\n",
       "5003        3009         2\n",
       "5005        3001         1\n",
       "5006        3004         1\n",
       "5007        3003         1"
      ]
     },
     "execution_count": 9,
     "metadata": {},
     "output_type": "execute_result"
    }
   ],
   "source": [
    "result = df1.groupby(['salesman_id','customer_id']).size().reset_index().groupby(['salesman_id','customer_id'])[[0]].max()\n",
    "result"
   ]
  },
  {
   "cell_type": "code",
   "execution_count": 11,
   "id": "0e7c2154",
   "metadata": {},
   "outputs": [
    {
     "data": {
      "text/plain": [
       "salesman_id  customer_id\n",
       "5001         3002           3\n",
       "             3007           1\n",
       "5002         3005           2\n",
       "             3008           1\n",
       "5003         3009           2\n",
       "5005         3001           1\n",
       "5006         3004           1\n",
       "5007         3003           1\n",
       "Name: purch_amt, dtype: int64"
      ]
     },
     "execution_count": 11,
     "metadata": {},
     "output_type": "execute_result"
    }
   ],
   "source": [
    "df1.groupby(['salesman_id','customer_id'])['purch_amt'].count()"
   ]
  },
  {
   "cell_type": "markdown",
   "id": "bd96f15a",
   "metadata": {},
   "source": [
    "3. Agrupe o DataFrame1 por 'customer_id', 'salesman_id' e calcule a soma de purch_amt."
   ]
  },
  {
   "cell_type": "code",
   "execution_count": 15,
   "id": "c953327e",
   "metadata": {},
   "outputs": [
    {
     "data": {
      "text/html": [
       "<div>\n",
       "<style scoped>\n",
       "    .dataframe tbody tr th:only-of-type {\n",
       "        vertical-align: middle;\n",
       "    }\n",
       "\n",
       "    .dataframe tbody tr th {\n",
       "        vertical-align: top;\n",
       "    }\n",
       "\n",
       "    .dataframe thead th {\n",
       "        text-align: right;\n",
       "    }\n",
       "</style>\n",
       "<table border=\"1\" class=\"dataframe\">\n",
       "  <thead>\n",
       "    <tr style=\"text-align: right;\">\n",
       "      <th></th>\n",
       "      <th></th>\n",
       "      <th>purch_amt</th>\n",
       "    </tr>\n",
       "    <tr>\n",
       "      <th>customer_id</th>\n",
       "      <th>salesman_id</th>\n",
       "      <th></th>\n",
       "    </tr>\n",
       "  </thead>\n",
       "  <tbody>\n",
       "    <tr>\n",
       "      <th>3001</th>\n",
       "      <th>5005</th>\n",
       "      <td>270.65</td>\n",
       "    </tr>\n",
       "    <tr>\n",
       "      <th>3002</th>\n",
       "      <th>5001</th>\n",
       "      <td>8870.86</td>\n",
       "    </tr>\n",
       "    <tr>\n",
       "      <th>3003</th>\n",
       "      <th>5007</th>\n",
       "      <td>75.29</td>\n",
       "    </tr>\n",
       "    <tr>\n",
       "      <th>3004</th>\n",
       "      <th>5006</th>\n",
       "      <td>1983.43</td>\n",
       "    </tr>\n",
       "    <tr>\n",
       "      <th>3005</th>\n",
       "      <th>5002</th>\n",
       "      <td>1099.00</td>\n",
       "    </tr>\n",
       "    <tr>\n",
       "      <th>3007</th>\n",
       "      <th>5001</th>\n",
       "      <td>2400.60</td>\n",
       "    </tr>\n",
       "    <tr>\n",
       "      <th>3008</th>\n",
       "      <th>5002</th>\n",
       "      <td>250.45</td>\n",
       "    </tr>\n",
       "    <tr>\n",
       "      <th>3009</th>\n",
       "      <th>5003</th>\n",
       "      <td>2590.90</td>\n",
       "    </tr>\n",
       "  </tbody>\n",
       "</table>\n",
       "</div>"
      ],
      "text/plain": [
       "                         purch_amt\n",
       "customer_id salesman_id           \n",
       "3001        5005            270.65\n",
       "3002        5001           8870.86\n",
       "3003        5007             75.29\n",
       "3004        5006           1983.43\n",
       "3005        5002           1099.00\n",
       "3007        5001           2400.60\n",
       "3008        5002            250.45\n",
       "3009        5003           2590.90"
      ]
     },
     "execution_count": 15,
     "metadata": {},
     "output_type": "execute_result"
    }
   ],
   "source": [
    "df1_agg = df1.groupby(['customer_id','salesman_id']).agg({'purch_amt': sum})\n",
    "df1_agg"
   ]
  },
  {
   "cell_type": "markdown",
   "id": "31145f6d",
   "metadata": {},
   "source": [
    "4. Agrupe o DataFrame1 com base no ID do cliente e crie uma lista de datas de pedido para cada grupo. "
   ]
  },
  {
   "cell_type": "code",
   "execution_count": 16,
   "id": "f2fa7de1",
   "metadata": {
    "scrolled": true
   },
   "outputs": [
    {
     "name": "stdout",
     "output_type": "stream",
     "text": [
      "customer_id\n",
      "3001                            [2012-09-10]\n",
      "3002    [2012-10-05, 2012-09-10, 2012-04-25]\n",
      "3003                            [2012-08-17]\n",
      "3004                            [2012-10-10]\n",
      "3005                [2012-10-05, 2012-09-10]\n",
      "3007                            [2012-07-27]\n",
      "3008                            [2012-06-27]\n",
      "3009                [2012-08-17, 2012-10-10]\n",
      "Name: ord_date, dtype: object\n"
     ]
    }
   ],
   "source": [
    "result = df1.groupby('customer_id')['ord_date'].apply(list)\n",
    "print(result)"
   ]
  },
  {
   "cell_type": "markdown",
   "id": "fda839df",
   "metadata": {},
   "source": [
    "5. Agrupe o DataFrame1 para calcular o valor da compra mensal. "
   ]
  },
  {
   "cell_type": "code",
   "execution_count": 17,
   "id": "6012ece2",
   "metadata": {},
   "outputs": [
    {
     "name": "stdout",
     "output_type": "stream",
     "text": [
      "            purch_amt\n",
      "ord_date             \n",
      "2012-04-30    3045.60\n",
      "2012-05-31       0.00\n",
      "2012-06-30     250.45\n",
      "2012-07-31    2400.60\n",
      "2012-08-31     185.79\n",
      "2012-09-30    6979.15\n",
      "2012-10-31    4679.59\n"
     ]
    }
   ],
   "source": [
    "df1['ord_date'] = pd.to_datetime(df1['ord_date'])\n",
    "result = df1.set_index('ord_date').groupby(pd.Grouper(freq='M')).agg({'purch_amt':sum})\n",
    "print(result)"
   ]
  },
  {
   "cell_type": "markdown",
   "id": "9113e7f7",
   "metadata": {},
   "source": [
    "6. Agrupe o DataFrame1 por mês e ano com base na data do pedido e encontre o valor total da compra por ano, por mês. "
   ]
  },
  {
   "cell_type": "code",
   "execution_count": 18,
   "id": "202a2639",
   "metadata": {},
   "outputs": [
    {
     "name": "stdout",
     "output_type": "stream",
     "text": [
      "                   purch_amt\n",
      "ord_date ord_date           \n",
      "2012     4           3045.60\n",
      "         6            250.45\n",
      "         7           2400.60\n",
      "         8            185.79\n",
      "         9           6979.15\n",
      "         10          4679.59\n"
     ]
    }
   ],
   "source": [
    "result = df1.groupby([df1['ord_date'].dt.year, df1['ord_date'].dt.month]).agg({'purch_amt':sum})\n",
    "print(result)"
   ]
  },
  {
   "cell_type": "code",
   "execution_count": null,
   "id": "d75416f8",
   "metadata": {},
   "outputs": [],
   "source": []
  }
 ],
 "metadata": {
  "kernelspec": {
   "display_name": "Python 3 (ipykernel)",
   "language": "python",
   "name": "python3"
  },
  "language_info": {
   "codemirror_mode": {
    "name": "ipython",
    "version": 3
   },
   "file_extension": ".py",
   "mimetype": "text/x-python",
   "name": "python",
   "nbconvert_exporter": "python",
   "pygments_lexer": "ipython3",
   "version": "3.9.13"
  }
 },
 "nbformat": 4,
 "nbformat_minor": 5
}
