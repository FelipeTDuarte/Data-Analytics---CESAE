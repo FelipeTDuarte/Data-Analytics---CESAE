{
 "cells": [
  {
   "cell_type": "markdown",
   "id": "6d2479e5",
   "metadata": {},
   "source": [
    "# NumPy Indexação e Seleção - Exercícios"
   ]
  },
  {
   "cell_type": "code",
   "execution_count": 1,
   "id": "e5902cfa",
   "metadata": {},
   "outputs": [],
   "source": [
    "import numpy as np"
   ]
  },
  {
   "cell_type": "markdown",
   "id": "d57048da",
   "metadata": {},
   "source": [
    "#### Repita o output apresentado a partir de mat:"
   ]
  },
  {
   "cell_type": "markdown",
   "id": "7fcba532",
   "metadata": {},
   "source": [
    "##### 1 -   mat=\n",
    ">       array(\n",
    ">           [[ 1,  2,  3,  4,  5],\n",
    ">           [ 6,  7,  8,  9, 10],\n",
    ">           [11, 12, 13, 14, 15],\n",
    ">           [16, 17, 18, 19, 20],\n",
    ">           [21, 22, 23, 24, 25]])\n"
   ]
  },
  {
   "cell_type": "code",
   "execution_count": 3,
   "id": "d4757a62",
   "metadata": {},
   "outputs": [
    {
     "data": {
      "text/plain": [
       "array([[ 1,  2,  3,  4,  5],\n",
       "       [ 6,  7,  8,  9, 10],\n",
       "       [11, 12, 13, 14, 15],\n",
       "       [16, 17, 18, 19, 20],\n",
       "       [21, 22, 23, 24, 25]])"
      ]
     },
     "execution_count": 3,
     "metadata": {},
     "output_type": "execute_result"
    }
   ],
   "source": [
    "mat = np.arange(1,26).reshape(5,5)\n",
    "mat"
   ]
  },
  {
   "cell_type": "markdown",
   "id": "7456a588",
   "metadata": {},
   "source": [
    "##### 2 -   \n",
    ">       array(\n",
    ">        [[12, 13, 14, 15],\n",
    ">        [17, 18, 19, 20],\n",
    ">        [22, 23, 24, 25]])\n"
   ]
  },
  {
   "cell_type": "code",
   "execution_count": 4,
   "id": "2a5050c7",
   "metadata": {},
   "outputs": [
    {
     "data": {
      "text/plain": [
       "array([[12, 13, 14, 15],\n",
       "       [17, 18, 19, 20],\n",
       "       [22, 23, 24, 25]])"
      ]
     },
     "execution_count": 4,
     "metadata": {},
     "output_type": "execute_result"
    }
   ],
   "source": [
    "mat[2:,1:]"
   ]
  },
  {
   "cell_type": "markdown",
   "id": "8b17c992",
   "metadata": {},
   "source": [
    "##### 3 -   20"
   ]
  },
  {
   "cell_type": "code",
   "execution_count": 5,
   "id": "2de62c53",
   "metadata": {},
   "outputs": [
    {
     "data": {
      "text/plain": [
       "20"
      ]
     },
     "execution_count": 5,
     "metadata": {},
     "output_type": "execute_result"
    }
   ],
   "source": [
    "mat[3,4]"
   ]
  },
  {
   "cell_type": "markdown",
   "id": "16a77d49",
   "metadata": {},
   "source": [
    "##### 4 -   \n",
    ">       array(\n",
    ">           [[ 2],\n",
    ">           [ 7],\n",
    ">           [12]])"
   ]
  },
  {
   "cell_type": "code",
   "execution_count": 7,
   "id": "0cfdffca",
   "metadata": {},
   "outputs": [
    {
     "data": {
      "text/plain": [
       "array([[ 2],\n",
       "       [ 7],\n",
       "       [12]])"
      ]
     },
     "execution_count": 7,
     "metadata": {},
     "output_type": "execute_result"
    }
   ],
   "source": [
    "mat[:3,1:2]"
   ]
  },
  {
   "cell_type": "markdown",
   "id": "22d71fc5",
   "metadata": {},
   "source": [
    "##### 5 -   array([21, 22, 23, 24, 25])"
   ]
  },
  {
   "cell_type": "code",
   "execution_count": 9,
   "id": "7189bb2b",
   "metadata": {},
   "outputs": [
    {
     "data": {
      "text/plain": [
       "array([[21, 22, 23, 24, 25]])"
      ]
     },
     "execution_count": 9,
     "metadata": {},
     "output_type": "execute_result"
    }
   ],
   "source": [
    "mat[4:,0:]"
   ]
  },
  {
   "cell_type": "code",
   "execution_count": 10,
   "id": "e9d84489",
   "metadata": {},
   "outputs": [
    {
     "data": {
      "text/plain": [
       "array([21, 22, 23, 24, 25])"
      ]
     },
     "execution_count": 10,
     "metadata": {},
     "output_type": "execute_result"
    }
   ],
   "source": [
    "mat[4,:]"
   ]
  },
  {
   "cell_type": "code",
   "execution_count": 11,
   "id": "46640cfd",
   "metadata": {},
   "outputs": [
    {
     "data": {
      "text/plain": [
       "array([21, 22, 23, 24, 25])"
      ]
     },
     "execution_count": 11,
     "metadata": {},
     "output_type": "execute_result"
    }
   ],
   "source": [
    "mat[4]"
   ]
  },
  {
   "cell_type": "markdown",
   "id": "22eafa63",
   "metadata": {},
   "source": [
    "##### 6 -   \n",
    ">           array([[16, 17, 18, 19, 20],\n",
    ">          [21, 22, 23, 24, 25]])"
   ]
  },
  {
   "cell_type": "code",
   "execution_count": 16,
   "id": "6d86c894",
   "metadata": {},
   "outputs": [
    {
     "data": {
      "text/plain": [
       "array([[16, 17, 18, 19, 20],\n",
       "       [21, 22, 23, 24, 25]])"
      ]
     },
     "execution_count": 16,
     "metadata": {},
     "output_type": "execute_result"
    }
   ],
   "source": [
    "mat[3:5]"
   ]
  },
  {
   "cell_type": "code",
   "execution_count": null,
   "id": "23ca9c0a",
   "metadata": {},
   "outputs": [],
   "source": []
  }
 ],
 "metadata": {
  "kernelspec": {
   "display_name": "Python 3 (ipykernel)",
   "language": "python",
   "name": "python3"
  },
  "language_info": {
   "codemirror_mode": {
    "name": "ipython",
    "version": 3
   },
   "file_extension": ".py",
   "mimetype": "text/x-python",
   "name": "python",
   "nbconvert_exporter": "python",
   "pygments_lexer": "ipython3",
   "version": "3.9.13"
  }
 },
 "nbformat": 4,
 "nbformat_minor": 5
}
