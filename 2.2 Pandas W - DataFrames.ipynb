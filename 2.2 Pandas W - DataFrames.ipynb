{
 "cells": [
  {
   "cell_type": "markdown",
   "id": "091c0257",
   "metadata": {},
   "source": [
    "# 2.2 Pandas - DataFrames"
   ]
  },
  {
   "cell_type": "code",
   "execution_count": 1,
   "id": "0ea654ba",
   "metadata": {},
   "outputs": [],
   "source": [
    "import pandas as pd\n",
    "import numpy as np"
   ]
  },
  {
   "cell_type": "markdown",
   "id": "d90de477",
   "metadata": {},
   "source": [
    "#### 1. Obtenha um dataframe das seguintes séries <br>\n",
    "Dados de amostra: {'X':[78,85,96,80,86], 'Y':[84,94,89,83,86],'Z':[86,97,96,72,83 ]}<br>\n"
   ]
  },
  {
   "cell_type": "code",
   "execution_count": 2,
   "id": "769309a5",
   "metadata": {},
   "outputs": [
    {
     "name": "stdout",
     "output_type": "stream",
     "text": [
      "    X   Y   Z\n",
      "0  78  84  86\n",
      "1  85  94  97\n",
      "2  96  89  96\n",
      "3  80  83  72\n",
      "4  86  86  83\n"
     ]
    }
   ],
   "source": [
    "df = pd.DataFrame({'X':[78,85,96,80,86], 'Y':[84,94,89,83,86],'Z':[86,97,96,72,83]});\n",
    "print(df)"
   ]
  },
  {
   "cell_type": "markdown",
   "id": "16d90480",
   "metadata": {},
   "source": [
    "####  2. Itere sobre as linhas do DataFrame12. <br>\n",
    "dataframe12 = [{'nome':'Anastasia', 'pontuação':12.5}, {'nome':'Dima','pontuação':9}, {'nome':'Katherine','pontuação':16.5} ]<br>"
   ]
  },
  {
   "cell_type": "code",
   "execution_count": 3,
   "id": "94e22cf4",
   "metadata": {},
   "outputs": [
    {
     "name": "stdout",
     "output_type": "stream",
     "text": [
      "        nome  pontuação\n",
      "0  Anastasia       12.5\n",
      "1       Dima        9.0\n",
      "2  Katherine       16.5\n",
      "Anastasia 12.5\n",
      "Dima 9.0\n",
      "Katherine 16.5\n"
     ]
    }
   ],
   "source": [
    "dataframe12 = pd.DataFrame([{'nome':'Anastasia', 'pontuação':12.5}, {'nome':'Dima','pontuação':9}, {'nome':'Katherine','pontuação':16.5} ])\n",
    "print(dataframe12)\n",
    "for index, row in dataframe12.iterrows():\n",
    "    print(row['nome'], row['pontuação'])"
   ]
  },
  {
   "cell_type": "markdown",
   "id": "a787e67b",
   "metadata": {},
   "source": [
    "#### 3. Renomeie as colunas do DataFrame3 para coluna1, coluna2 e coluna2. <br>\n",
    "DataFrame3 <br>\n",
    "col1 col2 col3<br>\n",
    "0 1 4 7<br>\n",
    "1 4 5 8<br>\n",
    "2 3 6 9<br>\n",
    "3 4 7 0<br>\n",
    "4 5 8 1<br>"
   ]
  },
  {
   "cell_type": "code",
   "execution_count": 4,
   "id": "10b3413d",
   "metadata": {},
   "outputs": [
    {
     "data": {
      "text/html": [
       "<div>\n",
       "<style scoped>\n",
       "    .dataframe tbody tr th:only-of-type {\n",
       "        vertical-align: middle;\n",
       "    }\n",
       "\n",
       "    .dataframe tbody tr th {\n",
       "        vertical-align: top;\n",
       "    }\n",
       "\n",
       "    .dataframe thead th {\n",
       "        text-align: right;\n",
       "    }\n",
       "</style>\n",
       "<table border=\"1\" class=\"dataframe\">\n",
       "  <thead>\n",
       "    <tr style=\"text-align: right;\">\n",
       "      <th></th>\n",
       "      <th>col1</th>\n",
       "      <th>col2</th>\n",
       "      <th>col3</th>\n",
       "    </tr>\n",
       "  </thead>\n",
       "  <tbody>\n",
       "    <tr>\n",
       "      <th>0</th>\n",
       "      <td>1</td>\n",
       "      <td>4</td>\n",
       "      <td>7</td>\n",
       "    </tr>\n",
       "    <tr>\n",
       "      <th>1</th>\n",
       "      <td>4</td>\n",
       "      <td>5</td>\n",
       "      <td>8</td>\n",
       "    </tr>\n",
       "    <tr>\n",
       "      <th>2</th>\n",
       "      <td>3</td>\n",
       "      <td>6</td>\n",
       "      <td>9</td>\n",
       "    </tr>\n",
       "    <tr>\n",
       "      <th>3</th>\n",
       "      <td>4</td>\n",
       "      <td>7</td>\n",
       "      <td>0</td>\n",
       "    </tr>\n",
       "    <tr>\n",
       "      <th>4</th>\n",
       "      <td>5</td>\n",
       "      <td>8</td>\n",
       "      <td>1</td>\n",
       "    </tr>\n",
       "  </tbody>\n",
       "</table>\n",
       "</div>"
      ],
      "text/plain": [
       "   col1  col2  col3\n",
       "0     1     4     7\n",
       "1     4     5     8\n",
       "2     3     6     9\n",
       "3     4     7     0\n",
       "4     5     8     1"
      ]
     },
     "execution_count": 4,
     "metadata": {},
     "output_type": "execute_result"
    }
   ],
   "source": [
    "dataframe3 = {'col1': [1, 4, 3, 4, 5], 'col2': [4, 5, 6, 7, 8], 'col3': [7, 8, 9, 0, 1]}\n",
    "df3 = pd.DataFrame(data=dataframe3)\n",
    "df3"
   ]
  },
  {
   "cell_type": "markdown",
   "id": "b4ec54e0",
   "metadata": {},
   "source": [
    "#### 4. Selecione linhas do DataFrame3 com base nos valores de algumas colunas. <br>\n",
    "Linhas para valor de colum1 == 4<br>"
   ]
  },
  {
   "cell_type": "code",
   "execution_count": 5,
   "id": "42e3c21d",
   "metadata": {},
   "outputs": [
    {
     "name": "stdout",
     "output_type": "stream",
     "text": [
      "   col1  col2  col3\n",
      "1     4     5     8\n",
      "3     4     7     0\n"
     ]
    }
   ],
   "source": [
    "print(df3.loc[df3['col1'] == 4])"
   ]
  },
  {
   "cell_type": "markdown",
   "id": "322c8d6e",
   "metadata": {},
   "source": [
    "#### 5. Altere a ordem das colunas do DataFrame3.<br>\n",
    "alterar col1 e col3<br>"
   ]
  },
  {
   "cell_type": "code",
   "execution_count": 6,
   "id": "a0db9f9c",
   "metadata": {},
   "outputs": [
    {
     "name": "stdout",
     "output_type": "stream",
     "text": [
      "   col3  col2  col1\n",
      "0     7     4     1\n",
      "1     8     5     4\n",
      "2     9     6     3\n",
      "3     0     7     4\n",
      "4     1     8     5\n"
     ]
    }
   ],
   "source": [
    "df3 = df3[['col3', 'col2', 'col1']]\n",
    "print(df3)"
   ]
  },
  {
   "cell_type": "markdown",
   "id": "7d9bfb31",
   "metadata": {},
   "source": [
    "#### 6. Adicione a linha 10,11,12 ao DataFrame3. <br>"
   ]
  },
  {
   "cell_type": "code",
   "execution_count": 7,
   "id": "743c7845",
   "metadata": {},
   "outputs": [
    {
     "name": "stdout",
     "output_type": "stream",
     "text": [
      "   col3  col2  col1\n",
      "0     7     4     1\n",
      "1     8     5     4\n",
      "2     9     6     3\n",
      "3     0     7     4\n",
      "4     1     8     5\n",
      "5    12    11    10\n"
     ]
    }
   ],
   "source": [
    "df2 = {'col1': 10, 'col2': 11, 'col3': 12}\n",
    "df2 = pd.DataFrame(data = df2, index = [0])\n",
    "df = pd.concat([df3,df2], ignore_index=True)\n",
    "print(df)"
   ]
  },
  {
   "cell_type": "markdown",
   "id": "0b2f4532",
   "metadata": {},
   "source": [
    "#### 7. Grave DataFrame3 num arquivo CSV usando separador de tabulação ';'.<br>"
   ]
  },
  {
   "cell_type": "code",
   "execution_count": 8,
   "id": "c74c67d0",
   "metadata": {},
   "outputs": [
    {
     "name": "stdout",
     "output_type": "stream",
     "text": [
      "  col3;col2;col1\n",
      "0          7;4;1\n",
      "1          8;5;4\n",
      "2          9;6;3\n",
      "3          0;7;4\n",
      "4          1;8;5\n"
     ]
    }
   ],
   "source": [
    "df3.to_csv('new_file.csv', sep=';', index=False)\n",
    "new_df = pd.read_csv('new_file.csv')\n",
    "print(new_df)"
   ]
  },
  {
   "cell_type": "markdown",
   "id": "e1f23e59",
   "metadata": {},
   "source": [
    "#### 8. Conte o número de pessoas por cidade do seguinte DataFrame. <br>\n"
   ]
  },
  {
   "cell_type": "code",
   "execution_count": 9,
   "id": "a82b7aae",
   "metadata": {},
   "outputs": [
    {
     "data": {
      "text/html": [
       "<div>\n",
       "<style scoped>\n",
       "    .dataframe tbody tr th:only-of-type {\n",
       "        vertical-align: middle;\n",
       "    }\n",
       "\n",
       "    .dataframe tbody tr th {\n",
       "        vertical-align: top;\n",
       "    }\n",
       "\n",
       "    .dataframe thead th {\n",
       "        text-align: right;\n",
       "    }\n",
       "</style>\n",
       "<table border=\"1\" class=\"dataframe\">\n",
       "  <thead>\n",
       "    <tr style=\"text-align: right;\">\n",
       "      <th></th>\n",
       "      <th>name</th>\n",
       "      <th>city</th>\n",
       "    </tr>\n",
       "  </thead>\n",
       "  <tbody>\n",
       "    <tr>\n",
       "      <th>0</th>\n",
       "      <td>Anastasia</td>\n",
       "      <td>California</td>\n",
       "    </tr>\n",
       "    <tr>\n",
       "      <th>1</th>\n",
       "      <td>Dima</td>\n",
       "      <td>Los Angeles</td>\n",
       "    </tr>\n",
       "    <tr>\n",
       "      <th>2</th>\n",
       "      <td>Katherine</td>\n",
       "      <td>California</td>\n",
       "    </tr>\n",
       "    <tr>\n",
       "      <th>3</th>\n",
       "      <td>James</td>\n",
       "      <td>California</td>\n",
       "    </tr>\n",
       "    <tr>\n",
       "      <th>4</th>\n",
       "      <td>Emily</td>\n",
       "      <td>California</td>\n",
       "    </tr>\n",
       "    <tr>\n",
       "      <th>5</th>\n",
       "      <td>Michael</td>\n",
       "      <td>Los Angeles</td>\n",
       "    </tr>\n",
       "    <tr>\n",
       "      <th>6</th>\n",
       "      <td>Matthew</td>\n",
       "      <td>Los Angeles</td>\n",
       "    </tr>\n",
       "    <tr>\n",
       "      <th>7</th>\n",
       "      <td>Laura</td>\n",
       "      <td>Georgia</td>\n",
       "    </tr>\n",
       "    <tr>\n",
       "      <th>8</th>\n",
       "      <td>Kevin</td>\n",
       "      <td>Georgia</td>\n",
       "    </tr>\n",
       "    <tr>\n",
       "      <th>9</th>\n",
       "      <td>Jonas</td>\n",
       "      <td>Los Angeles</td>\n",
       "    </tr>\n",
       "  </tbody>\n",
       "</table>\n",
       "</div>"
      ],
      "text/plain": [
       "        name         city\n",
       "0  Anastasia   California\n",
       "1       Dima  Los Angeles\n",
       "2  Katherine   California\n",
       "3      James   California\n",
       "4      Emily   California\n",
       "5    Michael  Los Angeles\n",
       "6    Matthew  Los Angeles\n",
       "7      Laura      Georgia\n",
       "8      Kevin      Georgia\n",
       "9      Jonas  Los Angeles"
      ]
     },
     "execution_count": 9,
     "metadata": {},
     "output_type": "execute_result"
    }
   ],
   "source": [
    "df1 = pd.DataFrame({'name': ['Anastasia', 'Dima', 'Katherine', 'James', 'Emily', 'Michael', 'Matthew', 'Laura', 'Kevin', 'Jonas'],\n",
    "'city': ['California', 'Los Angeles', 'California', 'California', 'California', 'Los Angeles', 'Los Angeles', 'Georgia', 'Georgia', 'Los Angeles']})\n",
    "df1"
   ]
  },
  {
   "cell_type": "code",
   "execution_count": 10,
   "id": "fe27d81d",
   "metadata": {},
   "outputs": [
    {
     "name": "stdout",
     "output_type": "stream",
     "text": [
      "          city  Number of people\n",
      "0   California                 4\n",
      "1      Georgia                 2\n",
      "2  Los Angeles                 4\n"
     ]
    }
   ],
   "source": [
    "g1 = df1.groupby([\"city\"]).size().reset_index(name='Number of people')\n",
    "print(g1)"
   ]
  },
  {
   "cell_type": "markdown",
   "id": "bb780459",
   "metadata": {},
   "source": [
    "#### 9. Exclua a(s) linha(s) do DataFrame3 onde a col2 é diferente de 5 <br>"
   ]
  },
  {
   "cell_type": "code",
   "execution_count": 11,
   "id": "f246b911",
   "metadata": {},
   "outputs": [
    {
     "name": "stdout",
     "output_type": "stream",
     "text": [
      "   col3  col2  col1\n",
      "0     7     4     1\n",
      "1     8     5     4\n",
      "2     9     6     3\n",
      "3     0     7     4\n",
      "4     1     8     5\n",
      "Novo DataFrame\n",
      "   col3  col2  col1\n",
      "0     7     4     1\n",
      "2     9     6     3\n",
      "3     0     7     4\n",
      "4     1     8     5\n"
     ]
    }
   ],
   "source": [
    "print(df3)\n",
    "dfn = df3[df3.col2 != 5]\n",
    "print(\"Novo DataFrame\")\n",
    "print(dfn)"
   ]
  },
  {
   "cell_type": "markdown",
   "id": "7c00b116",
   "metadata": {},
   "source": [
    "#### 10. Selecione uma linha do DataFrame3 pelo índice 2. "
   ]
  },
  {
   "cell_type": "code",
   "execution_count": 12,
   "id": "f9e3740a",
   "metadata": {},
   "outputs": [
    {
     "name": "stdout",
     "output_type": "stream",
     "text": [
      "   col3  col2  col1\n",
      "2     9     6     3\n"
     ]
    }
   ],
   "source": [
    "result = df.iloc[[2]]\n",
    "print(result)"
   ]
  },
  {
   "cell_type": "markdown",
   "id": "de6562fc",
   "metadata": {},
   "source": [
    "#### 11. Defina o valor 5 para a célula da 3ª linha da coluna col3 no DataFrame3. "
   ]
  },
  {
   "cell_type": "code",
   "execution_count": 13,
   "id": "6b2b4018",
   "metadata": {},
   "outputs": [
    {
     "name": "stdout",
     "output_type": "stream",
     "text": [
      "   col3  col2  col1\n",
      "0     7     4     1\n",
      "1     8     5     4\n",
      "2     9     5     3\n",
      "3     0     7     4\n",
      "4     1     8     5\n"
     ]
    }
   ],
   "source": [
    "df3.loc[2, 'col2'] = 5\n",
    "print(df3)"
   ]
  },
  {
   "cell_type": "markdown",
   "id": "975d8f4a",
   "metadata": {},
   "source": [
    "#### 12. Remova a 2ª e 4ª linhas do DataFrame3. "
   ]
  },
  {
   "cell_type": "code",
   "execution_count": 14,
   "id": "23b261eb",
   "metadata": {
    "scrolled": true
   },
   "outputs": [
    {
     "name": "stdout",
     "output_type": "stream",
     "text": [
      "   col3  col2  col1\n",
      "0     7     4     1\n",
      "2     9     6     3\n",
      "4     1     8     5\n",
      "5    12    11    10\n"
     ]
    }
   ],
   "source": [
    "df = df.drop(df.index[[1,3]])\n",
    "print(df)"
   ]
  },
  {
   "cell_type": "markdown",
   "id": "db629360",
   "metadata": {},
   "source": [
    "#### 13. Divida o seguinte DataFrame4 em 70% e depois em 30%.<br>\n",
    "DataFrame4: crie um dataframe com duas colunas com 10 valores aleatórios na distribuição normal "
   ]
  },
  {
   "cell_type": "code",
   "execution_count": 15,
   "id": "f188edd9",
   "metadata": {},
   "outputs": [
    {
     "name": "stdout",
     "output_type": "stream",
     "text": [
      "DataFrame4:\n",
      "          0         1\n",
      "0 -1.026700 -1.158496\n",
      "1 -1.079828 -0.081650\n",
      "2  0.367142 -0.634753\n",
      "3 -1.096593  0.186709\n",
      "4  2.230456  0.496005\n",
      "5  1.375854 -1.084881\n",
      "6 -0.705902  1.120712\n",
      "7  0.519142  0.029895\n",
      "8 -0.809253  1.482071\n",
      "9  1.236987 -1.772815\n",
      "\n",
      "70%:\n",
      "          0         1\n",
      "8 -0.809253  1.482071\n",
      "2  0.367142 -0.634753\n",
      "5  1.375854 -1.084881\n",
      "6 -0.705902  1.120712\n",
      "3 -1.096593  0.186709\n",
      "1 -1.079828 -0.081650\n",
      "0 -1.026700 -1.158496\n",
      "\n",
      "30%:\n",
      "          0         1\n",
      "4  2.230456  0.496005\n",
      "7  0.519142  0.029895\n",
      "9  1.236987 -1.772815\n"
     ]
    }
   ],
   "source": [
    "df4 = pd.DataFrame(np.random.randn(10, 2))\n",
    "print(\"DataFrame4:\")\n",
    "print(df4)\n",
    "part_70 = df4.sample(frac=0.7,random_state=10)\n",
    "part_30 = df4.drop(part_70.index)\n",
    "print(\"\\n70%:\")\n",
    "print(part_70)\n",
    "print(\"\\n30%:\")\n",
    "print(part_30)"
   ]
  },
  {
   "cell_type": "markdown",
   "id": "745fd144",
   "metadata": {},
   "source": [
    "#### 14. Combine duas séries num DataFrame5. <br>\n",
    "\n",
    "s1: <br>\n",
    "0 100<br>\n",
    "1 200<br>\n",
    "2 python<br>\n",
    "3 300,12<br>\n",
    "4 400<br>\n",
    "<br>\n",
    "s2:<br>\n",
    "0 10<br>\n",
    "1 20<br>\n",
    "2 php<br>\n",
    "3 30,12<br>\n",
    "4 40<br>"
   ]
  },
  {
   "cell_type": "code",
   "execution_count": 16,
   "id": "cd991043",
   "metadata": {},
   "outputs": [
    {
     "name": "stdout",
     "output_type": "stream",
     "text": [
      "0       100\n",
      "1       200\n",
      "2    python\n",
      "3    300.12\n",
      "4       400\n",
      "dtype: object\n",
      "0       10\n",
      "1       20\n",
      "2      php\n",
      "3    30.12\n",
      "4       40\n",
      "dtype: object\n",
      "Novo dataframe:\n",
      "        0      1\n",
      "0     100     10\n",
      "1     200     20\n",
      "2  python    php\n",
      "3  300.12  30.12\n",
      "4     400     40\n"
     ]
    }
   ],
   "source": [
    "s1 = pd.Series(['100', '200', 'python', '300.12', '400'])\n",
    "s2 = pd.Series(['10', '20', 'php', '30.12', '40'])\n",
    "print(s1)\n",
    "print(s2)\n",
    "df5 = pd.concat([s1, s2], axis=1)\n",
    "print(\"Novo dataframe:\")\n",
    "print(df5)\n"
   ]
  },
  {
   "cell_type": "markdown",
   "id": "5ead3326",
   "metadata": {},
   "source": [
    "#### 15. Baralhe algumas linhas do DataFrame5. "
   ]
  },
  {
   "cell_type": "code",
   "execution_count": 17,
   "id": "a0b4c57a",
   "metadata": {},
   "outputs": [
    {
     "name": "stdout",
     "output_type": "stream",
     "text": [
      "        0      1\n",
      "1     200     20\n",
      "0     100     10\n",
      "2  python    php\n",
      "3  300.12  30.12\n",
      "4     400     40\n"
     ]
    }
   ],
   "source": [
    "df5 = df5.sample(frac=1)\n",
    "print(df5)"
   ]
  },
  {
   "cell_type": "markdown",
   "id": "7bfbe4ab",
   "metadata": {},
   "source": [
    "#### 16. Converta o tipo de coluna do DataFrame6 de string para datetime.<br>\n",
    "DataFrame6<br>\n",
    "03/11/2000<br>\n",
    "1 3/12/2000<br>\n",
    "2 3/13/2000<br>\n",
    "dtype: objeto<br>"
   ]
  },
  {
   "cell_type": "code",
   "execution_count": 18,
   "id": "2f1c464b",
   "metadata": {},
   "outputs": [
    {
     "name": "stdout",
     "output_type": "stream",
     "text": [
      "0    3/11/2000\n",
      "1    3/12/2000\n",
      "2    3/13/2000\n",
      "dtype: object\n",
      "           0\n",
      "0 2000-03-11\n",
      "1 2000-03-12\n",
      "2 2000-03-13\n"
     ]
    }
   ],
   "source": [
    "s = pd.Series(['3/11/2000', '3/12/2000', '3/13/2000'])\n",
    "print(s)\n",
    "r = pd.to_datetime(pd.Series(s))\n",
    "df6 = pd.DataFrame(r)\n",
    "print(df6)"
   ]
  },
  {
   "cell_type": "markdown",
   "id": "277e9836",
   "metadata": {},
   "source": [
    "#### 17.  Renomeie o nome da col2 para Column2 do dataframe7. <br>\n",
    "DataFrame7 <br>\n",
    "col1 col2 col3<br>\n",
    "0 1 4 7<br>\n",
    "1 2 5 8<br>\n",
    "2 3 6 9<br>"
   ]
  },
  {
   "cell_type": "code",
   "execution_count": 19,
   "id": "8a9d231f",
   "metadata": {},
   "outputs": [
    {
     "name": "stdout",
     "output_type": "stream",
     "text": [
      "DataFrame Original\n",
      "   col1  col2  col3\n",
      "0     1     4     7\n",
      "1     2     5     8\n",
      "2     3     6     9\n",
      "\n",
      "Novo DataFrame\n",
      "   col1  Coluna2  col3\n",
      "0     1        4     7\n",
      "1     2        5     8\n",
      "2     3        6     9\n"
     ]
    }
   ],
   "source": [
    "d = {'col1': [1, 2, 3], 'col2': [4, 5, 6], 'col3': [7, 8, 9]}\n",
    "df7 = pd.DataFrame(data=d)\n",
    "print(\"DataFrame Original\")\n",
    "print(df7)\n",
    "df7=df7.rename(columns = {'col2':'Coluna2'})\n",
    "print(\"\\nNovo DataFrame\")\n",
    "print(df7)"
   ]
  },
  {
   "cell_type": "markdown",
   "id": "aea25249",
   "metadata": {},
   "source": [
    "#### 18.  Obtenha uma lista dos elementos da Coluna2 do dataframe7 <br>"
   ]
  },
  {
   "cell_type": "code",
   "execution_count": 20,
   "id": "d7235208",
   "metadata": {},
   "outputs": [
    {
     "name": "stdout",
     "output_type": "stream",
     "text": [
      "[4, 5, 6]\n"
     ]
    }
   ],
   "source": [
    "col2_list = df7[\"Coluna2\"].tolist()\n",
    "print(col2_list)"
   ]
  },
  {
   "cell_type": "markdown",
   "id": "022030c4",
   "metadata": {},
   "source": [
    "#### 19.  Encontre a linha onde o valor de cada coluna é máximo no dataframe8 <br>\n",
    "dataframe8<br>\n",
    "  col1 col2 col3<br>\n",
    "0   1 4 7<br>\n",
    "1   2 5 8<br>\n",
    "2   3 6 12<br>\n",
    "3   4 9 1<br>\n",
    "4   7 5 11<br>"
   ]
  },
  {
   "cell_type": "code",
   "execution_count": 21,
   "id": "2bee6143",
   "metadata": {},
   "outputs": [
    {
     "name": "stdout",
     "output_type": "stream",
     "text": [
      "DataFrame8\n",
      "   col1  col2  col3\n",
      "0     1     4     7\n",
      "1     2     5     8\n",
      "2     3     6    12\n",
      "3     4     9     1\n",
      "4     7     5    11\n",
      "Indice da linha onde a col1 tem o valor máximo:\n",
      "4\n",
      "Indice da linha onde a col2 tem o valor máximo:\n",
      "3\n",
      "Indice da linha onde a col3 tem o valor máximo:\n",
      "2\n"
     ]
    }
   ],
   "source": [
    "d = {'col1': [1, 2, 3, 4, 7], 'col2': [4, 5, 6, 9, 5], 'col3': [7, 8, 12, 1, 11]}\n",
    "df8 = pd.DataFrame(data=d)\n",
    "print(\"DataFrame8\")\n",
    "print(df8)\n",
    "print(\"Indice da linha onde a col1 tem o valor máximo:\")\n",
    "print(df8['col1'].argmax())\n",
    "print(\"Indice da linha onde a col2 tem o valor máximo:\")\n",
    "print(df8['col2'].argmax())\n",
    "print(\"Indice da linha onde a col3 tem o valor máximo:\")\n",
    "print(df8['col3'].argmax())"
   ]
  },
  {
   "cell_type": "markdown",
   "id": "c062378b",
   "metadata": {},
   "source": [
    "#### 20. Verifique se uma determinada coluna col1 e col4 estão presentes no dataframe8. <br>"
   ]
  },
  {
   "cell_type": "code",
   "execution_count": 22,
   "id": "8013b16d",
   "metadata": {},
   "outputs": [
    {
     "name": "stdout",
     "output_type": "stream",
     "text": [
      "Col4 não está presente no DataFrame8.\n",
      "Col1 está presente no DataFrame8.\n"
     ]
    }
   ],
   "source": [
    "if 'col4' in df8.columns:\n",
    "  print(\"Col4 está presente no DataFrame8.\")\n",
    "else:\n",
    "  print(\"Col4 não está presente no DataFrame8.\")\n",
    "if 'col1' in df8.columns:\n",
    "  print(\"Col1 está presente no DataFrame8.\")\n",
    "else:\n",
    "  print(\"Col1 não está presente no DataFrame8.\")"
   ]
  },
  {
   "cell_type": "markdown",
   "id": "07f79632",
   "metadata": {},
   "source": [
    "#### 21.  Anexe dados a um DataFrame vazio. <br>\n",
    "Objetivo:<br>\n",
    "col1 col2<br>\n",
    "0 0 0<br>\n",
    "1 1 1<br>\n",
    "2 2 2<br>"
   ]
  },
  {
   "cell_type": "code",
   "execution_count": 23,
   "id": "67f9638a",
   "metadata": {},
   "outputs": [
    {
     "name": "stdout",
     "output_type": "stream",
     "text": [
      "   col1  col2\n",
      "0     0     0\n",
      "1     1     1\n",
      "2     2     2\n"
     ]
    }
   ],
   "source": [
    "df = pd.DataFrame()\n",
    "data = pd.DataFrame({\"col1\": range(3),\"col2\": range(3)})\n",
    "df = pd.concat([df,data])\n",
    "print(df)"
   ]
  },
  {
   "cell_type": "markdown",
   "id": "04bcf6ca",
   "metadata": {},
   "source": [
    "#### 22.  Remova valores infinitos do DataFrame9 (devem aparecer a null)<br>\n",
    "0<br>\n",
    "0 1000,000000<br>\n",
    "1 2000,000000<br>\n",
    "2 3000,000000<br>\n",
    "3 -4000,000000<br>\n",
    "4 inf<br>\n",
    "5 -inf<br>"
   ]
  },
  {
   "cell_type": "code",
   "execution_count": 24,
   "id": "ee58f1af",
   "metadata": {},
   "outputs": [
    {
     "name": "stdout",
     "output_type": "stream",
     "text": [
      "DataFrame9:\n",
      "        0\n",
      "0  1000.0\n",
      "1  2000.0\n",
      "2  3000.0\n",
      "3 -4000.0\n",
      "4     inf\n",
      "5    -inf\n",
      "\n",
      "DataFrame9 com infinitos a null:\n",
      "        0\n",
      "0  1000.0\n",
      "1  2000.0\n",
      "2  3000.0\n",
      "3 -4000.0\n",
      "4     NaN\n",
      "5     NaN\n"
     ]
    }
   ],
   "source": [
    "df9 = pd.DataFrame([1000, 2000, 3000, -4000, np.inf, -np.inf])\n",
    "print(\"DataFrame9:\")\n",
    "print(df9)\n",
    "print(\"\\nDataFrame9 com infinitos a null:\")\n",
    "df9 = df9.replace([np.inf, -np.inf], np.nan)\n",
    "print(df9)"
   ]
  },
  {
   "cell_type": "markdown",
   "id": "e9465122",
   "metadata": {},
   "source": [
    "#### 23.  Insira a coluna col1 no local correto do DataFrame10 <br>\n",
    "col1 = [1,2,3,4,7]<br>\n",
    "DataFrame10:<br>\n",
    "col2 col3<br>\n",
    "0 4 7<br>\n",
    "1 5 8<br>\n",
    "2 6 12<br>\n",
    "3 9 1<br>\n",
    "4 5 11<br>"
   ]
  },
  {
   "cell_type": "code",
   "execution_count": 25,
   "id": "e84baa14",
   "metadata": {},
   "outputs": [
    {
     "name": "stdout",
     "output_type": "stream",
     "text": [
      "DataFrame10\n",
      "   col2  col3\n",
      "0     4     7\n",
      "1     5     8\n",
      "2     6    12\n",
      "3     9     1\n",
      "4     5    11\n",
      "\n",
      "DataFrame10_novo\n",
      "   col1  col2  col3\n",
      "0     1     4     7\n",
      "1     2     5     8\n",
      "2     3     6    12\n",
      "3     4     9     1\n",
      "4     7     5    11\n"
     ]
    }
   ],
   "source": [
    "d = {'col2': [4, 5, 6, 9, 5], 'col3': [7, 8, 12, 1, 11]}\n",
    "df10 = pd.DataFrame(data=d)\n",
    "print(\"DataFrame10\")\n",
    "print(df10)\n",
    "new_col = [1, 2, 3, 4, 7]  \n",
    "idx = 0\n",
    "df10.insert(loc=idx, column='col1', value=new_col)\n",
    "print(\"\\nDataFrame10_novo\")\n",
    "print(df10)"
   ]
  },
  {
   "cell_type": "markdown",
   "id": "d1f97ebf",
   "metadata": {},
   "source": [
    "#### 24.  Converta a seguinte lista de listas num Dataframe11. <br>\n",
    "[[2, 4], [1, 3]]<br>"
   ]
  },
  {
   "cell_type": "code",
   "execution_count": 26,
   "id": "b800dd82",
   "metadata": {},
   "outputs": [
    {
     "name": "stdout",
     "output_type": "stream",
     "text": [
      "DataFrame11\n",
      "   col1  col2\n",
      "0     0     0\n",
      "1     1     1\n",
      "2     2     2\n"
     ]
    }
   ],
   "source": [
    "my_lists = [['col1', 'col2'], [2, 4], [1, 3]]\n",
    "headers = my_lists.pop(0) \n",
    "df11 = pd.DataFrame(my_lists, columns = headers)\n",
    "print(\"DataFrame11\")\n",
    "print(df)"
   ]
  },
  {
   "cell_type": "markdown",
   "id": "86b413ca",
   "metadata": {},
   "source": [
    "#### 25.  Agrupe pela primeira coluna e obtenha a segunda coluna como listas em linhas. <br>\n",
    "DataFrame12 <br>\n",
    "col1 col2<br>\n",
    "0 C1 1<br>\n",
    "1 C1 2<br>\n",
    "2 C2 3<br>\n",
    "3 C2 3<br>\n",
    "4 C2 4<br>\n",
    "5 C3 6<br>\n",
    "6 C2 5<br>"
   ]
  },
  {
   "cell_type": "code",
   "execution_count": 27,
   "id": "1b9485e6",
   "metadata": {},
   "outputs": [
    {
     "name": "stdout",
     "output_type": "stream",
     "text": [
      "DataFrame12\n",
      "  col1  col2\n",
      "0   C1     1\n",
      "1   C1     2\n",
      "2   C2     3\n",
      "3   C2     3\n",
      "4   C2     4\n",
      "5   C3     6\n",
      "6   C2     5\n",
      "\n",
      "Agrupamento na col1:\n",
      "col1\n",
      "C1          [1, 2]\n",
      "C2    [3, 3, 4, 5]\n",
      "C3             [6]\n",
      "Name: col2, dtype: object\n"
     ]
    }
   ],
   "source": [
    "df12 = pd.DataFrame( {'col1':['C1','C1','C2','C2','C2','C3','C2'], 'col2':[1,2,3,3,4,6,5]})\n",
    "print(\"DataFrame12\")\n",
    "print(df12)\n",
    "df12 = df12.groupby('col1')['col2'].apply(list)\n",
    "print(\"\\nAgrupamento na col1:\")\n",
    "print(df12)"
   ]
  },
  {
   "cell_type": "markdown",
   "id": "32ae977e",
   "metadata": {},
   "source": [
    "#### 26.  Obtenha o índice da coluna col2 do DataFrame10. <br>"
   ]
  },
  {
   "cell_type": "code",
   "execution_count": 28,
   "id": "ee6ca387",
   "metadata": {},
   "outputs": [
    {
     "name": "stdout",
     "output_type": "stream",
     "text": [
      "1\n"
     ]
    }
   ],
   "source": [
    "print(df10.columns.get_loc(\"col2\"))"
   ]
  },
  {
   "cell_type": "markdown",
   "id": "5c39c649",
   "metadata": {},
   "source": [
    "#### 27.  Conte o número de colunas do DataFrame10. <br>"
   ]
  },
  {
   "cell_type": "code",
   "execution_count": 29,
   "id": "4f98496f",
   "metadata": {},
   "outputs": [
    {
     "name": "stdout",
     "output_type": "stream",
     "text": [
      "3\n"
     ]
    }
   ],
   "source": [
    "print(len(df10.columns))"
   ]
  },
  {
   "cell_type": "markdown",
   "id": "ea617448",
   "metadata": {},
   "source": [
    "#### 28.  Selecione todas as colunas, exceto a coluna col3 do DataFrame10. <br>"
   ]
  },
  {
   "cell_type": "code",
   "execution_count": 30,
   "id": "5803e3c1",
   "metadata": {},
   "outputs": [
    {
     "name": "stdout",
     "output_type": "stream",
     "text": [
      "   col1  col2\n",
      "0     1     4\n",
      "1     2     5\n",
      "2     3     6\n",
      "3     4     9\n",
      "4     7     5\n"
     ]
    }
   ],
   "source": [
    "df10 = df10.loc[:, df10.columns != 'col3']\n",
    "print(df10)"
   ]
  },
  {
   "cell_type": "markdown",
   "id": "e9889bdc",
   "metadata": {},
   "source": [
    "#### 29.  Obtenha os primeiros 3 registos do DataFrame10."
   ]
  },
  {
   "cell_type": "code",
   "execution_count": 31,
   "id": "d7b667ba",
   "metadata": {},
   "outputs": [
    {
     "name": "stdout",
     "output_type": "stream",
     "text": [
      "   col1  col2\n",
      "0     1     4\n",
      "1     2     5\n",
      "2     3     6\n"
     ]
    }
   ],
   "source": [
    "print(df10.head(3))"
   ]
  },
  {
   "cell_type": "markdown",
   "id": "e22f8449",
   "metadata": {},
   "source": [
    "#### 30.  Obtenha os últimos 3 registos do DataFrame10.<br>"
   ]
  },
  {
   "cell_type": "code",
   "execution_count": 32,
   "id": "d025149d",
   "metadata": {},
   "outputs": [
    {
     "name": "stdout",
     "output_type": "stream",
     "text": [
      "   col1  col2\n",
      "2     3     6\n",
      "3     4     9\n",
      "4     7     5\n"
     ]
    }
   ],
   "source": [
    "print(df10.tail(3))"
   ]
  },
  {
   "cell_type": "markdown",
   "id": "8c513664",
   "metadata": {},
   "source": [
    "#### 31.  Remova os primeiras 3 registos do DataFrame13. <br>\n",
    "DataFrame13\n",
    "col1 col2 col3<br>\n",
    "0  1 4 7<br>\n",
    "1  2 5 5<br>\n",
    "2  3 6 8<br>\n",
    "3  4 9 12<br>\n",
    "4  7 5 1<br>\n",
    "5  11 0 11<br>\n",
    "6  1 4 7<br>\n",
    "7  4 5 8<br>\n",
    "8  3 6 9<br>\n",
    "9  4 7 0<br>\n",
    "10  5 8 1<br>"
   ]
  },
  {
   "cell_type": "code",
   "execution_count": 33,
   "id": "acc566d4",
   "metadata": {},
   "outputs": [
    {
     "name": "stdout",
     "output_type": "stream",
     "text": [
      "    col1  col2  col3\n",
      "3      4     9    12\n",
      "4      7     5     1\n",
      "5     11     0    11\n",
      "6      1     4     7\n",
      "7      4     5     8\n",
      "8      3     6     9\n",
      "9      4     7     0\n",
      "10     5     8     1\n"
     ]
    }
   ],
   "source": [
    "d = {'col1': [1, 2, 3, 4, 7, 11,1, 4, 3, 4, 5], 'col2': [4, 5, 6, 9, 5, 0,4, 5, 6, 7, 8], 'col3': [7, 5, 8, 12, 1,11,7, 8, 9, 0, 1]}\n",
    "df13 = pd.DataFrame(data=d)\n",
    "df13 = df13.iloc[3:]\n",
    "print(df13)"
   ]
  },
  {
   "cell_type": "markdown",
   "id": "a5bcd0b0",
   "metadata": {},
   "source": [
    "#### 32.  Remova os últimos 3 registos do DataFrame13.<br>"
   ]
  },
  {
   "cell_type": "code",
   "execution_count": 34,
   "id": "8886f6f2",
   "metadata": {},
   "outputs": [
    {
     "name": "stdout",
     "output_type": "stream",
     "text": [
      "   col1  col2  col3\n",
      "3     4     9    12\n",
      "4     7     5     1\n",
      "5    11     0    11\n"
     ]
    }
   ],
   "source": [
    "df13 = df13.iloc[:3]\n",
    "print(df13)"
   ]
  },
  {
   "cell_type": "markdown",
   "id": "bccbe73c",
   "metadata": {},
   "source": [
    "#### 33.  Adicione um prefixo(A_) ou sufixo(_1) ao nome de todas as colunas do DataFrame14. <br>\n",
    "W X Y Z<br>\n",
    "0 68 78 84 86<br>\n",
    "1 75 85 94 97<br>\n",
    "2 86 96 89 96<br>\n",
    "3 80 80 83 72<br>\n",
    "4 66 86 86 83<br>"
   ]
  },
  {
   "cell_type": "code",
   "execution_count": 35,
   "id": "a75dae82",
   "metadata": {},
   "outputs": [
    {
     "name": "stdout",
     "output_type": "stream",
     "text": [
      "   A_W_1  A_X_1  A_Y_1  A_Z_1\n",
      "0     68     78     84     86\n",
      "1     75     85     94     97\n",
      "2     86     96     89     96\n",
      "3     80     80     83     72\n",
      "4     66     86     86     83\n"
     ]
    }
   ],
   "source": [
    "df14 = pd.DataFrame({'W':[68,75,86,80,66],'X':[78,85,96,80,86], 'Y':[84,94,89,83,86],'Z':[86,97,96,72,83]});\n",
    "df14 = df14.add_prefix(\"A_\")\n",
    "df14 = df14.add_suffix(\"_1\")\n",
    "print(df14)"
   ]
  },
  {
   "cell_type": "markdown",
   "id": "088aef55",
   "metadata": {},
   "source": [
    "#### 34.  Inverta a ordem das linhas e depois das colunas do DataFrame14. <br>"
   ]
  },
  {
   "cell_type": "code",
   "execution_count": 36,
   "id": "a4267f67",
   "metadata": {},
   "outputs": [
    {
     "name": "stdout",
     "output_type": "stream",
     "text": [
      "inverter ordem da coluna\n",
      "   A_Z_1  A_Y_1  A_X_1  A_W_1\n",
      "0     86     84     78     68\n",
      "1     97     94     85     75\n",
      "2     96     89     96     86\n",
      "3     72     83     80     80\n",
      "4     83     86     86     66\n",
      "inverter ordem da linha\n",
      "   A_W_1  A_X_1  A_Y_1  A_Z_1\n",
      "4     66     86     86     83\n",
      "3     80     80     83     72\n",
      "2     86     96     89     96\n",
      "1     75     85     94     97\n",
      "0     68     78     84     86\n",
      "inverter ordem da coluna e fazer reset ao indíce\n",
      "   A_W_1  A_X_1  A_Y_1  A_Z_1\n",
      "0     66     86     86     83\n",
      "1     80     80     83     72\n",
      "2     86     96     89     96\n",
      "3     75     85     94     97\n",
      "4     68     78     84     86\n"
     ]
    }
   ],
   "source": [
    "print('inverter ordem da coluna')\n",
    "print(df14.loc[:, ::-1])\n",
    "print('inverter ordem da linha')\n",
    "print(df14.loc[::-1])\n",
    "print('inverter ordem da coluna e fazer reset ao indíce')\n",
    "print(df14.loc[::-1].reset_index(drop = True))"
   ]
  },
  {
   "cell_type": "markdown",
   "id": "f7590f8a",
   "metadata": {},
   "source": [
    "#### 35.  Selecione colunas por tipo de dados do DataFrame15. <br>\n",
    "DataFrame15\n",
    "{<br>\n",
    "    'nome': ['Alberto Franco','Gino Mcneill','Ryan Parkes', 'Eesha Hinton', 'Syed Wharton'],<br>\n",
    "    'data_de_nascimento': ['17/05/2002','16/02/1999','25/09/1998','11/05/2002','15/09/1997'],<br>\n",
    "    'idade': [18.5, 21.2, 22.5, 22, 23]<br>\n",
    "}"
   ]
  },
  {
   "cell_type": "code",
   "execution_count": 37,
   "id": "785f1659",
   "metadata": {},
   "outputs": [
    {
     "name": "stdout",
     "output_type": "stream",
     "text": [
      "DataFrame15\n",
      "            Nome  Data_De_Nascimento   Idade \n",
      "0  Alberto Franco          17/05/2002    18.5\n",
      "1    Gino Mcneill          16/02/1999    21.2\n",
      "2     Ryan Parkes          25/09/1998    22.5\n",
      "3    Eesha Hinton          11/05/2002    22.0\n",
      "4    Syed Wharton          15/09/1997    23.0\n",
      "\n",
      "Seleção de colunas numéricas\n",
      "   Idade \n",
      "0    18.5\n",
      "1    21.2\n",
      "2    22.5\n",
      "3    22.0\n",
      "4    23.0\n",
      "\n",
      "Seleção de colunas não numéricas\n",
      "            Nome  Data_De_Nascimento \n",
      "0  Alberto Franco          17/05/2002\n",
      "1    Gino Mcneill          16/02/1999\n",
      "2     Ryan Parkes          25/09/1998\n",
      "3    Eesha Hinton          11/05/2002\n",
      "4    Syed Wharton          15/09/1997\n"
     ]
    }
   ],
   "source": [
    "df15 = pd.DataFrame({\n",
    "    'Nome ': ['Alberto Franco','Gino Mcneill','Ryan Parkes', 'Eesha Hinton', 'Syed Wharton'],\n",
    "    'Data_De_Nascimento ': ['17/05/2002','16/02/1999','25/09/1998','11/05/2002','15/09/1997'],\n",
    "    'Idade ': [18.5, 21.2, 22.5, 22, 23]\n",
    "})\n",
    "\n",
    "print(\"DataFrame15\")\n",
    "print(df15)\n",
    "print(\"\\nSeleção de colunas numéricas\")\n",
    "print(df15.select_dtypes(include = \"number\"))\n",
    "print(\"\\nSeleção de colunas não numéricas\")\n",
    "print(df15.select_dtypes(include = \"object\"))"
   ]
  },
  {
   "cell_type": "markdown",
   "id": "81d8ac6c",
   "metadata": {},
   "source": [
    "#### 36.  Renomeie todas as colunas do DataFrame15: remova o espaço em branco à direita (no final) e converta para letras minúsculas o nome das colunas.<br>"
   ]
  },
  {
   "cell_type": "code",
   "execution_count": 38,
   "id": "3790ba3d",
   "metadata": {},
   "outputs": [
    {
     "name": "stdout",
     "output_type": "stream",
     "text": [
      "DataFrame15\n",
      "            Nome  Data_De_Nascimento   Idade \n",
      "0  Alberto Franco          17/05/2002    18.5\n",
      "1    Gino Mcneill          16/02/1999    21.2\n",
      "2     Ryan Parkes          25/09/1998    22.5\n",
      "3    Eesha Hinton          11/05/2002    22.0\n",
      "4    Syed Wharton          15/09/1997    23.0\n",
      "             nome data_de_nascimento  idade\n",
      "0  Alberto Franco         17/05/2002   18.5\n",
      "1    Gino Mcneill         16/02/1999   21.2\n",
      "2     Ryan Parkes         25/09/1998   22.5\n",
      "3    Eesha Hinton         11/05/2002   22.0\n",
      "4    Syed Wharton         15/09/1997   23.0\n"
     ]
    }
   ],
   "source": [
    "print(\"DataFrame15\")\n",
    "print(df15)\n",
    "df15.columns = df15.columns.str.lower().str.rstrip()\n",
    "#lower para colocar tudo em minusculas\n",
    "#rstrip remove caracteres brancos à direita -> lstrip à espquerda\n",
    "print(df15.head())\n"
   ]
  },
  {
   "cell_type": "markdown",
   "id": "ca016b3f",
   "metadata": {},
   "source": [
    "#### 37.  Exiba o uso de memória do DataFrame15 e de cada coluna do DataFrame15. <br>"
   ]
  },
  {
   "cell_type": "code",
   "execution_count": 39,
   "id": "b2b2cb47",
   "metadata": {},
   "outputs": [
    {
     "name": "stdout",
     "output_type": "stream",
     "text": [
      "\n",
      "Uso global de memória do DataFrame15:\n",
      "<class 'pandas.core.frame.DataFrame'>\n",
      "RangeIndex: 5 entries, 0 to 4\n",
      "Data columns (total 3 columns):\n",
      " #   Column              Non-Null Count  Dtype  \n",
      "---  ------              --------------  -----  \n",
      " 0   nome                5 non-null      object \n",
      " 1   data_de_nascimento  5 non-null      object \n",
      " 2   idade               5 non-null      float64\n",
      "dtypes: float64(1), object(2)\n",
      "memory usage: 849.0 bytes\n",
      "None\n",
      "\n",
      "Uso de memória de cada coluna do DataFrame15:\n",
      "Index                 128\n",
      "nome                  346\n",
      "data_de_nascimento    335\n",
      "idade                  40\n",
      "dtype: int64\n"
     ]
    }
   ],
   "source": [
    "print(\"\\nUso global de memória do DataFrame15:\")\n",
    "print(df15.info(memory_usage = \"deep\"))\n",
    "print(\"\\nUso de memória de cada coluna do DataFrame15:\")\n",
    "print(df15.memory_usage(deep = True))"
   ]
  },
  {
   "cell_type": "markdown",
   "id": "d1cef732",
   "metadata": {},
   "source": [
    "#### 38.  Combine várias séries para criar um DataFrame. <br>\n",
    "Sr1:<br>\n",
    "0 php<br>\n",
    "1 python<br>\n",
    "2 java<br>\n",
    "3c#<br>\n",
    "4c++<br>\n",
    "<br>\n",
    "Sr2:<br>\n",
    "0 1<br>\n",
    "1 2<br>\n",
    "2 3<br>\n",
    "3 4<br>\n",
    "4 5<br>"
   ]
  },
  {
   "cell_type": "code",
   "execution_count": 40,
   "id": "b688f011",
   "metadata": {},
   "outputs": [
    {
     "name": "stdout",
     "output_type": "stream",
     "text": [
      "Séries originais:\n",
      "0       php\n",
      "1    python\n",
      "2      java\n",
      "3        c#\n",
      "4       c++\n",
      "dtype: object\n",
      "0    1\n",
      "1    2\n",
      "2    3\n",
      "3    4\n",
      "4    5\n",
      "dtype: int64\n",
      "Combinar as duas séries num DataFrame:\n",
      "   index       0\n",
      "0      1  python\n",
      "1      2    java\n",
      "2      3      c#\n",
      "3      4     c++\n",
      "4      5     NaN\n",
      "\n",
      "Recorrendo ao concat:\n",
      "        0  1\n",
      "0     php  1\n",
      "1  python  2\n",
      "2    java  3\n",
      "3      c#  4\n",
      "4     c++  5\n",
      "\n",
      "Recorrerndo ao DataFrame usando um dicionário, dá um nome específico às colunas:\n",
      "     col1  col2\n",
      "0     php     1\n",
      "1  python     2\n",
      "2    java     3\n",
      "3      c#     4\n",
      "4     c++     5\n"
     ]
    }
   ],
   "source": [
    "sr1 = pd.Series(['php', 'python', 'java', 'c#', 'c++'])\n",
    "sr2 = pd.Series([1, 2, 3, 4, 5])\n",
    "print(\"Séries originais:\")\n",
    "print(sr1)\n",
    "print(sr2)\n",
    "print(\"Combinar as duas séries num DataFrame:\")\n",
    "ser_df = pd.DataFrame(sr1, sr2).reset_index()\n",
    "print(ser_df.head())\n",
    "print(\"\\nRecorrendo ao concat:\")\n",
    "ser_df = pd.concat([sr1, sr2], axis = 1)\n",
    "print(ser_df.head())\n",
    "print(\"\\nRecorrerndo ao DataFrame usando um dicionário, dá um nome específico às colunas:\")\n",
    "ser_df = pd.DataFrame({\"col1\":sr1, \"col2\":sr2})\n",
    "print(ser_df.head(5))"
   ]
  },
  {
   "cell_type": "code",
   "execution_count": null,
   "id": "e71a2e86",
   "metadata": {},
   "outputs": [],
   "source": []
  }
 ],
 "metadata": {
  "kernelspec": {
   "display_name": "Python 3 (ipykernel)",
   "language": "python",
   "name": "python3"
  },
  "language_info": {
   "codemirror_mode": {
    "name": "ipython",
    "version": 3
   },
   "file_extension": ".py",
   "mimetype": "text/x-python",
   "name": "python",
   "nbconvert_exporter": "python",
   "pygments_lexer": "ipython3",
   "version": "3.9.13"
  }
 },
 "nbformat": 4,
 "nbformat_minor": 5
}
